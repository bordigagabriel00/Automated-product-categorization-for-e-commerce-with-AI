{
 "cells": [
  {
   "cell_type": "code",
   "execution_count": null,
   "metadata": {
    "colab": {
     "base_uri": "https://localhost:8080/"
    },
    "executionInfo": {
     "elapsed": 85123,
     "status": "ok",
     "timestamp": 1711124789596,
     "user": {
      "displayName": "martin mora lopez",
      "userId": "11892096964695298240"
     },
     "user_tz": 360
    },
    "id": "2ycl7JuL0anp",
    "outputId": "3cc20ae6-1f7d-4dff-d5e5-6776b863068a"
   },
   "outputs": [
    {
     "name": "stdout",
     "output_type": "stream",
     "text": [
      "Requirement already satisfied: transformers in /usr/local/lib/python3.10/dist-packages (4.38.2)\n",
      "Requirement already satisfied: filelock in /usr/local/lib/python3.10/dist-packages (from transformers) (3.13.1)\n",
      "Requirement already satisfied: huggingface-hub<1.0,>=0.19.3 in /usr/local/lib/python3.10/dist-packages (from transformers) (0.20.3)\n",
      "Requirement already satisfied: numpy>=1.17 in /usr/local/lib/python3.10/dist-packages (from transformers) (1.25.2)\n",
      "Requirement already satisfied: packaging>=20.0 in /usr/local/lib/python3.10/dist-packages (from transformers) (24.0)\n",
      "Requirement already satisfied: pyyaml>=5.1 in /usr/local/lib/python3.10/dist-packages (from transformers) (6.0.1)\n",
      "Requirement already satisfied: regex!=2019.12.17 in /usr/local/lib/python3.10/dist-packages (from transformers) (2023.12.25)\n",
      "Requirement already satisfied: requests in /usr/local/lib/python3.10/dist-packages (from transformers) (2.31.0)\n",
      "Requirement already satisfied: tokenizers<0.19,>=0.14 in /usr/local/lib/python3.10/dist-packages (from transformers) (0.15.2)\n",
      "Requirement already satisfied: safetensors>=0.4.1 in /usr/local/lib/python3.10/dist-packages (from transformers) (0.4.2)\n",
      "Requirement already satisfied: tqdm>=4.27 in /usr/local/lib/python3.10/dist-packages (from transformers) (4.66.2)\n",
      "Requirement already satisfied: fsspec>=2023.5.0 in /usr/local/lib/python3.10/dist-packages (from huggingface-hub<1.0,>=0.19.3->transformers) (2023.6.0)\n",
      "Requirement already satisfied: typing-extensions>=3.7.4.3 in /usr/local/lib/python3.10/dist-packages (from huggingface-hub<1.0,>=0.19.3->transformers) (4.10.0)\n",
      "Requirement already satisfied: charset-normalizer<4,>=2 in /usr/local/lib/python3.10/dist-packages (from requests->transformers) (3.3.2)\n",
      "Requirement already satisfied: idna<4,>=2.5 in /usr/local/lib/python3.10/dist-packages (from requests->transformers) (3.6)\n",
      "Requirement already satisfied: urllib3<3,>=1.21.1 in /usr/local/lib/python3.10/dist-packages (from requests->transformers) (2.0.7)\n",
      "Requirement already satisfied: certifi>=2017.4.17 in /usr/local/lib/python3.10/dist-packages (from requests->transformers) (2024.2.2)\n",
      "Requirement already satisfied: torch in /usr/local/lib/python3.10/dist-packages (2.2.1+cu121)\n",
      "Requirement already satisfied: filelock in /usr/local/lib/python3.10/dist-packages (from torch) (3.13.1)\n",
      "Requirement already satisfied: typing-extensions>=4.8.0 in /usr/local/lib/python3.10/dist-packages (from torch) (4.10.0)\n",
      "Requirement already satisfied: sympy in /usr/local/lib/python3.10/dist-packages (from torch) (1.12)\n",
      "Requirement already satisfied: networkx in /usr/local/lib/python3.10/dist-packages (from torch) (3.2.1)\n",
      "Requirement already satisfied: jinja2 in /usr/local/lib/python3.10/dist-packages (from torch) (3.1.3)\n",
      "Requirement already satisfied: fsspec in /usr/local/lib/python3.10/dist-packages (from torch) (2023.6.0)\n",
      "Collecting nvidia-cuda-nvrtc-cu12==12.1.105 (from torch)\n",
      "  Downloading nvidia_cuda_nvrtc_cu12-12.1.105-py3-none-manylinux1_x86_64.whl (23.7 MB)\n",
      "\u001b[2K     \u001b[90m━━━━━━━━━━━━━━━━━━━━━━━━━━━━━━━━━━━━━━━━\u001b[0m \u001b[32m23.7/23.7 MB\u001b[0m \u001b[31m62.1 MB/s\u001b[0m eta \u001b[36m0:00:00\u001b[0m\n",
      "\u001b[?25hCollecting nvidia-cuda-runtime-cu12==12.1.105 (from torch)\n",
      "  Downloading nvidia_cuda_runtime_cu12-12.1.105-py3-none-manylinux1_x86_64.whl (823 kB)\n",
      "\u001b[2K     \u001b[90m━━━━━━━━━━━━━━━━━━━━━━━━━━━━━━━━━━━━━━━━\u001b[0m \u001b[32m823.6/823.6 kB\u001b[0m \u001b[31m43.0 MB/s\u001b[0m eta \u001b[36m0:00:00\u001b[0m\n",
      "\u001b[?25hCollecting nvidia-cuda-cupti-cu12==12.1.105 (from torch)\n",
      "  Downloading nvidia_cuda_cupti_cu12-12.1.105-py3-none-manylinux1_x86_64.whl (14.1 MB)\n",
      "\u001b[2K     \u001b[90m━━━━━━━━━━━━━━━━━━━━━━━━━━━━━━━━━━━━━━━━\u001b[0m \u001b[32m14.1/14.1 MB\u001b[0m \u001b[31m68.8 MB/s\u001b[0m eta \u001b[36m0:00:00\u001b[0m\n",
      "\u001b[?25hCollecting nvidia-cudnn-cu12==8.9.2.26 (from torch)\n",
      "  Downloading nvidia_cudnn_cu12-8.9.2.26-py3-none-manylinux1_x86_64.whl (731.7 MB)\n",
      "\u001b[2K     \u001b[90m━━━━━━━━━━━━━━━━━━━━━━━━━━━━━━━━━━━━━━━━\u001b[0m \u001b[32m731.7/731.7 MB\u001b[0m \u001b[31m1.5 MB/s\u001b[0m eta \u001b[36m0:00:00\u001b[0m\n",
      "\u001b[?25hCollecting nvidia-cublas-cu12==12.1.3.1 (from torch)\n",
      "  Downloading nvidia_cublas_cu12-12.1.3.1-py3-none-manylinux1_x86_64.whl (410.6 MB)\n",
      "\u001b[2K     \u001b[90m━━━━━━━━━━━━━━━━━━━━━━━━━━━━━━━━━━━━━━━━\u001b[0m \u001b[32m410.6/410.6 MB\u001b[0m \u001b[31m2.2 MB/s\u001b[0m eta \u001b[36m0:00:00\u001b[0m\n",
      "\u001b[?25hCollecting nvidia-cufft-cu12==11.0.2.54 (from torch)\n",
      "  Downloading nvidia_cufft_cu12-11.0.2.54-py3-none-manylinux1_x86_64.whl (121.6 MB)\n",
      "\u001b[2K     \u001b[90m━━━━━━━━━━━━━━━━━━━━━━━━━━━━━━━━━━━━━━━━\u001b[0m \u001b[32m121.6/121.6 MB\u001b[0m \u001b[31m13.8 MB/s\u001b[0m eta \u001b[36m0:00:00\u001b[0m\n",
      "\u001b[?25hCollecting nvidia-curand-cu12==10.3.2.106 (from torch)\n",
      "  Downloading nvidia_curand_cu12-10.3.2.106-py3-none-manylinux1_x86_64.whl (56.5 MB)\n",
      "\u001b[2K     \u001b[90m━━━━━━━━━━━━━━━━━━━━━━━━━━━━━━━━━━━━━━━━\u001b[0m \u001b[32m56.5/56.5 MB\u001b[0m \u001b[31m28.6 MB/s\u001b[0m eta \u001b[36m0:00:00\u001b[0m\n",
      "\u001b[?25hCollecting nvidia-cusolver-cu12==11.4.5.107 (from torch)\n",
      "  Downloading nvidia_cusolver_cu12-11.4.5.107-py3-none-manylinux1_x86_64.whl (124.2 MB)\n",
      "\u001b[2K     \u001b[90m━━━━━━━━━━━━━━━━━━━━━━━━━━━━━━━━━━━━━━━━\u001b[0m \u001b[32m124.2/124.2 MB\u001b[0m \u001b[31m12.2 MB/s\u001b[0m eta \u001b[36m0:00:00\u001b[0m\n",
      "\u001b[?25hCollecting nvidia-cusparse-cu12==12.1.0.106 (from torch)\n",
      "  Downloading nvidia_cusparse_cu12-12.1.0.106-py3-none-manylinux1_x86_64.whl (196.0 MB)\n",
      "\u001b[2K     \u001b[90m━━━━━━━━━━━━━━━━━━━━━━━━━━━━━━━━━━━━━━━━\u001b[0m \u001b[32m196.0/196.0 MB\u001b[0m \u001b[31m8.5 MB/s\u001b[0m eta \u001b[36m0:00:00\u001b[0m\n",
      "\u001b[?25hCollecting nvidia-nccl-cu12==2.19.3 (from torch)\n",
      "  Downloading nvidia_nccl_cu12-2.19.3-py3-none-manylinux1_x86_64.whl (166.0 MB)\n",
      "\u001b[2K     \u001b[90m━━━━━━━━━━━━━━━━━━━━━━━━━━━━━━━━━━━━━━━━\u001b[0m \u001b[32m166.0/166.0 MB\u001b[0m \u001b[31m5.3 MB/s\u001b[0m eta \u001b[36m0:00:00\u001b[0m\n",
      "\u001b[?25hCollecting nvidia-nvtx-cu12==12.1.105 (from torch)\n",
      "  Downloading nvidia_nvtx_cu12-12.1.105-py3-none-manylinux1_x86_64.whl (99 kB)\n",
      "\u001b[2K     \u001b[90m━━━━━━━━━━━━━━━━━━━━━━━━━━━━━━━━━━━━━━━━\u001b[0m \u001b[32m99.1/99.1 kB\u001b[0m \u001b[31m13.7 MB/s\u001b[0m eta \u001b[36m0:00:00\u001b[0m\n",
      "\u001b[?25hRequirement already satisfied: triton==2.2.0 in /usr/local/lib/python3.10/dist-packages (from torch) (2.2.0)\n",
      "Collecting nvidia-nvjitlink-cu12 (from nvidia-cusolver-cu12==11.4.5.107->torch)\n",
      "  Downloading nvidia_nvjitlink_cu12-12.4.99-py3-none-manylinux2014_x86_64.whl (21.1 MB)\n",
      "\u001b[2K     \u001b[90m━━━━━━━━━━━━━━━━━━━━━━━━━━━━━━━━━━━━━━━━\u001b[0m \u001b[32m21.1/21.1 MB\u001b[0m \u001b[31m58.1 MB/s\u001b[0m eta \u001b[36m0:00:00\u001b[0m\n",
      "\u001b[?25hRequirement already satisfied: MarkupSafe>=2.0 in /usr/local/lib/python3.10/dist-packages (from jinja2->torch) (2.1.5)\n",
      "Requirement already satisfied: mpmath>=0.19 in /usr/local/lib/python3.10/dist-packages (from sympy->torch) (1.3.0)\n",
      "Installing collected packages: nvidia-nvtx-cu12, nvidia-nvjitlink-cu12, nvidia-nccl-cu12, nvidia-curand-cu12, nvidia-cufft-cu12, nvidia-cuda-runtime-cu12, nvidia-cuda-nvrtc-cu12, nvidia-cuda-cupti-cu12, nvidia-cublas-cu12, nvidia-cusparse-cu12, nvidia-cudnn-cu12, nvidia-cusolver-cu12\n",
      "Successfully installed nvidia-cublas-cu12-12.1.3.1 nvidia-cuda-cupti-cu12-12.1.105 nvidia-cuda-nvrtc-cu12-12.1.105 nvidia-cuda-runtime-cu12-12.1.105 nvidia-cudnn-cu12-8.9.2.26 nvidia-cufft-cu12-11.0.2.54 nvidia-curand-cu12-10.3.2.106 nvidia-cusolver-cu12-11.4.5.107 nvidia-cusparse-cu12-12.1.0.106 nvidia-nccl-cu12-2.19.3 nvidia-nvjitlink-cu12-12.4.99 nvidia-nvtx-cu12-12.1.105\n",
      "Requirement already satisfied: transformers[torch] in /usr/local/lib/python3.10/dist-packages (4.38.2)\n",
      "Requirement already satisfied: filelock in /usr/local/lib/python3.10/dist-packages (from transformers[torch]) (3.13.1)\n",
      "Requirement already satisfied: huggingface-hub<1.0,>=0.19.3 in /usr/local/lib/python3.10/dist-packages (from transformers[torch]) (0.20.3)\n",
      "Requirement already satisfied: numpy>=1.17 in /usr/local/lib/python3.10/dist-packages (from transformers[torch]) (1.25.2)\n",
      "Requirement already satisfied: packaging>=20.0 in /usr/local/lib/python3.10/dist-packages (from transformers[torch]) (24.0)\n",
      "Requirement already satisfied: pyyaml>=5.1 in /usr/local/lib/python3.10/dist-packages (from transformers[torch]) (6.0.1)\n",
      "Requirement already satisfied: regex!=2019.12.17 in /usr/local/lib/python3.10/dist-packages (from transformers[torch]) (2023.12.25)\n",
      "Requirement already satisfied: requests in /usr/local/lib/python3.10/dist-packages (from transformers[torch]) (2.31.0)\n",
      "Requirement already satisfied: tokenizers<0.19,>=0.14 in /usr/local/lib/python3.10/dist-packages (from transformers[torch]) (0.15.2)\n",
      "Requirement already satisfied: safetensors>=0.4.1 in /usr/local/lib/python3.10/dist-packages (from transformers[torch]) (0.4.2)\n",
      "Requirement already satisfied: tqdm>=4.27 in /usr/local/lib/python3.10/dist-packages (from transformers[torch]) (4.66.2)\n",
      "Requirement already satisfied: torch in /usr/local/lib/python3.10/dist-packages (from transformers[torch]) (2.2.1+cu121)\n",
      "Collecting accelerate>=0.21.0 (from transformers[torch])\n",
      "  Downloading accelerate-0.28.0-py3-none-any.whl (290 kB)\n",
      "\u001b[2K     \u001b[90m━━━━━━━━━━━━━━━━━━━━━━━━━━━━━━━━━━━━━━━━\u001b[0m \u001b[32m290.1/290.1 kB\u001b[0m \u001b[31m6.3 MB/s\u001b[0m eta \u001b[36m0:00:00\u001b[0m\n",
      "\u001b[?25hRequirement already satisfied: psutil in /usr/local/lib/python3.10/dist-packages (from accelerate>=0.21.0->transformers[torch]) (5.9.5)\n",
      "Requirement already satisfied: fsspec>=2023.5.0 in /usr/local/lib/python3.10/dist-packages (from huggingface-hub<1.0,>=0.19.3->transformers[torch]) (2023.6.0)\n",
      "Requirement already satisfied: typing-extensions>=3.7.4.3 in /usr/local/lib/python3.10/dist-packages (from huggingface-hub<1.0,>=0.19.3->transformers[torch]) (4.10.0)\n",
      "Requirement already satisfied: sympy in /usr/local/lib/python3.10/dist-packages (from torch->transformers[torch]) (1.12)\n",
      "Requirement already satisfied: networkx in /usr/local/lib/python3.10/dist-packages (from torch->transformers[torch]) (3.2.1)\n",
      "Requirement already satisfied: jinja2 in /usr/local/lib/python3.10/dist-packages (from torch->transformers[torch]) (3.1.3)\n",
      "Requirement already satisfied: nvidia-cuda-nvrtc-cu12==12.1.105 in /usr/local/lib/python3.10/dist-packages (from torch->transformers[torch]) (12.1.105)\n",
      "Requirement already satisfied: nvidia-cuda-runtime-cu12==12.1.105 in /usr/local/lib/python3.10/dist-packages (from torch->transformers[torch]) (12.1.105)\n",
      "Requirement already satisfied: nvidia-cuda-cupti-cu12==12.1.105 in /usr/local/lib/python3.10/dist-packages (from torch->transformers[torch]) (12.1.105)\n",
      "Requirement already satisfied: nvidia-cudnn-cu12==8.9.2.26 in /usr/local/lib/python3.10/dist-packages (from torch->transformers[torch]) (8.9.2.26)\n",
      "Requirement already satisfied: nvidia-cublas-cu12==12.1.3.1 in /usr/local/lib/python3.10/dist-packages (from torch->transformers[torch]) (12.1.3.1)\n",
      "Requirement already satisfied: nvidia-cufft-cu12==11.0.2.54 in /usr/local/lib/python3.10/dist-packages (from torch->transformers[torch]) (11.0.2.54)\n",
      "Requirement already satisfied: nvidia-curand-cu12==10.3.2.106 in /usr/local/lib/python3.10/dist-packages (from torch->transformers[torch]) (10.3.2.106)\n",
      "Requirement already satisfied: nvidia-cusolver-cu12==11.4.5.107 in /usr/local/lib/python3.10/dist-packages (from torch->transformers[torch]) (11.4.5.107)\n",
      "Requirement already satisfied: nvidia-cusparse-cu12==12.1.0.106 in /usr/local/lib/python3.10/dist-packages (from torch->transformers[torch]) (12.1.0.106)\n",
      "Requirement already satisfied: nvidia-nccl-cu12==2.19.3 in /usr/local/lib/python3.10/dist-packages (from torch->transformers[torch]) (2.19.3)\n",
      "Requirement already satisfied: nvidia-nvtx-cu12==12.1.105 in /usr/local/lib/python3.10/dist-packages (from torch->transformers[torch]) (12.1.105)\n",
      "Requirement already satisfied: triton==2.2.0 in /usr/local/lib/python3.10/dist-packages (from torch->transformers[torch]) (2.2.0)\n",
      "Requirement already satisfied: nvidia-nvjitlink-cu12 in /usr/local/lib/python3.10/dist-packages (from nvidia-cusolver-cu12==11.4.5.107->torch->transformers[torch]) (12.4.99)\n",
      "Requirement already satisfied: charset-normalizer<4,>=2 in /usr/local/lib/python3.10/dist-packages (from requests->transformers[torch]) (3.3.2)\n",
      "Requirement already satisfied: idna<4,>=2.5 in /usr/local/lib/python3.10/dist-packages (from requests->transformers[torch]) (3.6)\n",
      "Requirement already satisfied: urllib3<3,>=1.21.1 in /usr/local/lib/python3.10/dist-packages (from requests->transformers[torch]) (2.0.7)\n",
      "Requirement already satisfied: certifi>=2017.4.17 in /usr/local/lib/python3.10/dist-packages (from requests->transformers[torch]) (2024.2.2)\n",
      "Requirement already satisfied: MarkupSafe>=2.0 in /usr/local/lib/python3.10/dist-packages (from jinja2->torch->transformers[torch]) (2.1.5)\n",
      "Requirement already satisfied: mpmath>=0.19 in /usr/local/lib/python3.10/dist-packages (from sympy->torch->transformers[torch]) (1.3.0)\n",
      "Installing collected packages: accelerate\n",
      "Successfully installed accelerate-0.28.0\n",
      "Requirement already satisfied: accelerate in /usr/local/lib/python3.10/dist-packages (0.28.0)\n",
      "Requirement already satisfied: numpy>=1.17 in /usr/local/lib/python3.10/dist-packages (from accelerate) (1.25.2)\n",
      "Requirement already satisfied: packaging>=20.0 in /usr/local/lib/python3.10/dist-packages (from accelerate) (24.0)\n",
      "Requirement already satisfied: psutil in /usr/local/lib/python3.10/dist-packages (from accelerate) (5.9.5)\n",
      "Requirement already satisfied: pyyaml in /usr/local/lib/python3.10/dist-packages (from accelerate) (6.0.1)\n",
      "Requirement already satisfied: torch>=1.10.0 in /usr/local/lib/python3.10/dist-packages (from accelerate) (2.2.1+cu121)\n",
      "Requirement already satisfied: huggingface-hub in /usr/local/lib/python3.10/dist-packages (from accelerate) (0.20.3)\n",
      "Requirement already satisfied: safetensors>=0.3.1 in /usr/local/lib/python3.10/dist-packages (from accelerate) (0.4.2)\n",
      "Requirement already satisfied: filelock in /usr/local/lib/python3.10/dist-packages (from torch>=1.10.0->accelerate) (3.13.1)\n",
      "Requirement already satisfied: typing-extensions>=4.8.0 in /usr/local/lib/python3.10/dist-packages (from torch>=1.10.0->accelerate) (4.10.0)\n",
      "Requirement already satisfied: sympy in /usr/local/lib/python3.10/dist-packages (from torch>=1.10.0->accelerate) (1.12)\n",
      "Requirement already satisfied: networkx in /usr/local/lib/python3.10/dist-packages (from torch>=1.10.0->accelerate) (3.2.1)\n",
      "Requirement already satisfied: jinja2 in /usr/local/lib/python3.10/dist-packages (from torch>=1.10.0->accelerate) (3.1.3)\n",
      "Requirement already satisfied: fsspec in /usr/local/lib/python3.10/dist-packages (from torch>=1.10.0->accelerate) (2023.6.0)\n",
      "Requirement already satisfied: nvidia-cuda-nvrtc-cu12==12.1.105 in /usr/local/lib/python3.10/dist-packages (from torch>=1.10.0->accelerate) (12.1.105)\n",
      "Requirement already satisfied: nvidia-cuda-runtime-cu12==12.1.105 in /usr/local/lib/python3.10/dist-packages (from torch>=1.10.0->accelerate) (12.1.105)\n",
      "Requirement already satisfied: nvidia-cuda-cupti-cu12==12.1.105 in /usr/local/lib/python3.10/dist-packages (from torch>=1.10.0->accelerate) (12.1.105)\n",
      "Requirement already satisfied: nvidia-cudnn-cu12==8.9.2.26 in /usr/local/lib/python3.10/dist-packages (from torch>=1.10.0->accelerate) (8.9.2.26)\n",
      "Requirement already satisfied: nvidia-cublas-cu12==12.1.3.1 in /usr/local/lib/python3.10/dist-packages (from torch>=1.10.0->accelerate) (12.1.3.1)\n",
      "Requirement already satisfied: nvidia-cufft-cu12==11.0.2.54 in /usr/local/lib/python3.10/dist-packages (from torch>=1.10.0->accelerate) (11.0.2.54)\n",
      "Requirement already satisfied: nvidia-curand-cu12==10.3.2.106 in /usr/local/lib/python3.10/dist-packages (from torch>=1.10.0->accelerate) (10.3.2.106)\n",
      "Requirement already satisfied: nvidia-cusolver-cu12==11.4.5.107 in /usr/local/lib/python3.10/dist-packages (from torch>=1.10.0->accelerate) (11.4.5.107)\n",
      "Requirement already satisfied: nvidia-cusparse-cu12==12.1.0.106 in /usr/local/lib/python3.10/dist-packages (from torch>=1.10.0->accelerate) (12.1.0.106)\n",
      "Requirement already satisfied: nvidia-nccl-cu12==2.19.3 in /usr/local/lib/python3.10/dist-packages (from torch>=1.10.0->accelerate) (2.19.3)\n",
      "Requirement already satisfied: nvidia-nvtx-cu12==12.1.105 in /usr/local/lib/python3.10/dist-packages (from torch>=1.10.0->accelerate) (12.1.105)\n",
      "Requirement already satisfied: triton==2.2.0 in /usr/local/lib/python3.10/dist-packages (from torch>=1.10.0->accelerate) (2.2.0)\n",
      "Requirement already satisfied: nvidia-nvjitlink-cu12 in /usr/local/lib/python3.10/dist-packages (from nvidia-cusolver-cu12==11.4.5.107->torch>=1.10.0->accelerate) (12.4.99)\n",
      "Requirement already satisfied: requests in /usr/local/lib/python3.10/dist-packages (from huggingface-hub->accelerate) (2.31.0)\n",
      "Requirement already satisfied: tqdm>=4.42.1 in /usr/local/lib/python3.10/dist-packages (from huggingface-hub->accelerate) (4.66.2)\n",
      "Requirement already satisfied: MarkupSafe>=2.0 in /usr/local/lib/python3.10/dist-packages (from jinja2->torch>=1.10.0->accelerate) (2.1.5)\n",
      "Requirement already satisfied: charset-normalizer<4,>=2 in /usr/local/lib/python3.10/dist-packages (from requests->huggingface-hub->accelerate) (3.3.2)\n",
      "Requirement already satisfied: idna<4,>=2.5 in /usr/local/lib/python3.10/dist-packages (from requests->huggingface-hub->accelerate) (3.6)\n",
      "Requirement already satisfied: urllib3<3,>=1.21.1 in /usr/local/lib/python3.10/dist-packages (from requests->huggingface-hub->accelerate) (2.0.7)\n",
      "Requirement already satisfied: certifi>=2017.4.17 in /usr/local/lib/python3.10/dist-packages (from requests->huggingface-hub->accelerate) (2024.2.2)\n",
      "Requirement already satisfied: mpmath>=0.19 in /usr/local/lib/python3.10/dist-packages (from sympy->torch>=1.10.0->accelerate) (1.3.0)\n"
     ]
    }
   ],
   "source": [
    "#FT1 Installing libraries\n",
    "!pip install transformers\n",
    "!pip install torch\n",
    "!pip install transformers[torch]\n",
    "!pip install accelerate -U\n"
   ]
  },
  {
   "cell_type": "code",
   "execution_count": null,
   "metadata": {
    "colab": {
     "base_uri": "https://localhost:8080/"
    },
    "executionInfo": {
     "elapsed": 36872,
     "status": "ok",
     "timestamp": 1711125732722,
     "user": {
      "displayName": "martin mora lopez",
      "userId": "11892096964695298240"
     },
     "user_tz": 360
    },
    "id": "D7QOX6cO-wJJ",
    "outputId": "5af9478d-52cd-424d-b1b3-47f28285ca2a"
   },
   "outputs": [
    {
     "name": "stdout",
     "output_type": "stream",
     "text": [
      "Mounted at /content/drive\n"
     ]
    }
   ],
   "source": [
    "from google.colab import drive\n",
    "drive.mount('/content/drive')"
   ]
  },
  {
   "cell_type": "code",
   "execution_count": null,
   "metadata": {
    "colab": {
     "base_uri": "https://localhost:8080/"
    },
    "executionInfo": {
     "elapsed": 2539,
     "status": "ok",
     "timestamp": 1711125862113,
     "user": {
      "displayName": "martin mora lopez",
      "userId": "11892096964695298240"
     },
     "user_tz": 360
    },
    "id": "bjKToYfc6adY",
    "outputId": "49417e59-12d5-4b13-ac54-9ae214abc692"
   },
   "outputs": [
    {
     "name": "stderr",
     "output_type": "stream",
     "text": [
      "[nltk_data] Downloading package punkt to /root/nltk_data...\n",
      "[nltk_data]   Unzipping tokenizers/punkt.zip.\n",
      "[nltk_data] Downloading package stopwords to /root/nltk_data...\n",
      "[nltk_data]   Unzipping corpora/stopwords.zip.\n",
      "[nltk_data] Downloading package averaged_perceptron_tagger to\n",
      "[nltk_data]     /root/nltk_data...\n",
      "[nltk_data]   Unzipping taggers/averaged_perceptron_tagger.zip.\n",
      "[nltk_data] Downloading package wordnet to /root/nltk_data...\n"
     ]
    },
    {
     "data": {
      "text/plain": [
       "True"
      ]
     },
     "execution_count": 3,
     "metadata": {},
     "output_type": "execute_result"
    }
   ],
   "source": [
    "\n",
    "import pandas as pd\n",
    "import nltk\n",
    "from nltk.corpus import stopwords\n",
    "from nltk.tokenize import word_tokenize\n",
    "from nltk.stem import PorterStemmer\n",
    "from nltk.stem import WordNetLemmatizer\n",
    "from nltk import pos_tag\n",
    "from nltk.corpus import wordnet\n",
    "from sklearn.model_selection import train_test_split\n",
    "from sklearn.preprocessing import StandardScaler, OneHotEncoder\n",
    "import numpy as np\n",
    "from sklearn.preprocessing import LabelEncoder\n",
    "\n",
    "nltk.download('punkt')\n",
    "nltk.download('stopwords')\n",
    "nltk.download('averaged_perceptron_tagger')\n",
    "nltk.download('wordnet')"
   ]
  },
  {
   "cell_type": "code",
   "execution_count": null,
   "metadata": {
    "colab": {
     "base_uri": "https://localhost:8080/",
     "height": 269,
     "referenced_widgets": [
      "e80ff28fa61c4bf7b66e9f933f883459",
      "2e35b3521ef2456796fe6fb2c2563dd4",
      "e9b86d98944a4158ac5e325b9bce29d8",
      "630c3ad086f0450990871c2354adfe59",
      "88734b83019743bcb0825339c7a88b23",
      "462282c30abe4d13ba07fcc2b614e858",
      "3ea8a68984e74c99a4667022575b0bcb",
      "bcf451f4418f4057a8a257fa63f9f19f",
      "5264108c2c894e84b1a17e3f24e128a2",
      "fa6eb28c0004448ca9d57ddfe77592e8",
      "c2afb96ddf7a46b687b5663120d7d2d8",
      "becf2cd329f54f69a39e0e934e0dee52",
      "40b06ec082c24feba9332763b23c3a3b",
      "b37c23a49ca24774b520f1e926ad5fdd",
      "06c69fd05e6b4219a11d16020fb5793b",
      "0e9f8e8f8f8c443c9b42ec21f85951ce",
      "3227256403f441ebbbd36f4e0d67298b",
      "97b8d3640af949b2bdc54ac0d3541020",
      "d841380aadf946e9a9fe38298c13b15a",
      "d1912f4124fc41e2950dbbd9b6ad2c70",
      "08ffe43f797949f3b0bf526af2e1224a",
      "9625d3e8f4034e09842f0e476424affd",
      "11a44798da12452da205bdbf8b49b5f7",
      "a5e6aa5ff3264e858c2a9650f0b62038",
      "28122700c83e40cc8cdd49f0a4576afe",
      "2c9b838e2d9f48d88ab18924ab688e39",
      "c9d5753fee8543bd9cba6892f7ebdea8",
      "b37e461910b14693bd9f11d5c9cd7b12",
      "c29078f6ec5e4cd4a287c049e9bccf6f",
      "2b1759174eec433ebc5e002fd53cf862",
      "73ff3cfd5ab245a09cf9215769234a55",
      "a9192c824bad4e4781a6a7e68adfc1b4",
      "81d6213433ff4faeaaa9622dd45250ac",
      "ca16fc679af04321ac5a62a5dbd951c7",
      "70f7d810a2d1459e96de7cf70d3a5bbf",
      "81840a7dd7bd4a14bce6a0a23747711b",
      "df44cf854f3a4e72bbae4392ac91680a",
      "2666a47bc9624d89a4a50e389c018001",
      "256c82d6dba946429e497310eba68872",
      "51697330d6d9456c8ab0d827150aac8c",
      "df2df5bb2d8c4481921ba093fd799cac",
      "9b31888981d5443187ba5e68f61e2eee",
      "e55056d3cabc4affa674336320d62e6c",
      "f620efe782c34c80844a244ab03bc28d"
     ]
    },
    "executionInfo": {
     "elapsed": 12084,
     "status": "ok",
     "timestamp": 1711125907193,
     "user": {
      "displayName": "martin mora lopez",
      "userId": "11892096964695298240"
     },
     "user_tz": 360
    },
    "id": "wt3T2YTB0ans",
    "outputId": "4af0e386-e44b-47b5-a3dd-d0eae68a681c"
   },
   "outputs": [
    {
     "name": "stderr",
     "output_type": "stream",
     "text": [
      "/usr/local/lib/python3.10/dist-packages/huggingface_hub/utils/_token.py:88: UserWarning: \n",
      "The secret `HF_TOKEN` does not exist in your Colab secrets.\n",
      "To authenticate with the Hugging Face Hub, create a token in your settings tab (https://huggingface.co/settings/tokens), set it as secret in your Google Colab and restart your session.\n",
      "You will be able to reuse this secret in all of your notebooks.\n",
      "Please note that authentication is recommended but still optional to access public models or datasets.\n",
      "  warnings.warn(\n"
     ]
    },
    {
     "data": {
      "application/vnd.jupyter.widget-view+json": {
       "model_id": "e80ff28fa61c4bf7b66e9f933f883459",
       "version_major": 2,
       "version_minor": 0
      },
      "text/plain": [
       "tokenizer_config.json:   0%|          | 0.00/48.0 [00:00<?, ?B/s]"
      ]
     },
     "metadata": {},
     "output_type": "display_data"
    },
    {
     "data": {
      "application/vnd.jupyter.widget-view+json": {
       "model_id": "becf2cd329f54f69a39e0e934e0dee52",
       "version_major": 2,
       "version_minor": 0
      },
      "text/plain": [
       "vocab.txt:   0%|          | 0.00/232k [00:00<?, ?B/s]"
      ]
     },
     "metadata": {},
     "output_type": "display_data"
    },
    {
     "data": {
      "application/vnd.jupyter.widget-view+json": {
       "model_id": "11a44798da12452da205bdbf8b49b5f7",
       "version_major": 2,
       "version_minor": 0
      },
      "text/plain": [
       "tokenizer.json:   0%|          | 0.00/466k [00:00<?, ?B/s]"
      ]
     },
     "metadata": {},
     "output_type": "display_data"
    },
    {
     "data": {
      "application/vnd.jupyter.widget-view+json": {
       "model_id": "ca16fc679af04321ac5a62a5dbd951c7",
       "version_major": 2,
       "version_minor": 0
      },
      "text/plain": [
       "config.json:   0%|          | 0.00/570 [00:00<?, ?B/s]"
      ]
     },
     "metadata": {},
     "output_type": "display_data"
    }
   ],
   "source": [
    "#FT2: Importing Bert libraries\n",
    "\n",
    "from transformers import BertTokenizer, BertForSequenceClassification, Trainer, TrainingArguments\n",
    "import torch\n",
    "from torch.utils.data import Dataset\n",
    "\n",
    "tokenizer = BertTokenizer.from_pretrained('bert-base-uncased')"
   ]
  },
  {
   "cell_type": "code",
   "execution_count": null,
   "metadata": {
    "colab": {
     "base_uri": "https://localhost:8080/"
    },
    "executionInfo": {
     "elapsed": 1297,
     "status": "ok",
     "timestamp": 1711126112128,
     "user": {
      "displayName": "martin mora lopez",
      "userId": "11892096964695298240"
     },
     "user_tz": 360
    },
    "id": "lASrrK4Z6msI",
    "outputId": "c4dec67f-aa11-4ab3-8a8e-7a5534302f72"
   },
   "outputs": [
    {
     "name": "stdout",
     "output_type": "stream",
     "text": [
      "                                              name      type  price  \\\n",
      "0                Duracell - AAA Batteries (4-Pack)  HardGood   5.49   \n",
      "1  Duracell - AA 1.5V CopperTop Batteries (4-Pack)  HardGood   5.49   \n",
      "2                 Duracell - AA Batteries (8-Pack)  HardGood   7.49   \n",
      "3            Energizer - MAX Batteries AA (4-Pack)  HardGood   4.99   \n",
      "4                  Duracell - C Batteries (4-Pack)  HardGood   8.99   \n",
      "\n",
      "                                         description manufacturer  \\\n",
      "0  Compatible with select electronic devices; AAA...     Duracell   \n",
      "1  Long-lasting energy; DURALOCK Power Preserve t...     Duracell   \n",
      "2  Compatible with select electronic devices; AA ...     Duracell   \n",
      "3  4-pack AA alkaline batteries; battery tester i...    Energizer   \n",
      "4  Compatible with select electronic devices; C s...     Duracell   \n",
      "\n",
      "                                           url              parent_category  \\\n",
      "0                duracell aaa batteries 4 pack  Connected Home & Housewares   \n",
      "1  duracell aa 1 5v coppertop batteries 4 pack  Connected Home & Housewares   \n",
      "2                 duracell aa batteries 8 pack  Connected Home & Housewares   \n",
      "3            energizer max batteries aa 4 pack  Connected Home & Housewares   \n",
      "4                  duracell c batteries 4 pack  Connected Home & Housewares   \n",
      "\n",
      "  sub_category_1        sub_category_2       sub_category_3 sub_category_4  \n",
      "0     Housewares   Household Batteries   Alkaline Batteries        missing  \n",
      "1     Housewares   Household Batteries   Alkaline Batteries        missing  \n",
      "2     Housewares   Household Batteries   Alkaline Batteries        missing  \n",
      "3     Housewares   Household Batteries   Alkaline Batteries        missing  \n",
      "4     Housewares   Household Batteries   Alkaline Batteries        missing  \n",
      "<class 'pandas.core.frame.DataFrame'>\n",
      "RangeIndex: 50041 entries, 0 to 50040\n",
      "Data columns (total 11 columns):\n",
      " #   Column           Non-Null Count  Dtype  \n",
      "---  ------           --------------  -----  \n",
      " 0   name             50040 non-null  object \n",
      " 1   type             50041 non-null  object \n",
      " 2   price            50041 non-null  float64\n",
      " 3   description      50041 non-null  object \n",
      " 4   manufacturer     50041 non-null  object \n",
      " 5   url              50040 non-null  object \n",
      " 6   parent_category  50041 non-null  object \n",
      " 7   sub_category_1   50041 non-null  object \n",
      " 8   sub_category_2   50041 non-null  object \n",
      " 9   sub_category_3   50041 non-null  object \n",
      " 10  sub_category_4   50041 non-null  object \n",
      "dtypes: float64(1), object(10)\n",
      "memory usage: 4.2+ MB\n"
     ]
    }
   ],
   "source": [
    "file_path = '/content/drive/MyDrive/anyone_final_project/alpha2_dataset_cleaned.csv'\n",
    "\n",
    "df = pd.read_csv(file_path)\n",
    "df = df.fillna(pd.NA)\n",
    "df['type'] = df['type'].fillna('missing')\n",
    "df['manufacturer'] = df['manufacturer'].fillna('missing')\n",
    "df['sub_category_1'] = df['sub_category_1'].fillna('missing')\n",
    "df['sub_category_2'] = df['sub_category_2'].fillna('missing')\n",
    "df['sub_category_3'] = df['sub_category_3'].fillna('missing')\n",
    "df['sub_category_4'] = df['sub_category_4'].fillna('missing')\n",
    "\n",
    "print(df.head())\n",
    "df.info()"
   ]
  },
  {
   "cell_type": "code",
   "execution_count": null,
   "metadata": {
    "id": "OUzBSTQi6p8v"
   },
   "outputs": [],
   "source": [
    "# stemmer, lemmatizer and stopwords\n",
    "import re\n",
    "from nltk.tokenize import word_tokenize\n",
    "from nltk.corpus import stopwords\n",
    "from nltk import pos_tag\n",
    "from nltk.stem import WordNetLemmatizer\n",
    "from typing import Optional\n",
    "\n",
    "# Initialize NLTK resources\n",
    "stop_words = set(stopwords.words('english'))\n",
    "lemmatizer = WordNetLemmatizer()\n",
    "\n",
    "def get_wordnet_pos(tag):\n",
    "    if tag.startswith('J'):\n",
    "        return 'a'  # Adjective\n",
    "    elif tag.startswith('V'):\n",
    "        return 'v'  # Verb\n",
    "    elif tag.startswith('N'):\n",
    "        return 'n'  # Noun\n",
    "    elif tag.startswith('R'):\n",
    "        return 'r'  # Adverb\n",
    "    else:\n",
    "        return 'n'  # Default to noun if not recognized\n",
    "\n",
    "def remove_extra_new_lines(text):\n",
    "\n",
    "    if pd.isnull(text):  # check if text is nan\n",
    "        return ''  # replace with an empty string\n",
    "\n",
    "    clean_text = [i for i in str(text).splitlines() if i.strip()]\n",
    "    clean_text = ' '.join(clean_text)\n",
    "    return clean_text\n",
    "\n",
    "def remove_extra_whitespace(text: str) -> str:\n",
    "\n",
    "    spaceless_text = re.sub(r'\\s+', ' ', text)\n",
    "    return spaceless_text\n",
    "\n",
    "def remove_special_chars(text: str, remove_digits: Optional[bool] = False) -> str:\n",
    "\n",
    "    if remove_digits:\n",
    "        pattern = r'[^a-zA-Z\\s]'\n",
    "    else:\n",
    "        pattern = r'[^a-zA-Z0-9\\s]'\n",
    "\n",
    "    cleaned_text = re.sub(pattern, '', text)\n",
    "    return cleaned_text\n",
    "\n",
    "def normalize_text(text):\n",
    "\n",
    "    text = remove_extra_new_lines(text)\n",
    "\n",
    "    text = remove_extra_whitespace(text)\n",
    "\n",
    "    text = remove_special_chars(text, remove_digits=False)\n",
    "\n",
    "    tokens = word_tokenize(text)\n",
    "    tokens = [token.lower() for token in tokens if token.isalpha() and token.lower() not in stop_words]\n",
    "    tagged_tokens = pos_tag(tokens)\n",
    "    lemmas = [lemmatizer.lemmatize(token, get_wordnet_pos(tag)) for token, tag in tagged_tokens]\n",
    "\n",
    "    return ' '.join(lemmas)"
   ]
  },
  {
   "cell_type": "code",
   "execution_count": null,
   "metadata": {
    "colab": {
     "base_uri": "https://localhost:8080/"
    },
    "executionInfo": {
     "elapsed": 89457,
     "status": "ok",
     "timestamp": 1711126252810,
     "user": {
      "displayName": "martin mora lopez",
      "userId": "11892096964695298240"
     },
     "user_tz": 360
    },
    "id": "8martjTt6sdd",
    "outputId": "f98427d7-103b-4c75-8231-ac3797bbcc68"
   },
   "outputs": [
    {
     "name": "stdout",
     "output_type": "stream",
     "text": [
      "(50041, 13)\n"
     ]
    }
   ],
   "source": [
    "normalization = ['name', 'description']\n",
    "for column in normalization:\n",
    "    df[column + '_normalized'] = df[column].apply(normalize_text)\n",
    "\n",
    "print(df.shape)"
   ]
  },
  {
   "cell_type": "code",
   "execution_count": null,
   "metadata": {
    "colab": {
     "base_uri": "https://localhost:8080/"
    },
    "executionInfo": {
     "elapsed": 323,
     "status": "ok",
     "timestamp": 1711126260173,
     "user": {
      "displayName": "martin mora lopez",
      "userId": "11892096964695298240"
     },
     "user_tz": 360
    },
    "id": "4ryEUvdJ0ant",
    "outputId": "af93ad08-f468-4d99-9a76-eae21e290948"
   },
   "outputs": [
    {
     "name": "stdout",
     "output_type": "stream",
     "text": [
      "name                                      Duracell - AAA Batteries (4-Pack)\n",
      "type                                                               HardGood\n",
      "price                                                                  5.49\n",
      "description               Compatible with select electronic devices; AAA...\n",
      "manufacturer                                                       Duracell\n",
      "url                                           duracell aaa batteries 4 pack\n",
      "parent_category                                 Connected Home & Housewares\n",
      "sub_category_1                                                   Housewares\n",
      "sub_category_2                                          Household Batteries\n",
      "sub_category_3                                           Alkaline Batteries\n",
      "sub_category_4                                                      missing\n",
      "name_normalized                                        duracell aaa battery\n",
      "description_normalized    compatible select electronic device aaa size d...\n",
      "Name: 0, dtype: object\n"
     ]
    }
   ],
   "source": [
    "print(df.iloc[0])\n"
   ]
  },
  {
   "cell_type": "code",
   "execution_count": null,
   "metadata": {
    "colab": {
     "base_uri": "https://localhost:8080/"
    },
    "executionInfo": {
     "elapsed": 329,
     "status": "ok",
     "timestamp": 1711126265248,
     "user": {
      "displayName": "martin mora lopez",
      "userId": "11892096964695298240"
     },
     "user_tz": 360
    },
    "id": "HYTfY_RArpEX",
    "outputId": "73cbce89-1574-46a2-c417-43f20ca18c90"
   },
   "outputs": [
    {
     "name": "stdout",
     "output_type": "stream",
     "text": [
      "['Connected Home & Housewares' 'other' 'Car Electronics & GPS'\n",
      " 'In-Store Only' 'Musical Instruments' 'Toys' 'Video Games'\n",
      " 'Cameras & Camcorders' 'Computers & Tablets' 'Appliances' 'Audio'\n",
      " 'TV & Home Theater' 'Health' 'Name Brands' 'Cell Phones' 'Movies & Music'\n",
      " 'Magnolia Home Theater' 'Geek Squad' 'Best Buy Gift Cards'\n",
      " 'H/VG_X360/Games/B2G1_20130602' 'MP Exclusives' 'Wearable Technology'\n",
      " 'Custom Parts']\n"
     ]
    }
   ],
   "source": [
    "#df['sub_category_1'].fillna('0', inplace=True)\n",
    "#df['sub_category_2'].fillna('0', inplace=True)\n",
    "#df['sub_category_3'].fillna('0', inplace=True)\n",
    "#df['sub_category_4'].fillna('0', inplace=True)\n",
    "print(df['parent_category'].unique())"
   ]
  },
  {
   "cell_type": "code",
   "execution_count": null,
   "metadata": {
    "id": "33iKb2Pl0anu"
   },
   "outputs": [],
   "source": [
    "#FT3: Creation of the Dataset Class for BERT\n",
    "\n",
    "from torch.utils.data import Dataset\n",
    "import torch\n",
    "\n",
    "class AlphaDataset(Dataset):\n",
    "    def __init__(self, encodings, labels):\n",
    "        self.encodings = encodings\n",
    "        self.labels = labels\n",
    "\n",
    "    def __len__(self):\n",
    "        return len(self.labels)\n",
    "\n",
    "    def __getitem__(self, idx):\n",
    "        item = {key: torch.tensor(val[idx]) for key, val in self.encodings.items()}\n",
    "        item['labels'] = torch.tensor(self.labels[idx], dtype=torch.long)\n",
    "        return item"
   ]
  },
  {
   "cell_type": "code",
   "execution_count": null,
   "metadata": {
    "colab": {
     "base_uri": "https://localhost:8080/"
    },
    "executionInfo": {
     "elapsed": 3,
     "status": "ok",
     "timestamp": 1711126274197,
     "user": {
      "displayName": "martin mora lopez",
      "userId": "11892096964695298240"
     },
     "user_tz": 360
    },
    "id": "uwLSa6uB6upR",
    "outputId": "23047cc9-30a2-41e6-e711-6247121dd202"
   },
   "outputs": [
    {
     "name": "stdout",
     "output_type": "stream",
     "text": [
      "                                              name      type  price  \\\n",
      "0                Duracell - AAA Batteries (4-Pack)  HardGood   5.49   \n",
      "1  Duracell - AA 1.5V CopperTop Batteries (4-Pack)  HardGood   5.49   \n",
      "2                 Duracell - AA Batteries (8-Pack)  HardGood   7.49   \n",
      "3            Energizer - MAX Batteries AA (4-Pack)  HardGood   4.99   \n",
      "4                  Duracell - C Batteries (4-Pack)  HardGood   8.99   \n",
      "\n",
      "                                         description manufacturer  \\\n",
      "0  Compatible with select electronic devices; AAA...     Duracell   \n",
      "1  Long-lasting energy; DURALOCK Power Preserve t...     Duracell   \n",
      "2  Compatible with select electronic devices; AA ...     Duracell   \n",
      "3  4-pack AA alkaline batteries; battery tester i...    Energizer   \n",
      "4  Compatible with select electronic devices; C s...     Duracell   \n",
      "\n",
      "                                           url              parent_category  \\\n",
      "0                duracell aaa batteries 4 pack  Connected Home & Housewares   \n",
      "1  duracell aa 1 5v coppertop batteries 4 pack  Connected Home & Housewares   \n",
      "2                 duracell aa batteries 8 pack  Connected Home & Housewares   \n",
      "3            energizer max batteries aa 4 pack  Connected Home & Housewares   \n",
      "4                  duracell c batteries 4 pack  Connected Home & Housewares   \n",
      "\n",
      "  sub_category_1        sub_category_2       sub_category_3 sub_category_4  \\\n",
      "0     Housewares   Household Batteries   Alkaline Batteries        missing   \n",
      "1     Housewares   Household Batteries   Alkaline Batteries        missing   \n",
      "2     Housewares   Household Batteries   Alkaline Batteries        missing   \n",
      "3     Housewares   Household Batteries   Alkaline Batteries        missing   \n",
      "4     Housewares   Household Batteries   Alkaline Batteries        missing   \n",
      "\n",
      "                 name_normalized  \\\n",
      "0           duracell aaa battery   \n",
      "1  duracell aa coppertop battery   \n",
      "2            duracell aa battery   \n",
      "3       energizer max battery aa   \n",
      "4             duracell c battery   \n",
      "\n",
      "                              description_normalized  \n",
      "0  compatible select electronic device aaa size d...  \n",
      "1  longlasting energy duralock power preserve tec...  \n",
      "2  compatible select electronic device aa size du...  \n",
      "3         aa alkaline battery battery tester include  \n",
      "4  compatible select electronic device c size dur...  \n"
     ]
    }
   ],
   "source": [
    "import h5py\n",
    "\n",
    "print(df.head())\n",
    "df.shape\n",
    "X = df.drop(columns=['parent_category'])\n",
    "y = df['parent_category']\n",
    "\n",
    "label_encoder = LabelEncoder()\n",
    "y_encoded = label_encoder.fit_transform(y)\n",
    "\n",
    "with h5py.File('label_encoder.h5', 'w') as hf:\n",
    "    hf.create_dataset('label_encoder', data=label_encoder.classes_)\n",
    "\n",
    "X_train, X_test, y_train, y_test = train_test_split(X, y_encoded, test_size=0.2, random_state=42)"
   ]
  },
  {
   "cell_type": "code",
   "execution_count": null,
   "metadata": {
    "id": "RTKP9HOa0anv"
   },
   "outputs": [],
   "source": [
    "# FT4: Combining 'name' and 'description' columns into a new 'combined_text' column\n",
    "X_train['combined_text'] = X_train['name'].fillna('') + \" \" + X_train['description'].fillna('')\n",
    "X_test['combined_text'] = X_test['name'].fillna('') + \" \" + X_test['description'].fillna('')\n"
   ]
  },
  {
   "cell_type": "code",
   "execution_count": null,
   "metadata": {
    "id": "woBvshjI-gHS"
   },
   "outputs": [],
   "source": [
    "df.shape\n",
    "\n",
    "X_1 = df.drop(columns=['sub_category_1'])\n",
    "y_1 = df['sub_category_1']\n",
    "y_1.fillna('missing', inplace=True)\n",
    "\n",
    "label_encoder_1 = LabelEncoder()\n",
    "y_1_encoded = label_encoder_1.fit_transform(y_1)\n",
    "\n",
    "with h5py.File('label_encoder_1.h5', 'w') as hf:\n",
    "    hf.create_dataset('label_encoder_1', data=label_encoder_1.classes_)\n",
    "\n",
    "X_train_1, X_test_1, y_train_1, y_test_1 = train_test_split(X_1, y_1_encoded, test_size=0.2, random_state=42)"
   ]
  },
  {
   "cell_type": "code",
   "execution_count": null,
   "metadata": {
    "id": "wYMN3-Aj-f-n"
   },
   "outputs": [],
   "source": [
    "df.shape\n",
    "X_2 = df.drop(columns=['sub_category_2'])\n",
    "y_2 = df['sub_category_2']\n",
    "y_2.fillna('missing', inplace=True)\n",
    "label_encoder_2 = LabelEncoder()\n",
    "y_2_encoded = label_encoder_2.fit_transform(y_2)\n",
    "\n",
    "with h5py.File('label_encoder_2.h5', 'w') as hf:\n",
    "    hf.create_dataset('label_encoder_2', data=label_encoder_2.classes_)\n",
    "\n",
    "X_train_2, X_test_2, y_train_2, y_test_2 = train_test_split(X_2, y_2_encoded, test_size=0.2, random_state=42)"
   ]
  },
  {
   "cell_type": "code",
   "execution_count": null,
   "metadata": {
    "id": "sLrnJPS1-f3n"
   },
   "outputs": [],
   "source": [
    "df.shape\n",
    "X_3 = df.drop(columns=['sub_category_3'])\n",
    "y_3 = df['sub_category_3']\n",
    "y_3.fillna('missing', inplace=True)\n",
    "\n",
    "label_encoder_3 = LabelEncoder()\n",
    "y_3_encoded = label_encoder_3.fit_transform(y_3)\n",
    "\n",
    "with h5py.File('label_encoder_3.h5', 'w') as hf:\n",
    "    hf.create_dataset('label_encoder_3', data=label_encoder_3.classes_)\n",
    "\n",
    "X_train_3, X_test_3, y_train_3, y_test_3 = train_test_split(X_3, y_3_encoded, test_size=0.2, random_state=42)"
   ]
  },
  {
   "cell_type": "code",
   "execution_count": null,
   "metadata": {
    "id": "MmO58b37-foH"
   },
   "outputs": [],
   "source": [
    "df.shape\n",
    "X_4 = df.drop(columns=['sub_category_4'])\n",
    "y_4 = df['sub_category_4']\n",
    "y_4.fillna('missing', inplace=True)\n",
    "\n",
    "label_encoder_4 = LabelEncoder()\n",
    "y_4_encoded = label_encoder_4.fit_transform(y_4)\n",
    "\n",
    "with h5py.File('label_encoder_4.h5', 'w') as hf:\n",
    "    hf.create_dataset('label_encoder_4', data=label_encoder_4.classes_)\n",
    "\n",
    "X_train_4, X_test_4, y_train_4, y_test_4 = train_test_split(X_4, y_4_encoded, test_size=0.2, random_state=42)"
   ]
  },
  {
   "cell_type": "code",
   "execution_count": null,
   "metadata": {
    "colab": {
     "base_uri": "https://localhost:8080/"
    },
    "executionInfo": {
     "elapsed": 700,
     "status": "ok",
     "timestamp": 1711115386012,
     "user": {
      "displayName": "Andry J. Becerra V.",
      "userId": "01909269256766027120"
     },
     "user_tz": 240
    },
    "id": "XxJvoJcBsGfp",
    "outputId": "a2711606-6d2b-4ab4-9096-9822bb4eb6ab"
   },
   "outputs": [
    {
     "name": "stdout",
     "output_type": "stream",
     "text": [
      "                                              name      type  price  \\\n",
      "0                Duracell - AAA Batteries (4-Pack)  HardGood   5.49   \n",
      "1  Duracell - AA 1.5V CopperTop Batteries (4-Pack)  HardGood   5.49   \n",
      "2                 Duracell - AA Batteries (8-Pack)  HardGood   7.49   \n",
      "3            Energizer - MAX Batteries AA (4-Pack)  HardGood   4.99   \n",
      "4                  Duracell - C Batteries (4-Pack)  HardGood   8.99   \n",
      "\n",
      "                                         description manufacturer  \\\n",
      "0  Compatible with select electronic devices; AAA...     Duracell   \n",
      "1  Long-lasting energy; DURALOCK Power Preserve t...     Duracell   \n",
      "2  Compatible with select electronic devices; AA ...     Duracell   \n",
      "3  4-pack AA alkaline batteries; battery tester i...    Energizer   \n",
      "4  Compatible with select electronic devices; C s...     Duracell   \n",
      "\n",
      "                                           url              parent_category  \\\n",
      "0                duracell aaa batteries 4 pack  Connected Home & Housewares   \n",
      "1  duracell aa 1 5v coppertop batteries 4 pack  Connected Home & Housewares   \n",
      "2                 duracell aa batteries 8 pack  Connected Home & Housewares   \n",
      "3            energizer max batteries aa 4 pack  Connected Home & Housewares   \n",
      "4                  duracell c batteries 4 pack  Connected Home & Housewares   \n",
      "\n",
      "  sub_category_1        sub_category_2       sub_category_3  \\\n",
      "0     Housewares   Household Batteries   Alkaline Batteries   \n",
      "1     Housewares   Household Batteries   Alkaline Batteries   \n",
      "2     Housewares   Household Batteries   Alkaline Batteries   \n",
      "3     Housewares   Household Batteries   Alkaline Batteries   \n",
      "4     Housewares   Household Batteries   Alkaline Batteries   \n",
      "\n",
      "                 name_normalized  \\\n",
      "0           duracell aaa battery   \n",
      "1  duracell aa coppertop battery   \n",
      "2            duracell aa battery   \n",
      "3       energizer max battery aa   \n",
      "4             duracell c battery   \n",
      "\n",
      "                              description_normalized  \n",
      "0  compatible select electronic device aaa size d...  \n",
      "1  longlasting energy duralock power preserve tec...  \n",
      "2  compatible select electronic device aa size du...  \n",
      "3         aa alkaline battery battery tester include  \n",
      "4  compatible select electronic device c size dur...  \n"
     ]
    }
   ],
   "source": [
    "print(X_4.head())\n"
   ]
  },
  {
   "cell_type": "code",
   "execution_count": null,
   "metadata": {
    "colab": {
     "base_uri": "https://localhost:8080/"
    },
    "executionInfo": {
     "elapsed": 7,
     "status": "ok",
     "timestamp": 1711115390196,
     "user": {
      "displayName": "Andry J. Becerra V.",
      "userId": "01909269256766027120"
     },
     "user_tz": 240
    },
    "id": "N_ArCp4U6xB_",
    "outputId": "de309e28-daa6-4fce-b775-a340a6d0e3cf"
   },
   "outputs": [
    {
     "name": "stdout",
     "output_type": "stream",
     "text": [
      "(40032, 13)\n",
      "(10009, 13)\n",
      "(40032,)\n",
      "(10009,)\n",
      "9233                            star fox preowned nintendo\n",
      "25631    pioneer networkready ultra hd passthrough av h...\n",
      "19030                     evolve ultimate edition xbox one\n",
      "12044    joby pro series ultraplate quickrelease plate ...\n",
      "18967    aluratek bump w home audio speaker system ipod...\n",
      "                               ...                        \n",
      "11284    samsung class diag lead curved smart ultra hd ...\n",
      "44732    hifonics brutus class mono mosfet subwoofer am...\n",
      "38158    mobile edge premium laptop backpack apple macb...\n",
      "860                                 presonus presonus gray\n",
      "15795      insignia portable bluetooth stereo speaker blue\n",
      "Name: name_normalized, Length: 40032, dtype: object\n"
     ]
    }
   ],
   "source": [
    "print(X_train.shape)\n",
    "print( X_test.shape)\n",
    "print(y_train.shape)\n",
    "print(y_test.shape)\n",
    "print(X_train['name_normalized'])"
   ]
  },
  {
   "cell_type": "code",
   "execution_count": null,
   "metadata": {
    "colab": {
     "base_uri": "https://localhost:8080/"
    },
    "executionInfo": {
     "elapsed": 432,
     "status": "ok",
     "timestamp": 1711115398402,
     "user": {
      "displayName": "Andry J. Becerra V.",
      "userId": "01909269256766027120"
     },
     "user_tz": 240
    },
    "id": "HfXktfLf6y1M",
    "outputId": "f7d437db-701b-4375-cfe3-e69472dee4d2"
   },
   "outputs": [
    {
     "data": {
      "text/plain": [
       "array([20,  1, 20, ...,  6, 16,  1])"
      ]
     },
     "execution_count": 18,
     "metadata": {},
     "output_type": "execute_result"
    }
   ],
   "source": [
    "y_train"
   ]
  },
  {
   "cell_type": "code",
   "execution_count": null,
   "metadata": {
    "id": "SRwGwPFj0anw"
   },
   "outputs": [],
   "source": [
    "# FT5: Tokenization of training and test data using the 'combined_text' column\n",
    "train_encodings = tokenizer(X_train['combined_text'].tolist(), truncation=True, padding=True)\n",
    "test_encodings = tokenizer(X_test['combined_text'].tolist(), truncation=True, padding=True)\n",
    "\n",
    "# Creation of training and test datasets\n",
    "train_dataset = AlphaDataset(train_encodings, y_train)\n",
    "test_dataset = AlphaDataset(test_encodings, y_test)\n"
   ]
  },
  {
   "cell_type": "code",
   "execution_count": null,
   "metadata": {
    "colab": {
     "base_uri": "https://localhost:8080/",
     "height": 160,
     "referenced_widgets": [
      "19e710cd65dd42f6b6e9cad415a95543",
      "b33fb027db2049f582d01999b6e781f6",
      "0a8dc7b85690495ca5d606d0041f5df2",
      "7148937877b846c4a41b3bc2008357b4",
      "54326cdb44f54ae0807d93c9ee81199c",
      "78acdd4bd63d4094a805d498cba90e7c",
      "38623c1beb744dbca6b7293a188ce2c2",
      "4e848d2663c74e1db983e16f8ca14a29",
      "6788ea4f28ad4b2580679f26ec449750",
      "44f00a5c78ee4171bdfa0492d05fd127",
      "ab4a681379364c80b8d6b9d901b382c3"
     ]
    },
    "executionInfo": {
     "elapsed": 3046,
     "status": "ok",
     "timestamp": 1711115452957,
     "user": {
      "displayName": "Andry J. Becerra V.",
      "userId": "01909269256766027120"
     },
     "user_tz": 240
    },
    "id": "SQmlx6sx0anx",
    "outputId": "14024d4e-a60a-448d-90a3-4af198966813"
   },
   "outputs": [
    {
     "data": {
      "application/vnd.jupyter.widget-view+json": {
       "model_id": "19e710cd65dd42f6b6e9cad415a95543",
       "version_major": 2,
       "version_minor": 0
      },
      "text/plain": [
       "model.safetensors:   0%|          | 0.00/440M [00:00<?, ?B/s]"
      ]
     },
     "metadata": {},
     "output_type": "display_data"
    },
    {
     "name": "stderr",
     "output_type": "stream",
     "text": [
      "Some weights of BertForSequenceClassification were not initialized from the model checkpoint at bert-base-uncased and are newly initialized: ['classifier.bias', 'classifier.weight']\n",
      "You should probably TRAIN this model on a down-stream task to be able to use it for predictions and inference.\n",
      "/usr/local/lib/python3.10/dist-packages/accelerate/accelerator.py:432: FutureWarning: Passing the following arguments to `Accelerator` is deprecated and will be removed in version 1.0 of Accelerate: dict_keys(['dispatch_batches', 'split_batches', 'even_batches', 'use_seedable_sampler']). Please pass an `accelerate.DataLoaderConfiguration` instead: \n",
      "dataloader_config = DataLoaderConfiguration(dispatch_batches=None, split_batches=False, even_batches=True, use_seedable_sampler=True)\n",
      "  warnings.warn(\n"
     ]
    }
   ],
   "source": [
    "# FT6: Loading the BERT Model and Configuring Training\n",
    "import numpy as np\n",
    "from sklearn.metrics import accuracy_score, precision_score, recall_score, f1_score, classification_report, confusion_matrix\n",
    "import torch\n",
    "from transformers import BertForSequenceClassification, Trainer, TrainingArguments\n",
    "from sklearn.metrics import accuracy_score\n",
    "\n",
    "def compute_metrics(pred):\n",
    "    labels = pred.label_ids\n",
    "    preds = pred.predictions.argmax(-1)\n",
    "    acc = accuracy_score(labels, preds)\n",
    "    precision = precision_score(labels, preds, average='weighted')\n",
    "    recall = recall_score(labels, preds, average='weighted')\n",
    "    f1 = f1_score(labels, preds, average='weighted')\n",
    "    class_report = classification_report(labels, preds)\n",
    "    conf_matrix = confusion_matrix(labels, preds)\n",
    "\n",
    "    return {\n",
    "        'accuracy': acc,\n",
    "        'precision': precision,\n",
    "        'recall': recall,\n",
    "        'f1': f1,\n",
    "        'classification_report': class_report,\n",
    "        'confusion_matrix': conf_matrix\n",
    "    }\n",
    "\n",
    "# Loading the pre-trained BERT model for the classification task\n",
    "model = BertForSequenceClassification.from_pretrained(\n",
    "    'bert-base-uncased',  # Use the pre-trained base BERT model\n",
    "    num_labels=len(np.unique(y_encoded))  # Number of labels for classification\n",
    ")\n",
    "\n",
    "# Setting up training parameters\n",
    "training_args = TrainingArguments(\n",
    "    output_dir='./results',            # Directory to save training results\n",
    "    num_train_epochs=5,                # Total number of training epochs\n",
    "    per_device_train_batch_size=8,     # Batch size for training\n",
    "    per_device_eval_batch_size=8,      # Batch size for evaluation\n",
    "    warmup_steps=500,                  # Number of warm-up steps to adjust the learning rate\n",
    "    weight_decay=0.01,                 # Weight decay for regularization\n",
    "    logging_dir='./logs',              # Directory to save logs\n",
    "    evaluation_strategy=\"epoch\"        # Evaluation strategy (can be \"no\", \"steps\", or \"epoch\")\n",
    ")\n",
    "\n",
    "# # Creating a Trainer instance, which will be used to train and evaluate the BERT model\n",
    "trainer = Trainer(\n",
    "    model=model,                      # The BERT model to be trained\n",
    "    args=training_args,               # The training arguments\n",
    "    train_dataset=train_dataset,      # Training dataset\n",
    "    eval_dataset=test_dataset,        # Evaluation dataset\n",
    "    compute_metrics=compute_metrics\n",
    ")\n"
   ]
  },
  {
   "cell_type": "code",
   "execution_count": null,
   "metadata": {
    "colab": {
     "base_uri": "https://localhost:8080/",
     "height": 268
    },
    "executionInfo": {
     "elapsed": 2389052,
     "status": "ok",
     "timestamp": 1711117939187,
     "user": {
      "displayName": "Andry J. Becerra V.",
      "userId": "01909269256766027120"
     },
     "user_tz": 240
    },
    "id": "Mmf4hZOo0anx",
    "outputId": "fcb38ccb-dee6-4d0d-e375-26dd47dc3b2b"
   },
   "outputs": [
    {
     "data": {
      "text/html": [
       "\n",
       "    <div>\n",
       "      \n",
       "      <progress value='25020' max='25020' style='width:300px; height:20px; vertical-align: middle;'></progress>\n",
       "      [25020/25020 39:47, Epoch 5/5]\n",
       "    </div>\n",
       "    <table border=\"1\" class=\"dataframe\">\n",
       "  <thead>\n",
       " <tr style=\"text-align: left;\">\n",
       "      <th>Epoch</th>\n",
       "      <th>Training Loss</th>\n",
       "      <th>Validation Loss</th>\n",
       "      <th>Accuracy</th>\n",
       "    </tr>\n",
       "  </thead>\n",
       "  <tbody>\n",
       "    <tr>\n",
       "      <td>1</td>\n",
       "      <td>0.308200</td>\n",
       "      <td>0.304190</td>\n",
       "      <td>0.949645</td>\n",
       "    </tr>\n",
       "    <tr>\n",
       "      <td>2</td>\n",
       "      <td>0.178900</td>\n",
       "      <td>0.253794</td>\n",
       "      <td>0.959636</td>\n",
       "    </tr>\n",
       "    <tr>\n",
       "      <td>3</td>\n",
       "      <td>0.157700</td>\n",
       "      <td>0.220584</td>\n",
       "      <td>0.963932</td>\n",
       "    </tr>\n",
       "    <tr>\n",
       "      <td>4</td>\n",
       "      <td>0.080000</td>\n",
       "      <td>0.223278</td>\n",
       "      <td>0.967429</td>\n",
       "    </tr>\n",
       "    <tr>\n",
       "      <td>5</td>\n",
       "      <td>0.044400</td>\n",
       "      <td>0.208391</td>\n",
       "      <td>0.969527</td>\n",
       "    </tr>\n",
       "  </tbody>\n",
       "</table><p>"
      ],
      "text/plain": [
       "<IPython.core.display.HTML object>"
      ]
     },
     "metadata": {},
     "output_type": "display_data"
    },
    {
     "data": {
      "text/plain": [
       "TrainOutput(global_step=25020, training_loss=0.20577802450465355, metrics={'train_runtime': 2388.6478, 'train_samples_per_second': 83.796, 'train_steps_per_second': 10.475, 'total_flos': 1.460887089611328e+16, 'train_loss': 0.20577802450465355, 'epoch': 5.0})"
      ]
     },
     "execution_count": 21,
     "metadata": {},
     "output_type": "execute_result"
    }
   ],
   "source": [
    "# FT7: Training (Fine-Tuning) the BERT Model\n",
    "\n",
    "trainer.train()\n"
   ]
  },
  {
   "cell_type": "code",
   "execution_count": null,
   "metadata": {
    "colab": {
     "base_uri": "https://localhost:8080/"
    },
    "executionInfo": {
     "elapsed": 1087,
     "status": "ok",
     "timestamp": 1711118811939,
     "user": {
      "displayName": "Andry J. Becerra V.",
      "userId": "01909269256766027120"
     },
     "user_tz": 240
    },
    "id": "y9sYDM9T0anx",
    "outputId": "0ac30f94-ed76-476d-bac3-049d969f1f97"
   },
   "outputs": [
    {
     "data": {
      "text/plain": [
       "('/content/model_finetuned/tokenizer_config.json',\n",
       " '/content/model_finetuned/special_tokens_map.json',\n",
       " '/content/model_finetuned/vocab.txt',\n",
       " '/content/model_finetuned/added_tokens.json')"
      ]
     },
     "execution_count": 22,
     "metadata": {},
     "output_type": "execute_result"
    }
   ],
   "source": [
    "# FT8: Saving the model manually after training\n",
    "# Especifica la ruta donde deseas guardar el modelo\n",
    "model_path = \"/content/model_finetuned\"\n",
    "\n",
    "# Guarda el modelo\n",
    "model.save_pretrained(model_path)\n",
    "\n",
    "# Nota: También puedes guardar el Tokenizador si es necesario\n",
    "tokenizer.save_pretrained(model_path)"
   ]
  },
  {
   "cell_type": "code",
   "execution_count": null,
   "metadata": {
    "colab": {
     "base_uri": "https://localhost:8080/",
     "height": 193
    },
    "executionInfo": {
     "elapsed": 1069,
     "status": "error",
     "timestamp": 1711151438997,
     "user": {
      "displayName": "martin mora lopez",
      "userId": "11892096964695298240"
     },
     "user_tz": 360
    },
    "id": "BIMpSnj9ksQH",
    "outputId": "aac09166-9f0c-43ed-f5e3-72dbec52772e"
   },
   "outputs": [
    {
     "ename": "NameError",
     "evalue": "name 'trainer' is not defined",
     "output_type": "error",
     "traceback": [
      "\u001b[0;31m---------------------------------------------------------------------------\u001b[0m",
      "\u001b[0;31mNameError\u001b[0m                                 Traceback (most recent call last)",
      "\u001b[0;32m<ipython-input-152-80a3890080f2>\u001b[0m in \u001b[0;36m<cell line: 1>\u001b[0;34m()\u001b[0m\n\u001b[0;32m----> 1\u001b[0;31m \u001b[0mevaluation_results\u001b[0m \u001b[0;34m=\u001b[0m \u001b[0mtrainer\u001b[0m\u001b[0;34m.\u001b[0m\u001b[0mevaluate\u001b[0m\u001b[0;34m(\u001b[0m\u001b[0;34m)\u001b[0m\u001b[0;34m\u001b[0m\u001b[0;34m\u001b[0m\u001b[0m\n\u001b[0m\u001b[1;32m      2\u001b[0m \u001b[0;34m\u001b[0m\u001b[0m\n\u001b[1;32m      3\u001b[0m \u001b[0;31m# Print evaluation results\u001b[0m\u001b[0;34m\u001b[0m\u001b[0;34m\u001b[0m\u001b[0m\n\u001b[1;32m      4\u001b[0m \u001b[0mprint\u001b[0m\u001b[0;34m(\u001b[0m\u001b[0;34m\"Evaluation results:\"\u001b[0m\u001b[0;34m,\u001b[0m \u001b[0mevaluation_results\u001b[0m\u001b[0;34m)\u001b[0m\u001b[0;34m\u001b[0m\u001b[0;34m\u001b[0m\u001b[0m\n",
      "\u001b[0;31mNameError\u001b[0m: name 'trainer' is not defined"
     ]
    }
   ],
   "source": [
    "evaluation_results = trainer.evaluate()\n",
    "\n",
    "# Print evaluation results\n",
    "print(\"Evaluation results:\", evaluation_results)"
   ]
  },
  {
   "cell_type": "code",
   "execution_count": null,
   "metadata": {
    "id": "aSM6FSkuSZ7i"
   },
   "outputs": [],
   "source": [
    "#Prediccion 0\n",
    "text = {\n",
    "    \"name\": \"Trumpet Multimedia - Trumpets That Work 2015 Calendar - Black\",\n",
    "    \"description\": \"TRUMPET MULTIMEDIA Trumpets That Work 2015 Calendar: 2015 calendar; Trumpets That Work design\",\n",
    "    \"price\": 23.95,\n",
    "    \"type\": \"HardGood\",\n",
    "    \"manufacturer\": \"Trumpet Multimedia\",\n",
    "}\n",
    "\n",
    "text['name'] = normalize_text(text['name'])\n",
    "text['description'] = normalize_text(text['description'])\n",
    "text['combined_text'] = text['name'] + \" \" + text['description']\n",
    "\n",
    "model_path = '/content/drive/MyDrive/anyone_final_project/finetunning_1'\n",
    "\n",
    "# Cargar el tokenizer\n",
    "tokenizer = BertTokenizer.from_pretrained(model_path)\n",
    "\n",
    "# Cargar el modelo\n",
    "model = BertForSequenceClassification.from_pretrained(model_path)\n",
    "\n",
    "\n",
    "def predict(text):\n",
    "    # Preparar los tokens de entrada\n",
    "    inputs = tokenizer(text, padding=True, truncation=True, max_length=512, return_tensors=\"pt\")\n",
    "\n",
    "    # Hacer predicción\n",
    "    model.eval()  # Asegúrate de que el modelo esté en modo evaluación\n",
    "    with torch.no_grad():  # Desactivar la generación de gradientes\n",
    "        outputs = model(**inputs)\n",
    "\n",
    "    # Obtener la predicción de la última capa\n",
    "    logits = outputs.logits\n",
    "    predicted_class_id = logits.argmax().item()\n",
    "    return predicted_class_id\n"
   ]
  },
  {
   "cell_type": "code",
   "execution_count": null,
   "metadata": {
    "id": "-5lgoLYeV-OX"
   },
   "outputs": [],
   "source": [
    "pred = predict(text['combined_text'])\n"
   ]
  },
  {
   "cell_type": "code",
   "execution_count": null,
   "metadata": {
    "colab": {
     "base_uri": "https://localhost:8080/"
    },
    "executionInfo": {
     "elapsed": 2,
     "status": "ok",
     "timestamp": 1711144424698,
     "user": {
      "displayName": "martin mora lopez",
      "userId": "11892096964695298240"
     },
     "user_tz": 360
    },
    "id": "aarpo49GXaoh",
    "outputId": "06d4efbd-74b7-4286-9f37-930490024cfb"
   },
   "outputs": [
    {
     "name": "stdout",
     "output_type": "stream",
     "text": [
      "19\n"
     ]
    }
   ],
   "source": [
    "print(pred)"
   ]
  },
  {
   "cell_type": "code",
   "execution_count": null,
   "metadata": {
    "id": "6SfDdc-iXkrv"
   },
   "outputs": [],
   "source": [
    "\n",
    "with h5py.File('label_encoder.h5', 'r') as hf:\n",
    "    label_encoder_classes = hf['label_encoder'][:]\n",
    "\n",
    "def compare_predictions(pred, label_encoder_classes):\n",
    "    if 0 <= pred < len(label_encoder_classes):\n",
    "        return label_encoder_classes[pred]\n",
    "    else:\n",
    "        return 'unknown'"
   ]
  },
  {
   "cell_type": "code",
   "execution_count": null,
   "metadata": {
    "colab": {
     "base_uri": "https://localhost:8080/"
    },
    "executionInfo": {
     "elapsed": 3,
     "status": "ok",
     "timestamp": 1711144434865,
     "user": {
      "displayName": "martin mora lopez",
      "userId": "11892096964695298240"
     },
     "user_tz": 360
    },
    "id": "sBNyFVhKY_R4",
    "outputId": "416b448e-dae5-424d-b0f8-0d5260a6c51d"
   },
   "outputs": [
    {
     "name": "stdout",
     "output_type": "stream",
     "text": [
      "b'Toys'\n"
     ]
    }
   ],
   "source": [
    "comp_pred = compare_predictions(pred, label_encoder_classes)\n",
    "print(comp_pred)"
   ]
  },
  {
   "cell_type": "code",
   "execution_count": null,
   "metadata": {
    "colab": {
     "base_uri": "https://localhost:8080/"
    },
    "executionInfo": {
     "elapsed": 950,
     "status": "ok",
     "timestamp": 1711144440927,
     "user": {
      "displayName": "martin mora lopez",
      "userId": "11892096964695298240"
     },
     "user_tz": 360
    },
    "id": "_CjJxR49dw-O",
    "outputId": "33583232-5f95-4966-ce49-61a782e7a18e"
   },
   "outputs": [
    {
     "name": "stdout",
     "output_type": "stream",
     "text": [
      "Toys\n"
     ]
    }
   ],
   "source": [
    "comp_pred_str = comp_pred.decode(\"utf-8\")\n",
    "print(comp_pred_str)\n",
    "\n",
    "#Aqui termina prediccion 0"
   ]
  },
  {
   "cell_type": "code",
   "execution_count": null,
   "metadata": {
    "id": "llkbPTGKFcHQ"
   },
   "outputs": [],
   "source": [
    "# model_1 fine tunning bert\n",
    "X_train_1['parent_category'] = X_train_1['parent_category'].apply(normalize_text)\n",
    "X_test_1['parent_category'] = X_test_1['parent_category'].apply(normalize_text)\n",
    "\n",
    "X_train_1['combined_text'] = X_train_1['name'].fillna('') + \" \" + X_train_1['description'].fillna('')+ \" \"+ X_train_1['parent_category']\n",
    "X_test_1['combined_text'] = X_test_1['name'].fillna('') + \" \" + X_test_1['description'].fillna('')+ \" \" + X_test_1['parent_category']"
   ]
  },
  {
   "cell_type": "code",
   "execution_count": null,
   "metadata": {
    "id": "pfsU4denKpBx"
   },
   "outputs": [],
   "source": [
    "# FT5: Tokenization of training and test data using the 'combined_text' column\n",
    "train_encodings_1 = tokenizer(X_train_1['combined_text'].tolist(), truncation=True, padding=True)\n",
    "test_encodings_1 = tokenizer(X_test_1['combined_text'].tolist(), truncation=True, padding=True)\n",
    "\n",
    "# Creation of training and test datasets\n",
    "train_dataset_1 = AlphaDataset(train_encodings_1, y_train_1)\n",
    "test_dataset_1 = AlphaDataset(test_encodings_1, y_test_1)\n"
   ]
  },
  {
   "cell_type": "code",
   "execution_count": null,
   "metadata": {
    "colab": {
     "base_uri": "https://localhost:8080/"
    },
    "executionInfo": {
     "elapsed": 1565,
     "status": "ok",
     "timestamp": 1711128651080,
     "user": {
      "displayName": "martin mora lopez",
      "userId": "11892096964695298240"
     },
     "user_tz": 360
    },
    "id": "ADKBzFRRLxLJ",
    "outputId": "c8187bb2-2e4a-4b1f-8ff5-7614d98e7399"
   },
   "outputs": [
    {
     "name": "stderr",
     "output_type": "stream",
     "text": [
      "Some weights of BertForSequenceClassification were not initialized from the model checkpoint at bert-base-uncased and are newly initialized: ['classifier.bias', 'classifier.weight']\n",
      "You should probably TRAIN this model on a down-stream task to be able to use it for predictions and inference.\n",
      "/usr/local/lib/python3.10/dist-packages/accelerate/accelerator.py:432: FutureWarning: Passing the following arguments to `Accelerator` is deprecated and will be removed in version 1.0 of Accelerate: dict_keys(['dispatch_batches', 'split_batches', 'even_batches', 'use_seedable_sampler']). Please pass an `accelerate.DataLoaderConfiguration` instead: \n",
      "dataloader_config = DataLoaderConfiguration(dispatch_batches=None, split_batches=False, even_batches=True, use_seedable_sampler=True)\n",
      "  warnings.warn(\n"
     ]
    }
   ],
   "source": [
    "from sklearn.metrics import accuracy_score\n",
    "\n",
    "def compute_metrics(pred):\n",
    "    labels = pred.label_ids\n",
    "    preds = pred.predictions.argmax(-1)\n",
    "    acc = accuracy_score(labels, preds)\n",
    "    return {'accuracy': acc}\n",
    "\n",
    "# Loading the pre-trained BERT model for the classification task\n",
    "model_1 = BertForSequenceClassification.from_pretrained(\n",
    "    'bert-base-uncased',  # Use the pre-trained base BERT model\n",
    "    num_labels=len(np.unique(y_1_encoded))  # Number of labels for classification\n",
    ")\n",
    "\n",
    "# Setting up training parameters\n",
    "training_args_1 = TrainingArguments(\n",
    "    output_dir='./results',            # Directory to save training results\n",
    "    num_train_epochs=5,                # Total number of training epochs\n",
    "    per_device_train_batch_size=8,     # Batch size for training\n",
    "    per_device_eval_batch_size=8,      # Batch size for evaluation\n",
    "    warmup_steps=500,                  # Number of warm-up steps to adjust the learning rate\n",
    "    weight_decay=0.01,                 # Weight decay for regularization\n",
    "    logging_dir='./logs',              # Directory to save logs\n",
    "    evaluation_strategy=\"epoch\"        # Evaluation strategy (can be \"no\", \"steps\", or \"epoch\")\n",
    ")\n",
    "\n",
    "# # Creating a Trainer instance, which will be used to train and evaluate the BERT model\n",
    "trainer_1 = Trainer(\n",
    "    model=model_1,                      # The BERT model to be trained\n",
    "    args=training_args_1,               # The training arguments\n",
    "    train_dataset=train_dataset_1,      # Training dataset\n",
    "    eval_dataset=test_dataset_1,        # Evaluation dataset\n",
    "    compute_metrics=compute_metrics\n",
    ")\n"
   ]
  },
  {
   "cell_type": "code",
   "execution_count": null,
   "metadata": {
    "colab": {
     "base_uri": "https://localhost:8080/",
     "height": 284
    },
    "executionInfo": {
     "elapsed": 1975521,
     "status": "ok",
     "timestamp": 1711130631863,
     "user": {
      "displayName": "martin mora lopez",
      "userId": "11892096964695298240"
     },
     "user_tz": 360
    },
    "id": "Q2zx32ObNAaC",
    "outputId": "ba04f05a-b953-4c3d-f7eb-aa1203d08855"
   },
   "outputs": [
    {
     "data": {
      "text/html": [
       "\n",
       "    <div>\n",
       "      \n",
       "      <progress value='25020' max='25020' style='width:300px; height:20px; vertical-align: middle;'></progress>\n",
       "      [25020/25020 32:53, Epoch 5/5]\n",
       "    </div>\n",
       "    <table border=\"1\" class=\"dataframe\">\n",
       "  <thead>\n",
       " <tr style=\"text-align: left;\">\n",
       "      <th>Epoch</th>\n",
       "      <th>Training Loss</th>\n",
       "      <th>Validation Loss</th>\n",
       "      <th>Accuracy</th>\n",
       "    </tr>\n",
       "  </thead>\n",
       "  <tbody>\n",
       "    <tr>\n",
       "      <td>1</td>\n",
       "      <td>0.214900</td>\n",
       "      <td>0.268487</td>\n",
       "      <td>0.938256</td>\n",
       "    </tr>\n",
       "    <tr>\n",
       "      <td>2</td>\n",
       "      <td>0.180700</td>\n",
       "      <td>0.189889</td>\n",
       "      <td>0.959936</td>\n",
       "    </tr>\n",
       "    <tr>\n",
       "      <td>3</td>\n",
       "      <td>0.109300</td>\n",
       "      <td>0.186079</td>\n",
       "      <td>0.966031</td>\n",
       "    </tr>\n",
       "    <tr>\n",
       "      <td>4</td>\n",
       "      <td>0.091800</td>\n",
       "      <td>0.180614</td>\n",
       "      <td>0.968029</td>\n",
       "    </tr>\n",
       "    <tr>\n",
       "      <td>5</td>\n",
       "      <td>0.035800</td>\n",
       "      <td>0.181010</td>\n",
       "      <td>0.970327</td>\n",
       "    </tr>\n",
       "  </tbody>\n",
       "</table><p>"
      ],
      "text/plain": [
       "<IPython.core.display.HTML object>"
      ]
     },
     "metadata": {},
     "output_type": "display_data"
    },
    {
     "data": {
      "text/plain": [
       "TrainOutput(global_step=25020, training_loss=0.23722762163761232, metrics={'train_runtime': 1974.8191, 'train_samples_per_second': 101.356, 'train_steps_per_second': 12.67, 'total_flos': 1.503265851520128e+16, 'train_loss': 0.23722762163761232, 'epoch': 5.0})"
      ]
     },
     "execution_count": 22,
     "metadata": {},
     "output_type": "execute_result"
    }
   ],
   "source": [
    "trainer_1.train()"
   ]
  },
  {
   "cell_type": "code",
   "execution_count": null,
   "metadata": {
    "colab": {
     "base_uri": "https://localhost:8080/"
    },
    "executionInfo": {
     "elapsed": 1665,
     "status": "ok",
     "timestamp": 1711135759506,
     "user": {
      "displayName": "martin mora lopez",
      "userId": "11892096964695298240"
     },
     "user_tz": 360
    },
    "id": "pYLHdtmveMxD",
    "outputId": "94eebb78-ec47-46b6-d522-5ffdcc190ea3"
   },
   "outputs": [
    {
     "data": {
      "text/plain": [
       "('/content/drive/MyDrive/anyone_final_project/finetunning_2/tokenizer_config.json',\n",
       " '/content/drive/MyDrive/anyone_final_project/finetunning_2/special_tokens_map.json',\n",
       " '/content/drive/MyDrive/anyone_final_project/finetunning_2/vocab.txt',\n",
       " '/content/drive/MyDrive/anyone_final_project/finetunning_2/added_tokens.json')"
      ]
     },
     "execution_count": 54,
     "metadata": {},
     "output_type": "execute_result"
    }
   ],
   "source": [
    "\n",
    "# Especifica la ruta donde deseas guardar el modelo\n",
    "model_path = \"/content/drive/MyDrive/anyone_final_project/finetunning_2\"\n",
    "\n",
    "# Guarda el modelo\n",
    "model_1.save_pretrained(model_path)\n",
    "\n",
    "# Nota: También puedes guardar el Tokenizador si es necesario\n",
    "tokenizer.save_pretrained(model_path)\n",
    "\n",
    "\n",
    "\n"
   ]
  },
  {
   "cell_type": "code",
   "execution_count": null,
   "metadata": {
    "colab": {
     "base_uri": "https://localhost:8080/"
    },
    "executionInfo": {
     "elapsed": 695,
     "status": "ok",
     "timestamp": 1711149236168,
     "user": {
      "displayName": "martin mora lopez",
      "userId": "11892096964695298240"
     },
     "user_tz": 360
    },
    "id": "KHz0kpvghrUN",
    "outputId": "96f1d529-113a-4c60-b607-83b1826bad78"
   },
   "outputs": [
    {
     "name": "stdout",
     "output_type": "stream",
     "text": [
      "toy\n",
      "{'name': 'trumpet multimedia trumpet work calendar black', 'description': 'trumpet multimedia trumpet work calendar calendar trumpet work design', 'price': 23.95, 'type': 'HardGood', 'manufacturer': 'Trumpet Multimedia', 'combined_text': 'trumpet multimedia trumpet work calendar black trumpet multimedia trumpet work calendar calendar trumpet work design toy'}\n"
     ]
    }
   ],
   "source": [
    "#Prediccion 1\n",
    "text_1 = {\n",
    "    \"name\": \"Trumpet Multimedia - Trumpets That Work 2015 Calendar - Black\",\n",
    "    \"description\": \"TRUMPET MULTIMEDIA Trumpets That Work 2015 Calendar: 2015 calendar; Trumpets That Work design\",\n",
    "    \"price\": 23.95,\n",
    "    \"type\": \"HardGood\",\n",
    "    \"manufacturer\": \"Trumpet Multimedia\",\n",
    "}\n",
    "\n",
    "text_1['name'] = normalize_text(text_1['name'])\n",
    "text_1['description'] = normalize_text(text_1['description'])\n",
    "comp_pred_str = normalize_text(comp_pred_str)\n",
    "print(comp_pred_str)\n",
    "text_1['combined_text'] = text_1['name'] + \" \" + text_1['description']+ \" \" + comp_pred_str\n",
    "print(text_1)\n",
    "model_1_path = '/content/drive/MyDrive/anyone_final_project/finetunning_2'\n",
    "\n",
    "# Cargar el tokenizer\n",
    "tokenizer_1 = BertTokenizer.from_pretrained(model_1_path)\n",
    "\n",
    "# Cargar el modelo\n",
    "model_1 = BertForSequenceClassification.from_pretrained(model_1_path)\n",
    "\n",
    "\n",
    "def predict_1(text_1):\n",
    "    # Preparar los tokens de entrada\n",
    "    inputs = tokenizer_1(text_1, padding=True, truncation=True, max_length=512, return_tensors=\"pt\")\n",
    "\n",
    "    # Hacer predicción\n",
    "    model_1.eval()  # Asegúrate de que el modelo esté en modo evaluación\n",
    "    with torch.no_grad():  # Desactivar la generación de gradientes\n",
    "        outputs = model_1(**inputs)\n",
    "\n",
    "    # Obtener la predicción de la última capa\n",
    "    logits = outputs.logits\n",
    "    predicted_class_id = logits.argmax().item()\n",
    "    return predicted_class_id\n"
   ]
  },
  {
   "cell_type": "code",
   "execution_count": null,
   "metadata": {
    "id": "2PZn2RHmhrIF"
   },
   "outputs": [],
   "source": [
    "pred_1 = predict_1(text_1['combined_text'])"
   ]
  },
  {
   "cell_type": "code",
   "execution_count": null,
   "metadata": {
    "colab": {
     "base_uri": "https://localhost:8080/"
    },
    "executionInfo": {
     "elapsed": 326,
     "status": "ok",
     "timestamp": 1711144486027,
     "user": {
      "displayName": "martin mora lopez",
      "userId": "11892096964695298240"
     },
     "user_tz": 360
    },
    "id": "xz-Z-iYSlLc2",
    "outputId": "4edb739a-68e0-487d-c863-c12af417f2f3"
   },
   "outputs": [
    {
     "name": "stdout",
     "output_type": "stream",
     "text": [
      "42\n"
     ]
    }
   ],
   "source": [
    "print(pred_1)"
   ]
  },
  {
   "cell_type": "code",
   "execution_count": null,
   "metadata": {
    "id": "CPunlimyhq9G"
   },
   "outputs": [],
   "source": [
    "with h5py.File('label_encoder_1.h5', 'r') as hf:\n",
    "    label_encoder_classes_1 = hf['label_encoder_1'][:]\n",
    "\n",
    "def compare_predictions(pred_1, label_encoder_classes_1):\n",
    "    if 0 <= pred_1 < len(label_encoder_classes_1):\n",
    "        return label_encoder_classes_1[pred_1]\n",
    "    else:\n",
    "        return 'unknown'"
   ]
  },
  {
   "cell_type": "code",
   "execution_count": null,
   "metadata": {
    "colab": {
     "base_uri": "https://localhost:8080/"
    },
    "executionInfo": {
     "elapsed": 2,
     "status": "ok",
     "timestamp": 1711144492574,
     "user": {
      "displayName": "martin mora lopez",
      "userId": "11892096964695298240"
     },
     "user_tz": 360
    },
    "id": "iDC0NHxkkyV1",
    "outputId": "289aaacd-669a-4c6e-9c71-5bdb74954fbb"
   },
   "outputs": [
    {
     "name": "stdout",
     "output_type": "stream",
     "text": [
      "b' Games & Drones'\n"
     ]
    }
   ],
   "source": [
    "comp_pred_1 = compare_predictions(pred_1, label_encoder_classes_1)\n",
    "print(comp_pred_1)"
   ]
  },
  {
   "cell_type": "code",
   "execution_count": null,
   "metadata": {
    "colab": {
     "base_uri": "https://localhost:8080/"
    },
    "executionInfo": {
     "elapsed": 1043,
     "status": "ok",
     "timestamp": 1711144513555,
     "user": {
      "displayName": "martin mora lopez",
      "userId": "11892096964695298240"
     },
     "user_tz": 360
    },
    "id": "9B4Jf9rdkyMe",
    "outputId": "0713a4eb-023c-47a2-b17b-9dd68d86e2d5"
   },
   "outputs": [
    {
     "name": "stdout",
     "output_type": "stream",
     "text": [
      " Games & Drones\n"
     ]
    }
   ],
   "source": [
    "comp_pred_str_1 = comp_pred_1.decode(\"utf-8\")\n",
    "print(comp_pred_str_1)\n",
    "\n",
    "#Aqui termina prediccion 1"
   ]
  },
  {
   "cell_type": "code",
   "execution_count": null,
   "metadata": {
    "id": "6ZHfgCAisQhI"
   },
   "outputs": [],
   "source": [
    "# model_2 fine tunning bert\n",
    "X_train_2['parent_category'] = X_train_2['parent_category'].apply(normalize_text)\n",
    "X_test_2['parent_category'] = X_test_2['parent_category'].apply(normalize_text)\n",
    "\n",
    "X_train_2['sub_category_1'] = X_train_2['sub_category_1'].apply(normalize_text)\n",
    "X_test_2['sub_category_1'] = X_test_2['sub_category_1'].apply(normalize_text)\n",
    "\n",
    "\n",
    "X_train_2['combined_text'] = X_train_2['name_normalized'].fillna('') + \" \" + X_train_2['description_normalized'].fillna('') + \" \"+ X_train_2['parent_category'] + \" \"+ X_train_2['sub_category_1']\n",
    "X_test_2['combined_text'] = X_test_2['name_normalized'].fillna('') + \" \" + X_test_2['description_normalized'].fillna('') + \" \" + X_test_2['parent_category'] + \" \"+ X_test_2['sub_category_1']"
   ]
  },
  {
   "cell_type": "code",
   "execution_count": null,
   "metadata": {
    "id": "54QXOh3wsQef"
   },
   "outputs": [],
   "source": [
    "#Tokenization model_2\n",
    "train_encodings_2 = tokenizer(X_train_2['combined_text'].tolist(), truncation=True, padding=True)\n",
    "test_encodings_2 = tokenizer(X_test_2['combined_text'].tolist(), truncation=True, padding=True)\n",
    "\n",
    "# Creation of training and test datasets\n",
    "train_dataset_2 = AlphaDataset(train_encodings_2, y_train_2)\n",
    "test_dataset_2 = AlphaDataset(test_encodings_2, y_test_2)\n"
   ]
  },
  {
   "cell_type": "code",
   "execution_count": null,
   "metadata": {
    "colab": {
     "base_uri": "https://localhost:8080/"
    },
    "executionInfo": {
     "elapsed": 1856,
     "status": "ok",
     "timestamp": 1711139476449,
     "user": {
      "displayName": "martin mora lopez",
      "userId": "11892096964695298240"
     },
     "user_tz": 360
    },
    "id": "f8w5fXwksQbp",
    "outputId": "9c5d5a37-f285-497a-c0fb-146639fe4bcf"
   },
   "outputs": [
    {
     "name": "stderr",
     "output_type": "stream",
     "text": [
      "Some weights of BertForSequenceClassification were not initialized from the model checkpoint at bert-base-uncased and are newly initialized: ['classifier.bias', 'classifier.weight']\n",
      "You should probably TRAIN this model on a down-stream task to be able to use it for predictions and inference.\n"
     ]
    }
   ],
   "source": [
    "\n",
    "def compute_metrics(pred):\n",
    "    labels = pred.label_ids\n",
    "    preds = pred.predictions.argmax(-1)\n",
    "    acc = accuracy_score(labels, preds)\n",
    "    return {'accuracy': acc}\n",
    "\n",
    "# Loading the pre-trained BERT model for the classification task\n",
    "model_2 = BertForSequenceClassification.from_pretrained(\n",
    "    'bert-base-uncased',  # Use the pre-trained base BERT model\n",
    "    num_labels=len(np.unique(y_2_encoded))  # Number of labels for classification\n",
    ")\n",
    "\n",
    "# Setting up training parameters\n",
    "training_args_2 = TrainingArguments(\n",
    "    output_dir='./results',            # Directory to save training results\n",
    "    num_train_epochs=5,                # Total number of training epochs\n",
    "    per_device_train_batch_size=8,     # Batch size for training\n",
    "    per_device_eval_batch_size=8,      # Batch size for evaluation\n",
    "    warmup_steps=500,                  # Number of warm-up steps to adjust the learning rate\n",
    "    weight_decay=0.01,                 # Weight decay for regularization\n",
    "    logging_dir='./logs',              # Directory to save logs\n",
    "    evaluation_strategy=\"epoch\"        # Evaluation strategy (can be \"no\", \"steps\", or \"epoch\")\n",
    ")\n",
    "\n",
    "# # Creating a Trainer instance, which will be used to train and evaluate the BERT model\n",
    "trainer_2 = Trainer(\n",
    "    model=model_2,                      # The BERT model to be trained\n",
    "    args=training_args_2,               # The training arguments\n",
    "    train_dataset=train_dataset_2,      # Training dataset\n",
    "    eval_dataset=test_dataset_2,        # Evaluation dataset\n",
    "    compute_metrics=compute_metrics\n",
    ")"
   ]
  },
  {
   "cell_type": "code",
   "execution_count": null,
   "metadata": {
    "colab": {
     "base_uri": "https://localhost:8080/",
     "height": 1000
    },
    "executionInfo": {
     "elapsed": 1497807,
     "status": "ok",
     "timestamp": 1711141031889,
     "user": {
      "displayName": "martin mora lopez",
      "userId": "11892096964695298240"
     },
     "user_tz": 360
    },
    "id": "zryXEMvIsQWR",
    "outputId": "8fa7efa8-f576-43f4-eaa0-e117fa112c0b"
   },
   "outputs": [
    {
     "data": {
      "text/html": [
       "\n",
       "    <div>\n",
       "      \n",
       "      <progress value='25020' max='25020' style='width:300px; height:20px; vertical-align: middle;'></progress>\n",
       "      [25020/25020 24:57, Epoch 5/5]\n",
       "    </div>\n",
       "    <table border=\"1\" class=\"dataframe\">\n",
       "  <thead>\n",
       " <tr style=\"text-align: left;\">\n",
       "      <th>Epoch</th>\n",
       "      <th>Training Loss</th>\n",
       "      <th>Validation Loss</th>\n",
       "      <th>Accuracy</th>\n",
       "    </tr>\n",
       "  </thead>\n",
       "  <tbody>\n",
       "    <tr>\n",
       "      <td>1</td>\n",
       "      <td>0.655400</td>\n",
       "      <td>0.650263</td>\n",
       "      <td>0.847337</td>\n",
       "    </tr>\n",
       "    <tr>\n",
       "      <td>2</td>\n",
       "      <td>0.387400</td>\n",
       "      <td>0.423119</td>\n",
       "      <td>0.889699</td>\n",
       "    </tr>\n",
       "    <tr>\n",
       "      <td>3</td>\n",
       "      <td>0.245500</td>\n",
       "      <td>0.332859</td>\n",
       "      <td>0.920472</td>\n",
       "    </tr>\n",
       "    <tr>\n",
       "      <td>4</td>\n",
       "      <td>0.154300</td>\n",
       "      <td>0.322940</td>\n",
       "      <td>0.931861</td>\n",
       "    </tr>\n",
       "    <tr>\n",
       "      <td>5</td>\n",
       "      <td>0.086200</td>\n",
       "      <td>0.318869</td>\n",
       "      <td>0.935058</td>\n",
       "    </tr>\n",
       "  </tbody>\n",
       "</table><p>"
      ],
      "text/plain": [
       "<IPython.core.display.HTML object>"
      ]
     },
     "metadata": {},
     "output_type": "display_data"
    },
    {
     "name": "stderr",
     "output_type": "stream",
     "text": [
      "Checkpoint destination directory ./results/checkpoint-500 already exists and is non-empty. Saving will proceed but saved results may be invalid.\n",
      "Checkpoint destination directory ./results/checkpoint-1000 already exists and is non-empty. Saving will proceed but saved results may be invalid.\n",
      "Checkpoint destination directory ./results/checkpoint-1500 already exists and is non-empty. Saving will proceed but saved results may be invalid.\n",
      "Checkpoint destination directory ./results/checkpoint-2000 already exists and is non-empty. Saving will proceed but saved results may be invalid.\n",
      "Checkpoint destination directory ./results/checkpoint-2500 already exists and is non-empty. Saving will proceed but saved results may be invalid.\n",
      "Checkpoint destination directory ./results/checkpoint-3000 already exists and is non-empty. Saving will proceed but saved results may be invalid.\n",
      "Checkpoint destination directory ./results/checkpoint-3500 already exists and is non-empty. Saving will proceed but saved results may be invalid.\n",
      "Checkpoint destination directory ./results/checkpoint-4000 already exists and is non-empty. Saving will proceed but saved results may be invalid.\n",
      "Checkpoint destination directory ./results/checkpoint-4500 already exists and is non-empty. Saving will proceed but saved results may be invalid.\n",
      "Checkpoint destination directory ./results/checkpoint-5000 already exists and is non-empty. Saving will proceed but saved results may be invalid.\n",
      "Checkpoint destination directory ./results/checkpoint-5500 already exists and is non-empty. Saving will proceed but saved results may be invalid.\n",
      "Checkpoint destination directory ./results/checkpoint-6000 already exists and is non-empty. Saving will proceed but saved results may be invalid.\n",
      "Checkpoint destination directory ./results/checkpoint-6500 already exists and is non-empty. Saving will proceed but saved results may be invalid.\n",
      "Checkpoint destination directory ./results/checkpoint-7000 already exists and is non-empty. Saving will proceed but saved results may be invalid.\n",
      "Checkpoint destination directory ./results/checkpoint-7500 already exists and is non-empty. Saving will proceed but saved results may be invalid.\n",
      "Checkpoint destination directory ./results/checkpoint-8000 already exists and is non-empty. Saving will proceed but saved results may be invalid.\n",
      "Checkpoint destination directory ./results/checkpoint-8500 already exists and is non-empty. Saving will proceed but saved results may be invalid.\n",
      "Checkpoint destination directory ./results/checkpoint-9000 already exists and is non-empty. Saving will proceed but saved results may be invalid.\n",
      "Checkpoint destination directory ./results/checkpoint-9500 already exists and is non-empty. Saving will proceed but saved results may be invalid.\n",
      "Checkpoint destination directory ./results/checkpoint-10000 already exists and is non-empty. Saving will proceed but saved results may be invalid.\n",
      "Checkpoint destination directory ./results/checkpoint-10500 already exists and is non-empty. Saving will proceed but saved results may be invalid.\n",
      "Checkpoint destination directory ./results/checkpoint-11000 already exists and is non-empty. Saving will proceed but saved results may be invalid.\n",
      "Checkpoint destination directory ./results/checkpoint-11500 already exists and is non-empty. Saving will proceed but saved results may be invalid.\n",
      "Checkpoint destination directory ./results/checkpoint-12000 already exists and is non-empty. Saving will proceed but saved results may be invalid.\n",
      "Checkpoint destination directory ./results/checkpoint-12500 already exists and is non-empty. Saving will proceed but saved results may be invalid.\n",
      "Checkpoint destination directory ./results/checkpoint-13000 already exists and is non-empty. Saving will proceed but saved results may be invalid.\n",
      "Checkpoint destination directory ./results/checkpoint-13500 already exists and is non-empty. Saving will proceed but saved results may be invalid.\n",
      "Checkpoint destination directory ./results/checkpoint-14000 already exists and is non-empty. Saving will proceed but saved results may be invalid.\n",
      "Checkpoint destination directory ./results/checkpoint-14500 already exists and is non-empty. Saving will proceed but saved results may be invalid.\n",
      "Checkpoint destination directory ./results/checkpoint-15000 already exists and is non-empty. Saving will proceed but saved results may be invalid.\n",
      "Checkpoint destination directory ./results/checkpoint-15500 already exists and is non-empty. Saving will proceed but saved results may be invalid.\n",
      "Checkpoint destination directory ./results/checkpoint-16000 already exists and is non-empty. Saving will proceed but saved results may be invalid.\n",
      "Checkpoint destination directory ./results/checkpoint-16500 already exists and is non-empty. Saving will proceed but saved results may be invalid.\n",
      "Checkpoint destination directory ./results/checkpoint-17000 already exists and is non-empty. Saving will proceed but saved results may be invalid.\n",
      "Checkpoint destination directory ./results/checkpoint-17500 already exists and is non-empty. Saving will proceed but saved results may be invalid.\n",
      "Checkpoint destination directory ./results/checkpoint-18000 already exists and is non-empty. Saving will proceed but saved results may be invalid.\n",
      "Checkpoint destination directory ./results/checkpoint-18500 already exists and is non-empty. Saving will proceed but saved results may be invalid.\n",
      "Checkpoint destination directory ./results/checkpoint-19000 already exists and is non-empty. Saving will proceed but saved results may be invalid.\n",
      "Checkpoint destination directory ./results/checkpoint-19500 already exists and is non-empty. Saving will proceed but saved results may be invalid.\n",
      "Checkpoint destination directory ./results/checkpoint-20000 already exists and is non-empty. Saving will proceed but saved results may be invalid.\n",
      "Checkpoint destination directory ./results/checkpoint-20500 already exists and is non-empty. Saving will proceed but saved results may be invalid.\n",
      "Checkpoint destination directory ./results/checkpoint-21000 already exists and is non-empty. Saving will proceed but saved results may be invalid.\n",
      "Checkpoint destination directory ./results/checkpoint-21500 already exists and is non-empty. Saving will proceed but saved results may be invalid.\n",
      "Checkpoint destination directory ./results/checkpoint-22000 already exists and is non-empty. Saving will proceed but saved results may be invalid.\n",
      "Checkpoint destination directory ./results/checkpoint-22500 already exists and is non-empty. Saving will proceed but saved results may be invalid.\n",
      "Checkpoint destination directory ./results/checkpoint-23000 already exists and is non-empty. Saving will proceed but saved results may be invalid.\n",
      "Checkpoint destination directory ./results/checkpoint-23500 already exists and is non-empty. Saving will proceed but saved results may be invalid.\n",
      "Checkpoint destination directory ./results/checkpoint-24000 already exists and is non-empty. Saving will proceed but saved results may be invalid.\n",
      "Checkpoint destination directory ./results/checkpoint-24500 already exists and is non-empty. Saving will proceed but saved results may be invalid.\n",
      "Checkpoint destination directory ./results/checkpoint-25000 already exists and is non-empty. Saving will proceed but saved results may be invalid.\n"
     ]
    },
    {
     "data": {
      "text/plain": [
       "TrainOutput(global_step=25020, training_loss=0.5096236059610411, metrics={'train_runtime': 1497.3711, 'train_samples_per_second': 133.674, 'train_steps_per_second': 16.709, 'total_flos': 9183059691693120.0, 'train_loss': 0.5096236059610411, 'epoch': 5.0})"
      ]
     },
     "execution_count": 80,
     "metadata": {},
     "output_type": "execute_result"
    }
   ],
   "source": [
    "trainer_2.train()"
   ]
  },
  {
   "cell_type": "code",
   "execution_count": null,
   "metadata": {
    "colab": {
     "base_uri": "https://localhost:8080/"
    },
    "executionInfo": {
     "elapsed": 1802,
     "status": "ok",
     "timestamp": 1711141529015,
     "user": {
      "displayName": "martin mora lopez",
      "userId": "11892096964695298240"
     },
     "user_tz": 360
    },
    "id": "O6RRMp_e-sF1",
    "outputId": "3ec55fa4-b071-46c7-f12d-775c5211433f"
   },
   "outputs": [
    {
     "data": {
      "text/plain": [
       "('/content/drive/MyDrive/anyone_final_project/finetunning_3/tokenizer_config.json',\n",
       " '/content/drive/MyDrive/anyone_final_project/finetunning_3/special_tokens_map.json',\n",
       " '/content/drive/MyDrive/anyone_final_project/finetunning_3/vocab.txt',\n",
       " '/content/drive/MyDrive/anyone_final_project/finetunning_3/added_tokens.json')"
      ]
     },
     "execution_count": 93,
     "metadata": {},
     "output_type": "execute_result"
    }
   ],
   "source": [
    "# Especifica la ruta donde deseas guardar el modelo\n",
    "model_path = \"/content/drive/MyDrive/anyone_final_project/finetunning_3\"\n",
    "\n",
    "# Guarda el modelo\n",
    "model_2.save_pretrained(model_path)\n",
    "\n",
    "# Nota: También puedes guardar el Tokenizador si es necesario\n",
    "tokenizer.save_pretrained(model_path)"
   ]
  },
  {
   "cell_type": "code",
   "execution_count": null,
   "metadata": {
    "colab": {
     "base_uri": "https://localhost:8080/"
    },
    "executionInfo": {
     "elapsed": 1633,
     "status": "ok",
     "timestamp": 1711144537484,
     "user": {
      "displayName": "martin mora lopez",
      "userId": "11892096964695298240"
     },
     "user_tz": 360
    },
    "id": "GzoV0sYbsQSY",
    "outputId": "4c288252-f4d7-4aef-8fe0-d97b72d4dd77"
   },
   "outputs": [
    {
     "name": "stdout",
     "output_type": "stream",
     "text": [
      "{'name': 'trumpet multimedia trumpet work calendar black', 'description': 'trumpet multimedia trumpet work calendar calendar trumpet work design', 'price': 23.95, 'type': 'HardGood', 'manufacturer': 'Trumpet Multimedia', 'combined_text': 'trumpet multimedia trumpet work calendar black trumpet multimedia trumpet work calendar calendar trumpet work design toy game drone'}\n"
     ]
    }
   ],
   "source": [
    "#Prediccion 2\n",
    "text_2 = {\n",
    "    \"name\": \"Trumpet Multimedia - Trumpets That Work 2015 Calendar - Black\",\n",
    "    \"description\": \"TRUMPET MULTIMEDIA Trumpets That Work 2015 Calendar: 2015 calendar; Trumpets That Work design\",\n",
    "    \"price\": 23.95,\n",
    "    \"type\": \"HardGood\",\n",
    "    \"manufacturer\": \"Trumpet Multimedia\",\n",
    "}\n",
    "\n",
    "text_2['name'] = normalize_text(text_2['name'])\n",
    "text_2['description'] = normalize_text(text_2['description'])\n",
    "comp_pred_str = normalize_text(comp_pred_str)\n",
    "comp_pred_str_1 = normalize_text(comp_pred_str_1)\n",
    "\n",
    "text_2['combined_text'] = text_2['name'] + \" \" + text_2['description']+ \" \" + comp_pred_str + \" \" + comp_pred_str_1\n",
    "print(text_2)\n",
    "model_2_path = '/content/drive/MyDrive/anyone_final_project/finetunning_3'\n",
    "\n",
    "# Cargar el tokenizer\n",
    "tokenizer_2 = BertTokenizer.from_pretrained(model_2_path)\n",
    "\n",
    "# Cargar el modelo\n",
    "model_2 = BertForSequenceClassification.from_pretrained(model_2_path)\n",
    "\n",
    "\n",
    "def predict_2(text_2):\n",
    "    # Preparar los tokens de entrada\n",
    "    inputs = tokenizer_2(text_2, padding=True, truncation=True, max_length=512, return_tensors=\"pt\")\n",
    "\n",
    "    # Hacer predicción\n",
    "    model_2.eval()  # Asegúrate de que el modelo esté en modo evaluación\n",
    "    with torch.no_grad():  # Desactivar la generación de gradientes\n",
    "        outputs = model_2(**inputs)\n",
    "\n",
    "    # Obtener la predicción de la última capa\n",
    "    logits = outputs.logits\n",
    "    predicted_class_id = logits.argmax().item()\n",
    "    return predicted_class_id"
   ]
  },
  {
   "cell_type": "code",
   "execution_count": null,
   "metadata": {
    "colab": {
     "base_uri": "https://localhost:8080/"
    },
    "executionInfo": {
     "elapsed": 399,
     "status": "ok",
     "timestamp": 1711144543890,
     "user": {
      "displayName": "martin mora lopez",
      "userId": "11892096964695298240"
     },
     "user_tz": 360
    },
    "id": "hjKSfGG2sQDY",
    "outputId": "18d50176-c83f-4fb4-f6b4-6393c84dea71"
   },
   "outputs": [
    {
     "name": "stdout",
     "output_type": "stream",
     "text": [
      "302\n"
     ]
    }
   ],
   "source": [
    "pred_2 = predict_2(text_2['combined_text'])\n",
    "print(pred_2)"
   ]
  },
  {
   "cell_type": "code",
   "execution_count": null,
   "metadata": {
    "id": "wzv3lNhj-kjT"
   },
   "outputs": [],
   "source": [
    "with h5py.File('label_encoder_2.h5', 'r') as hf:\n",
    "    label_encoder_classes_2 = hf['label_encoder_2'][:]\n",
    "\n",
    "def compare_predictions(pred_2, label_encoder_classes_2):\n",
    "    if 0 <= pred_2 < len(label_encoder_classes_2):\n",
    "        return label_encoder_classes_2[pred_2]\n",
    "    else:\n",
    "        return 'unknown'"
   ]
  },
  {
   "cell_type": "code",
   "execution_count": null,
   "metadata": {
    "colab": {
     "base_uri": "https://localhost:8080/"
    },
    "executionInfo": {
     "elapsed": 3,
     "status": "ok",
     "timestamp": 1711144550805,
     "user": {
      "displayName": "martin mora lopez",
      "userId": "11892096964695298240"
     },
     "user_tz": 360
    },
    "id": "RXOj0b7U-kZc",
    "outputId": "29d02cf8-6784-4f73-c82e-01d3108694fe"
   },
   "outputs": [
    {
     "name": "stdout",
     "output_type": "stream",
     "text": [
      "b' TV'\n"
     ]
    }
   ],
   "source": [
    "comp_pred_2 = compare_predictions(pred_2, label_encoder_classes_2)\n",
    "print(comp_pred_2)"
   ]
  },
  {
   "cell_type": "code",
   "execution_count": null,
   "metadata": {
    "colab": {
     "base_uri": "https://localhost:8080/"
    },
    "executionInfo": {
     "elapsed": 316,
     "status": "ok",
     "timestamp": 1711144554223,
     "user": {
      "displayName": "martin mora lopez",
      "userId": "11892096964695298240"
     },
     "user_tz": 360
    },
    "id": "OKM3piZUAPpr",
    "outputId": "728cfcd4-3c8f-45cc-c2d7-859193398f6b"
   },
   "outputs": [
    {
     "name": "stdout",
     "output_type": "stream",
     "text": [
      " TV\n"
     ]
    }
   ],
   "source": [
    "comp_pred_str_2 = comp_pred_2.decode(\"utf-8\")\n",
    "print(comp_pred_str_2)\n",
    "\n",
    "#Aqui termina prediccion 2"
   ]
  },
  {
   "cell_type": "code",
   "execution_count": null,
   "metadata": {
    "id": "udS7j1elAl6U"
   },
   "outputs": [],
   "source": [
    "X_train_3['parent_category'] = X_train_3['parent_category'].apply(normalize_text)\n",
    "X_test_3['parent_category'] = X_test_3['parent_category'].apply(normalize_text)\n",
    "\n",
    "X_train_3['sub_category_1'] = X_train_3['sub_category_1'].apply(normalize_text)\n",
    "X_test_3['sub_category_1'] = X_test_3['sub_category_1'].apply(normalize_text)\n",
    "\n",
    "X_train_3['sub_category_2'] = X_train_3['sub_category_2'].apply(normalize_text)\n",
    "X_test_3['sub_category_2'] = X_test_3['sub_category_2'].apply(normalize_text)\n",
    "\n",
    "\n",
    "X_train_3['combined_text'] = X_train_3['name_normalized'].fillna('') + \" \" + X_train_3['description_normalized'].fillna('') + \" \"+ X_train_3['parent_category'] + \" \"+ X_train_3['sub_category_1'] + \" \"+ X_train_3['sub_category_2']\n",
    "X_test_3['combined_text'] = X_test_3['name_normalized'].fillna('') + \" \" + X_test_3['description_normalized'].fillna('') + \" \" + X_test_3['parent_category'] + \" \"+ X_test_3['sub_category_1'] + \" \"+ X_test_3['sub_category_2']"
   ]
  },
  {
   "cell_type": "code",
   "execution_count": null,
   "metadata": {
    "id": "cE5LEkwVAl3e"
   },
   "outputs": [],
   "source": [
    "#Tokenization model_3\n",
    "train_encodings_3 = tokenizer(X_train_3['combined_text'].tolist(), truncation=True, padding=True)\n",
    "test_encodings_3 = tokenizer(X_test_3['combined_text'].tolist(), truncation=True, padding=True)\n",
    "\n",
    "# Creation of training and test datasets\n",
    "train_dataset_3 = AlphaDataset(train_encodings_3, y_train_3)\n",
    "test_dataset_3 = AlphaDataset(test_encodings_3, y_test_3)"
   ]
  },
  {
   "cell_type": "code",
   "execution_count": null,
   "metadata": {
    "colab": {
     "base_uri": "https://localhost:8080/"
    },
    "executionInfo": {
     "elapsed": 1538,
     "status": "ok",
     "timestamp": 1711142768965,
     "user": {
      "displayName": "martin mora lopez",
      "userId": "11892096964695298240"
     },
     "user_tz": 360
    },
    "id": "Cz7dRCJSAluL",
    "outputId": "1b4164ed-a43f-400c-9d0d-d62dbcb2e90f"
   },
   "outputs": [
    {
     "name": "stderr",
     "output_type": "stream",
     "text": [
      "Some weights of BertForSequenceClassification were not initialized from the model checkpoint at bert-base-uncased and are newly initialized: ['classifier.bias', 'classifier.weight']\n",
      "You should probably TRAIN this model on a down-stream task to be able to use it for predictions and inference.\n",
      "/usr/local/lib/python3.10/dist-packages/accelerate/accelerator.py:432: FutureWarning: Passing the following arguments to `Accelerator` is deprecated and will be removed in version 1.0 of Accelerate: dict_keys(['dispatch_batches', 'split_batches', 'even_batches', 'use_seedable_sampler']). Please pass an `accelerate.DataLoaderConfiguration` instead: \n",
      "dataloader_config = DataLoaderConfiguration(dispatch_batches=None, split_batches=False, even_batches=True, use_seedable_sampler=True)\n",
      "  warnings.warn(\n"
     ]
    }
   ],
   "source": [
    "def compute_metrics(pred):\n",
    "    labels = pred.label_ids\n",
    "    preds = pred.predictions.argmax(-1)\n",
    "    acc = accuracy_score(labels, preds)\n",
    "    return {'accuracy': acc}\n",
    "\n",
    "# Loading the pre-trained BERT model for the classification task\n",
    "model_3 = BertForSequenceClassification.from_pretrained(\n",
    "    'bert-base-uncased',  # Use the pre-trained base BERT model\n",
    "    num_labels=len(np.unique(y_3_encoded))  # Number of labels for classification\n",
    ")\n",
    "\n",
    "# Setting up training parameters\n",
    "training_args_3 = TrainingArguments(\n",
    "    output_dir='./results',            # Directory to save training results\n",
    "    num_train_epochs=5,                # Total number of training epochs\n",
    "    per_device_train_batch_size=8,     # Batch size for training\n",
    "    per_device_eval_batch_size=8,      # Batch size for evaluation\n",
    "    warmup_steps=500,                  # Number of warm-up steps to adjust the learning rate\n",
    "    weight_decay=0.01,                 # Weight decay for regularization\n",
    "    logging_dir='./logs',              # Directory to save logs\n",
    "    evaluation_strategy=\"epoch\"        # Evaluation strategy (can be \"no\", \"steps\", or \"epoch\")\n",
    ")\n",
    "\n",
    "# # Creating a Trainer instance, which will be used to train and evaluate the BERT model\n",
    "trainer_3 = Trainer(\n",
    "    model=model_3,                      # The BERT model to be trained\n",
    "    args=training_args_3,               # The training arguments\n",
    "    train_dataset=train_dataset_3,      # Training dataset\n",
    "    eval_dataset=test_dataset_3,        # Evaluation dataset\n",
    "    compute_metrics=compute_metrics\n",
    ")"
   ]
  },
  {
   "cell_type": "code",
   "execution_count": null,
   "metadata": {
    "colab": {
     "base_uri": "https://localhost:8080/",
     "height": 1000
    },
    "executionInfo": {
     "elapsed": 1578543,
     "status": "ok",
     "timestamp": 1711144355464,
     "user": {
      "displayName": "martin mora lopez",
      "userId": "11892096964695298240"
     },
     "user_tz": 360
    },
    "id": "bfem0QC5AlrU",
    "outputId": "cb0bb421-4655-4172-c993-f3af842cbde0"
   },
   "outputs": [
    {
     "data": {
      "text/html": [
       "\n",
       "    <div>\n",
       "      \n",
       "      <progress value='25020' max='25020' style='width:300px; height:20px; vertical-align: middle;'></progress>\n",
       "      [25020/25020 26:18, Epoch 5/5]\n",
       "    </div>\n",
       "    <table border=\"1\" class=\"dataframe\">\n",
       "  <thead>\n",
       " <tr style=\"text-align: left;\">\n",
       "      <th>Epoch</th>\n",
       "      <th>Training Loss</th>\n",
       "      <th>Validation Loss</th>\n",
       "      <th>Accuracy</th>\n",
       "    </tr>\n",
       "  </thead>\n",
       "  <tbody>\n",
       "    <tr>\n",
       "      <td>1</td>\n",
       "      <td>0.637700</td>\n",
       "      <td>0.610876</td>\n",
       "      <td>0.839944</td>\n",
       "    </tr>\n",
       "    <tr>\n",
       "      <td>2</td>\n",
       "      <td>0.343500</td>\n",
       "      <td>0.372319</td>\n",
       "      <td>0.906085</td>\n",
       "    </tr>\n",
       "    <tr>\n",
       "      <td>3</td>\n",
       "      <td>0.225300</td>\n",
       "      <td>0.296952</td>\n",
       "      <td>0.930263</td>\n",
       "    </tr>\n",
       "    <tr>\n",
       "      <td>4</td>\n",
       "      <td>0.139800</td>\n",
       "      <td>0.295632</td>\n",
       "      <td>0.941253</td>\n",
       "    </tr>\n",
       "    <tr>\n",
       "      <td>5</td>\n",
       "      <td>0.090200</td>\n",
       "      <td>0.294697</td>\n",
       "      <td>0.944350</td>\n",
       "    </tr>\n",
       "  </tbody>\n",
       "</table><p>"
      ],
      "text/plain": [
       "<IPython.core.display.HTML object>"
      ]
     },
     "metadata": {},
     "output_type": "display_data"
    },
    {
     "name": "stderr",
     "output_type": "stream",
     "text": [
      "Checkpoint destination directory ./results/checkpoint-500 already exists and is non-empty. Saving will proceed but saved results may be invalid.\n",
      "Checkpoint destination directory ./results/checkpoint-1000 already exists and is non-empty. Saving will proceed but saved results may be invalid.\n",
      "Checkpoint destination directory ./results/checkpoint-1500 already exists and is non-empty. Saving will proceed but saved results may be invalid.\n",
      "Checkpoint destination directory ./results/checkpoint-2000 already exists and is non-empty. Saving will proceed but saved results may be invalid.\n",
      "Checkpoint destination directory ./results/checkpoint-2500 already exists and is non-empty. Saving will proceed but saved results may be invalid.\n",
      "Checkpoint destination directory ./results/checkpoint-3000 already exists and is non-empty. Saving will proceed but saved results may be invalid.\n",
      "Checkpoint destination directory ./results/checkpoint-3500 already exists and is non-empty. Saving will proceed but saved results may be invalid.\n",
      "Checkpoint destination directory ./results/checkpoint-4000 already exists and is non-empty. Saving will proceed but saved results may be invalid.\n",
      "Checkpoint destination directory ./results/checkpoint-4500 already exists and is non-empty. Saving will proceed but saved results may be invalid.\n",
      "Checkpoint destination directory ./results/checkpoint-5000 already exists and is non-empty. Saving will proceed but saved results may be invalid.\n",
      "Checkpoint destination directory ./results/checkpoint-5500 already exists and is non-empty. Saving will proceed but saved results may be invalid.\n",
      "Checkpoint destination directory ./results/checkpoint-6000 already exists and is non-empty. Saving will proceed but saved results may be invalid.\n",
      "Checkpoint destination directory ./results/checkpoint-6500 already exists and is non-empty. Saving will proceed but saved results may be invalid.\n",
      "Checkpoint destination directory ./results/checkpoint-7000 already exists and is non-empty. Saving will proceed but saved results may be invalid.\n",
      "Checkpoint destination directory ./results/checkpoint-7500 already exists and is non-empty. Saving will proceed but saved results may be invalid.\n",
      "Checkpoint destination directory ./results/checkpoint-8000 already exists and is non-empty. Saving will proceed but saved results may be invalid.\n",
      "Checkpoint destination directory ./results/checkpoint-8500 already exists and is non-empty. Saving will proceed but saved results may be invalid.\n",
      "Checkpoint destination directory ./results/checkpoint-9000 already exists and is non-empty. Saving will proceed but saved results may be invalid.\n",
      "Checkpoint destination directory ./results/checkpoint-9500 already exists and is non-empty. Saving will proceed but saved results may be invalid.\n",
      "Checkpoint destination directory ./results/checkpoint-10000 already exists and is non-empty. Saving will proceed but saved results may be invalid.\n",
      "Checkpoint destination directory ./results/checkpoint-10500 already exists and is non-empty. Saving will proceed but saved results may be invalid.\n",
      "Checkpoint destination directory ./results/checkpoint-11000 already exists and is non-empty. Saving will proceed but saved results may be invalid.\n",
      "Checkpoint destination directory ./results/checkpoint-11500 already exists and is non-empty. Saving will proceed but saved results may be invalid.\n",
      "Checkpoint destination directory ./results/checkpoint-12000 already exists and is non-empty. Saving will proceed but saved results may be invalid.\n",
      "Checkpoint destination directory ./results/checkpoint-12500 already exists and is non-empty. Saving will proceed but saved results may be invalid.\n",
      "Checkpoint destination directory ./results/checkpoint-13000 already exists and is non-empty. Saving will proceed but saved results may be invalid.\n",
      "Checkpoint destination directory ./results/checkpoint-13500 already exists and is non-empty. Saving will proceed but saved results may be invalid.\n",
      "Checkpoint destination directory ./results/checkpoint-14000 already exists and is non-empty. Saving will proceed but saved results may be invalid.\n",
      "Checkpoint destination directory ./results/checkpoint-14500 already exists and is non-empty. Saving will proceed but saved results may be invalid.\n",
      "Checkpoint destination directory ./results/checkpoint-15000 already exists and is non-empty. Saving will proceed but saved results may be invalid.\n",
      "Checkpoint destination directory ./results/checkpoint-15500 already exists and is non-empty. Saving will proceed but saved results may be invalid.\n",
      "Checkpoint destination directory ./results/checkpoint-16000 already exists and is non-empty. Saving will proceed but saved results may be invalid.\n",
      "Checkpoint destination directory ./results/checkpoint-16500 already exists and is non-empty. Saving will proceed but saved results may be invalid.\n",
      "Checkpoint destination directory ./results/checkpoint-17000 already exists and is non-empty. Saving will proceed but saved results may be invalid.\n",
      "Checkpoint destination directory ./results/checkpoint-17500 already exists and is non-empty. Saving will proceed but saved results may be invalid.\n",
      "Checkpoint destination directory ./results/checkpoint-18000 already exists and is non-empty. Saving will proceed but saved results may be invalid.\n",
      "Checkpoint destination directory ./results/checkpoint-18500 already exists and is non-empty. Saving will proceed but saved results may be invalid.\n",
      "Checkpoint destination directory ./results/checkpoint-19000 already exists and is non-empty. Saving will proceed but saved results may be invalid.\n",
      "Checkpoint destination directory ./results/checkpoint-19500 already exists and is non-empty. Saving will proceed but saved results may be invalid.\n",
      "Checkpoint destination directory ./results/checkpoint-20000 already exists and is non-empty. Saving will proceed but saved results may be invalid.\n",
      "Checkpoint destination directory ./results/checkpoint-20500 already exists and is non-empty. Saving will proceed but saved results may be invalid.\n",
      "Checkpoint destination directory ./results/checkpoint-21000 already exists and is non-empty. Saving will proceed but saved results may be invalid.\n",
      "Checkpoint destination directory ./results/checkpoint-21500 already exists and is non-empty. Saving will proceed but saved results may be invalid.\n",
      "Checkpoint destination directory ./results/checkpoint-22000 already exists and is non-empty. Saving will proceed but saved results may be invalid.\n",
      "Checkpoint destination directory ./results/checkpoint-22500 already exists and is non-empty. Saving will proceed but saved results may be invalid.\n",
      "Checkpoint destination directory ./results/checkpoint-23000 already exists and is non-empty. Saving will proceed but saved results may be invalid.\n",
      "Checkpoint destination directory ./results/checkpoint-23500 already exists and is non-empty. Saving will proceed but saved results may be invalid.\n",
      "Checkpoint destination directory ./results/checkpoint-24000 already exists and is non-empty. Saving will proceed but saved results may be invalid.\n",
      "Checkpoint destination directory ./results/checkpoint-24500 already exists and is non-empty. Saving will proceed but saved results may be invalid.\n",
      "Checkpoint destination directory ./results/checkpoint-25000 already exists and is non-empty. Saving will proceed but saved results may be invalid.\n"
     ]
    },
    {
     "data": {
      "text/plain": [
       "TrainOutput(global_step=25020, training_loss=0.46653971724468263, metrics={'train_runtime': 1578.3959, 'train_samples_per_second': 126.812, 'train_steps_per_second': 15.852, 'total_flos': 9489797167518720.0, 'train_loss': 0.46653971724468263, 'epoch': 5.0})"
      ]
     },
     "execution_count": 109,
     "metadata": {},
     "output_type": "execute_result"
    }
   ],
   "source": [
    "trainer_3.train()"
   ]
  },
  {
   "cell_type": "code",
   "execution_count": null,
   "metadata": {
    "colab": {
     "base_uri": "https://localhost:8080/"
    },
    "executionInfo": {
     "elapsed": 1033,
     "status": "ok",
     "timestamp": 1711144632471,
     "user": {
      "displayName": "martin mora lopez",
      "userId": "11892096964695298240"
     },
     "user_tz": 360
    },
    "id": "PZcM8GLuAlWV",
    "outputId": "61ac8910-a70d-4fe3-bd83-703fb0628c2e"
   },
   "outputs": [
    {
     "data": {
      "text/plain": [
       "('/content/drive/MyDrive/anyone_final_project/finetunning_4/tokenizer_config.json',\n",
       " '/content/drive/MyDrive/anyone_final_project/finetunning_4/special_tokens_map.json',\n",
       " '/content/drive/MyDrive/anyone_final_project/finetunning_4/vocab.txt',\n",
       " '/content/drive/MyDrive/anyone_final_project/finetunning_4/added_tokens.json')"
      ]
     },
     "execution_count": 132,
     "metadata": {},
     "output_type": "execute_result"
    }
   ],
   "source": [
    "# Especifica la ruta donde deseas guardar el modelo\n",
    "model_path = \"/content/drive/MyDrive/anyone_final_project/finetunning_4\"\n",
    "\n",
    "# Guarda el modelo\n",
    "model_3.save_pretrained(model_path)\n",
    "\n",
    "# Nota: También puedes guardar el Tokenizador si es necesario\n",
    "tokenizer.save_pretrained(model_path)"
   ]
  },
  {
   "cell_type": "code",
   "execution_count": null,
   "metadata": {
    "colab": {
     "base_uri": "https://localhost:8080/"
    },
    "executionInfo": {
     "elapsed": 887,
     "status": "ok",
     "timestamp": 1711144636617,
     "user": {
      "displayName": "martin mora lopez",
      "userId": "11892096964695298240"
     },
     "user_tz": 360
    },
    "id": "1ahckhVBAlTl",
    "outputId": "1a07d6e2-9c9d-448f-9f22-f19329eb605c"
   },
   "outputs": [
    {
     "name": "stdout",
     "output_type": "stream",
     "text": [
      "{'name': 'trumpet multimedia trumpet work calendar black', 'description': 'trumpet multimedia trumpet work calendar calendar trumpet work design', 'price': 23.95, 'type': 'HardGood', 'manufacturer': 'Trumpet Multimedia', 'combined_text': 'trumpet multimedia trumpet work calendar black trumpet multimedia trumpet work calendar calendar trumpet work design toy game drone tv'}\n"
     ]
    }
   ],
   "source": [
    "#Prediccion 3\n",
    "text_3 = {\n",
    "    \"name\": \"Trumpet Multimedia - Trumpets That Work 2015 Calendar - Black\",\n",
    "    \"description\": \"TRUMPET MULTIMEDIA Trumpets That Work 2015 Calendar: 2015 calendar; Trumpets That Work design\",\n",
    "    \"price\": 23.95,\n",
    "    \"type\": \"HardGood\",\n",
    "    \"manufacturer\": \"Trumpet Multimedia\",\n",
    "}\n",
    "\n",
    "text_3['name'] = normalize_text(text_3['name'])\n",
    "text_3['description'] = normalize_text(text_3['description'])\n",
    "comp_pred_str = normalize_text(comp_pred_str)\n",
    "comp_pred_str_1 = normalize_text(comp_pred_str_1)\n",
    "comp_pred_str_2 = normalize_text(comp_pred_str_2)\n",
    "\n",
    "text_3['combined_text'] = text_3['name'] + \" \" + text_3['description']+ \" \" + comp_pred_str + \" \" + comp_pred_str_1 + \" \" + comp_pred_str_2\n",
    "print(text_3)\n",
    "model_3_path = \"/content/drive/MyDrive/anyone_final_project/finetunning_4\"\n",
    "\n",
    "# Cargar el tokenizer\n",
    "tokenizer_3 = BertTokenizer.from_pretrained(model_3_path)\n",
    "\n",
    "# Cargar el modelo\n",
    "model_3 = BertForSequenceClassification.from_pretrained(model_3_path)\n",
    "\n",
    "\n",
    "def predict_3(text_3):\n",
    "    # Preparar los tokens de entrada\n",
    "    inputs = tokenizer_3(text_3, padding=True, truncation=True, max_length=512, return_tensors=\"pt\")\n",
    "\n",
    "    # Hacer predicción\n",
    "    model_3.eval()  # Asegúrate de que el modelo esté en modo evaluación\n",
    "    with torch.no_grad():  # Desactivar la generación de gradientes\n",
    "        outputs = model_3(**inputs)\n",
    "\n",
    "    # Obtener la predicción de la última capa\n",
    "    logits = outputs.logits\n",
    "    predicted_class_id = logits.argmax().item()\n",
    "    return predicted_class_id"
   ]
  },
  {
   "cell_type": "code",
   "execution_count": null,
   "metadata": {
    "colab": {
     "base_uri": "https://localhost:8080/"
    },
    "executionInfo": {
     "elapsed": 2,
     "status": "ok",
     "timestamp": 1711144646496,
     "user": {
      "displayName": "martin mora lopez",
      "userId": "11892096964695298240"
     },
     "user_tz": 360
    },
    "id": "XxDOP-8YAlMz",
    "outputId": "33d57cab-41a2-41e2-a66a-5378360a6df8"
   },
   "outputs": [
    {
     "name": "stdout",
     "output_type": "stream",
     "text": [
      "175\n"
     ]
    }
   ],
   "source": [
    "pred_3 = predict_3(text_3['combined_text'])\n",
    "print(pred_3)"
   ]
  },
  {
   "cell_type": "code",
   "execution_count": null,
   "metadata": {
    "id": "AGYgvtx2Ak9M"
   },
   "outputs": [],
   "source": [
    "with h5py.File('label_encoder_3.h5', 'r') as hf:\n",
    "    label_encoder_classes_3 = hf['label_encoder_3'][:]\n",
    "\n",
    "def compare_predictions_3(pred_3, label_encoder_classes_3):\n",
    "    if 0 <= pred_3 < len(label_encoder_classes_3):\n",
    "        return label_encoder_classes_3[pred_3]\n",
    "    else:\n",
    "        return 'unknown'"
   ]
  },
  {
   "cell_type": "code",
   "execution_count": null,
   "metadata": {
    "colab": {
     "base_uri": "https://localhost:8080/"
    },
    "executionInfo": {
     "elapsed": 2,
     "status": "ok",
     "timestamp": 1711144653807,
     "user": {
      "displayName": "martin mora lopez",
      "userId": "11892096964695298240"
     },
     "user_tz": 360
    },
    "id": "bpvL1sFTFFDd",
    "outputId": "69078bed-2e91-4f25-e570-964ee0185e88"
   },
   "outputs": [
    {
     "name": "stdout",
     "output_type": "stream",
     "text": [
      "b' Movie & Character Toys'\n"
     ]
    }
   ],
   "source": [
    "comp_pred_3 = compare_predictions_3(pred_3, label_encoder_classes_3)\n",
    "print(comp_pred_3)"
   ]
  },
  {
   "cell_type": "code",
   "execution_count": null,
   "metadata": {
    "colab": {
     "base_uri": "https://localhost:8080/"
    },
    "executionInfo": {
     "elapsed": 306,
     "status": "ok",
     "timestamp": 1711144673626,
     "user": {
      "displayName": "martin mora lopez",
      "userId": "11892096964695298240"
     },
     "user_tz": 360
    },
    "id": "no8R8EO-FFBb",
    "outputId": "18ff3b57-83cc-4109-de3d-e93cfd3297e3"
   },
   "outputs": [
    {
     "name": "stdout",
     "output_type": "stream",
     "text": [
      " Movie & Character Toys\n"
     ]
    }
   ],
   "source": [
    "comp_pred_str_3 = comp_pred_3.decode(\"utf-8\")\n",
    "print(comp_pred_str_3)\n",
    "\n",
    "#Aqui termina prediccion 3"
   ]
  },
  {
   "cell_type": "code",
   "execution_count": null,
   "metadata": {
    "id": "SYnD6Tr0FE_G"
   },
   "outputs": [],
   "source": [
    "# model_4 fine tunning bert\n",
    "X_train_4['parent_category'] = X_train_4['parent_category'].apply(normalize_text)\n",
    "X_test_4['parent_category'] = X_test_4['parent_category'].apply(normalize_text)\n",
    "\n",
    "X_train_4['sub_category_1'] = X_train_4['sub_category_1'].apply(normalize_text)\n",
    "X_test_4['sub_category_1'] = X_test_4['sub_category_1'].apply(normalize_text)\n",
    "\n",
    "X_train_4['sub_category_2'] = X_train_4['sub_category_2'].apply(normalize_text)\n",
    "X_test_4['sub_category_2'] = X_test_4['sub_category_2'].apply(normalize_text)\n",
    "\n",
    "X_train_4['sub_category_3'] = X_train_4['sub_category_3'].apply(normalize_text)\n",
    "X_test_4['sub_category_3'] = X_test_4['sub_category_3'].apply(normalize_text)\n",
    "\n",
    "\n",
    "X_train_4['combined_text'] = X_train_4['name_normalized'].fillna('') + \" \" + X_train_4['description_normalized'].fillna('') + \" \"+ X_train_4['parent_category'] + \" \"+ X_train_4['sub_category_1'] + \" \"+ X_train_4['sub_category_2'] + \" \"+ X_train_4['sub_category_3']\n",
    "X_test_4['combined_text'] = X_test_4['name_normalized'].fillna('') + \" \" + X_test_4['description_normalized'].fillna('') + \" \" + X_test_4['parent_category'] + \" \"+ X_test_4['sub_category_1'] + \" \"+ X_test_4['sub_category_2'] + \" \"+ X_test_4['sub_category_3']"
   ]
  },
  {
   "cell_type": "code",
   "execution_count": null,
   "metadata": {
    "id": "BU_8Xl5yFE8S"
   },
   "outputs": [],
   "source": [
    "#Tokenization model_4\n",
    "train_encodings_4 = tokenizer(X_train_4['combined_text'].tolist(), truncation=True, padding=True)\n",
    "test_encodings_4 = tokenizer(X_test_4['combined_text'].tolist(), truncation=True, padding=True)\n",
    "\n",
    "# Creation of training and test datasets\n",
    "train_dataset_4 = AlphaDataset(train_encodings_4, y_train_4)\n",
    "test_dataset_4 = AlphaDataset(test_encodings_4, y_test_4)"
   ]
  },
  {
   "cell_type": "code",
   "execution_count": null,
   "metadata": {
    "colab": {
     "base_uri": "https://localhost:8080/"
    },
    "executionInfo": {
     "elapsed": 1859,
     "status": "ok",
     "timestamp": 1711145027327,
     "user": {
      "displayName": "martin mora lopez",
      "userId": "11892096964695298240"
     },
     "user_tz": 360
    },
    "id": "ssQ89IvwFE6c",
    "outputId": "b344913b-e433-4e23-8e41-51f0b48b4fc3"
   },
   "outputs": [
    {
     "name": "stderr",
     "output_type": "stream",
     "text": [
      "Some weights of BertForSequenceClassification were not initialized from the model checkpoint at bert-base-uncased and are newly initialized: ['classifier.bias', 'classifier.weight']\n",
      "You should probably TRAIN this model on a down-stream task to be able to use it for predictions and inference.\n",
      "/usr/local/lib/python3.10/dist-packages/accelerate/accelerator.py:432: FutureWarning: Passing the following arguments to `Accelerator` is deprecated and will be removed in version 1.0 of Accelerate: dict_keys(['dispatch_batches', 'split_batches', 'even_batches', 'use_seedable_sampler']). Please pass an `accelerate.DataLoaderConfiguration` instead: \n",
      "dataloader_config = DataLoaderConfiguration(dispatch_batches=None, split_batches=False, even_batches=True, use_seedable_sampler=True)\n",
      "  warnings.warn(\n"
     ]
    }
   ],
   "source": [
    "def compute_metrics(pred):\n",
    "    labels = pred.label_ids\n",
    "    preds = pred.predictions.argmax(-1)\n",
    "    acc = accuracy_score(labels, preds)\n",
    "    return {'accuracy': acc}\n",
    "\n",
    "# Loading the pre-trained BERT model for the classification task\n",
    "model_4 = BertForSequenceClassification.from_pretrained(\n",
    "    'bert-base-uncased',  # Use the pre-trained base BERT model\n",
    "    num_labels=len(np.unique(y_4_encoded))  # Number of labels for classification\n",
    ")\n",
    "\n",
    "# Setting up training parameters\n",
    "training_args_4 = TrainingArguments(\n",
    "    output_dir='./results',            # Directory to save training results\n",
    "    num_train_epochs=5,                # Total number of training epochs\n",
    "    per_device_train_batch_size=8,     # Batch size for training\n",
    "    per_device_eval_batch_size=8,      # Batch size for evaluation\n",
    "    warmup_steps=500,                  # Number of warm-up steps to adjust the learning rate\n",
    "    weight_decay=0.01,                 # Weight decay for regularization\n",
    "    logging_dir='./logs',              # Directory to save logs\n",
    "    evaluation_strategy=\"epoch\"        # Evaluation strategy (can be \"no\", \"steps\", or \"epoch\")\n",
    ")\n",
    "\n",
    "# # Creating a Trainer instance, which will be used to train and evaluate the BERT model\n",
    "trainer_4 = Trainer(\n",
    "    model=model_4,                      # The BERT model to be trained\n",
    "    args=training_args_4,               # The training arguments\n",
    "    train_dataset=train_dataset_4,      # Training dataset\n",
    "    eval_dataset=test_dataset_4,        # Evaluation dataset\n",
    "    compute_metrics=compute_metrics\n",
    ")"
   ]
  },
  {
   "cell_type": "code",
   "execution_count": null,
   "metadata": {
    "colab": {
     "base_uri": "https://localhost:8080/",
     "height": 1000
    },
    "executionInfo": {
     "elapsed": 1579120,
     "status": "ok",
     "timestamp": 1711146608132,
     "user": {
      "displayName": "martin mora lopez",
      "userId": "11892096964695298240"
     },
     "user_tz": 360
    },
    "id": "uxPhcXZUFE3h",
    "outputId": "c12af83c-1a76-4af9-ded1-a14a3f943388"
   },
   "outputs": [
    {
     "data": {
      "text/html": [
       "\n",
       "    <div>\n",
       "      \n",
       "      <progress value='25020' max='25020' style='width:300px; height:20px; vertical-align: middle;'></progress>\n",
       "      [25020/25020 26:20, Epoch 5/5]\n",
       "    </div>\n",
       "    <table border=\"1\" class=\"dataframe\">\n",
       "  <thead>\n",
       " <tr style=\"text-align: left;\">\n",
       "      <th>Epoch</th>\n",
       "      <th>Training Loss</th>\n",
       "      <th>Validation Loss</th>\n",
       "      <th>Accuracy</th>\n",
       "    </tr>\n",
       "  </thead>\n",
       "  <tbody>\n",
       "    <tr>\n",
       "      <td>1</td>\n",
       "      <td>0.392500</td>\n",
       "      <td>0.368027</td>\n",
       "      <td>0.908882</td>\n",
       "    </tr>\n",
       "    <tr>\n",
       "      <td>2</td>\n",
       "      <td>0.312200</td>\n",
       "      <td>0.263175</td>\n",
       "      <td>0.932261</td>\n",
       "    </tr>\n",
       "    <tr>\n",
       "      <td>3</td>\n",
       "      <td>0.226800</td>\n",
       "      <td>0.216670</td>\n",
       "      <td>0.946448</td>\n",
       "    </tr>\n",
       "    <tr>\n",
       "      <td>4</td>\n",
       "      <td>0.127900</td>\n",
       "      <td>0.216731</td>\n",
       "      <td>0.956239</td>\n",
       "    </tr>\n",
       "    <tr>\n",
       "      <td>5</td>\n",
       "      <td>0.109700</td>\n",
       "      <td>0.191630</td>\n",
       "      <td>0.962134</td>\n",
       "    </tr>\n",
       "  </tbody>\n",
       "</table><p>"
      ],
      "text/plain": [
       "<IPython.core.display.HTML object>"
      ]
     },
     "metadata": {},
     "output_type": "display_data"
    },
    {
     "name": "stderr",
     "output_type": "stream",
     "text": [
      "Checkpoint destination directory ./results/checkpoint-500 already exists and is non-empty. Saving will proceed but saved results may be invalid.\n",
      "Checkpoint destination directory ./results/checkpoint-1000 already exists and is non-empty. Saving will proceed but saved results may be invalid.\n",
      "Checkpoint destination directory ./results/checkpoint-1500 already exists and is non-empty. Saving will proceed but saved results may be invalid.\n",
      "Checkpoint destination directory ./results/checkpoint-2000 already exists and is non-empty. Saving will proceed but saved results may be invalid.\n",
      "Checkpoint destination directory ./results/checkpoint-2500 already exists and is non-empty. Saving will proceed but saved results may be invalid.\n",
      "Checkpoint destination directory ./results/checkpoint-3000 already exists and is non-empty. Saving will proceed but saved results may be invalid.\n",
      "Checkpoint destination directory ./results/checkpoint-3500 already exists and is non-empty. Saving will proceed but saved results may be invalid.\n",
      "Checkpoint destination directory ./results/checkpoint-4000 already exists and is non-empty. Saving will proceed but saved results may be invalid.\n",
      "Checkpoint destination directory ./results/checkpoint-4500 already exists and is non-empty. Saving will proceed but saved results may be invalid.\n",
      "Checkpoint destination directory ./results/checkpoint-5000 already exists and is non-empty. Saving will proceed but saved results may be invalid.\n",
      "Checkpoint destination directory ./results/checkpoint-5500 already exists and is non-empty. Saving will proceed but saved results may be invalid.\n",
      "Checkpoint destination directory ./results/checkpoint-6000 already exists and is non-empty. Saving will proceed but saved results may be invalid.\n",
      "Checkpoint destination directory ./results/checkpoint-6500 already exists and is non-empty. Saving will proceed but saved results may be invalid.\n",
      "Checkpoint destination directory ./results/checkpoint-7000 already exists and is non-empty. Saving will proceed but saved results may be invalid.\n",
      "Checkpoint destination directory ./results/checkpoint-7500 already exists and is non-empty. Saving will proceed but saved results may be invalid.\n",
      "Checkpoint destination directory ./results/checkpoint-8000 already exists and is non-empty. Saving will proceed but saved results may be invalid.\n",
      "Checkpoint destination directory ./results/checkpoint-8500 already exists and is non-empty. Saving will proceed but saved results may be invalid.\n",
      "Checkpoint destination directory ./results/checkpoint-9000 already exists and is non-empty. Saving will proceed but saved results may be invalid.\n",
      "Checkpoint destination directory ./results/checkpoint-9500 already exists and is non-empty. Saving will proceed but saved results may be invalid.\n",
      "Checkpoint destination directory ./results/checkpoint-10000 already exists and is non-empty. Saving will proceed but saved results may be invalid.\n",
      "Checkpoint destination directory ./results/checkpoint-10500 already exists and is non-empty. Saving will proceed but saved results may be invalid.\n",
      "Checkpoint destination directory ./results/checkpoint-11000 already exists and is non-empty. Saving will proceed but saved results may be invalid.\n",
      "Checkpoint destination directory ./results/checkpoint-11500 already exists and is non-empty. Saving will proceed but saved results may be invalid.\n",
      "Checkpoint destination directory ./results/checkpoint-12000 already exists and is non-empty. Saving will proceed but saved results may be invalid.\n",
      "Checkpoint destination directory ./results/checkpoint-12500 already exists and is non-empty. Saving will proceed but saved results may be invalid.\n",
      "Checkpoint destination directory ./results/checkpoint-13000 already exists and is non-empty. Saving will proceed but saved results may be invalid.\n",
      "Checkpoint destination directory ./results/checkpoint-13500 already exists and is non-empty. Saving will proceed but saved results may be invalid.\n",
      "Checkpoint destination directory ./results/checkpoint-14000 already exists and is non-empty. Saving will proceed but saved results may be invalid.\n",
      "Checkpoint destination directory ./results/checkpoint-14500 already exists and is non-empty. Saving will proceed but saved results may be invalid.\n",
      "Checkpoint destination directory ./results/checkpoint-15000 already exists and is non-empty. Saving will proceed but saved results may be invalid.\n",
      "Checkpoint destination directory ./results/checkpoint-15500 already exists and is non-empty. Saving will proceed but saved results may be invalid.\n",
      "Checkpoint destination directory ./results/checkpoint-16000 already exists and is non-empty. Saving will proceed but saved results may be invalid.\n",
      "Checkpoint destination directory ./results/checkpoint-16500 already exists and is non-empty. Saving will proceed but saved results may be invalid.\n",
      "Checkpoint destination directory ./results/checkpoint-17000 already exists and is non-empty. Saving will proceed but saved results may be invalid.\n",
      "Checkpoint destination directory ./results/checkpoint-17500 already exists and is non-empty. Saving will proceed but saved results may be invalid.\n",
      "Checkpoint destination directory ./results/checkpoint-18000 already exists and is non-empty. Saving will proceed but saved results may be invalid.\n",
      "Checkpoint destination directory ./results/checkpoint-18500 already exists and is non-empty. Saving will proceed but saved results may be invalid.\n",
      "Checkpoint destination directory ./results/checkpoint-19000 already exists and is non-empty. Saving will proceed but saved results may be invalid.\n",
      "Checkpoint destination directory ./results/checkpoint-19500 already exists and is non-empty. Saving will proceed but saved results may be invalid.\n",
      "Checkpoint destination directory ./results/checkpoint-20000 already exists and is non-empty. Saving will proceed but saved results may be invalid.\n",
      "Checkpoint destination directory ./results/checkpoint-20500 already exists and is non-empty. Saving will proceed but saved results may be invalid.\n",
      "Checkpoint destination directory ./results/checkpoint-21000 already exists and is non-empty. Saving will proceed but saved results may be invalid.\n",
      "Checkpoint destination directory ./results/checkpoint-21500 already exists and is non-empty. Saving will proceed but saved results may be invalid.\n",
      "Checkpoint destination directory ./results/checkpoint-22000 already exists and is non-empty. Saving will proceed but saved results may be invalid.\n",
      "Checkpoint destination directory ./results/checkpoint-22500 already exists and is non-empty. Saving will proceed but saved results may be invalid.\n",
      "Checkpoint destination directory ./results/checkpoint-23000 already exists and is non-empty. Saving will proceed but saved results may be invalid.\n",
      "Checkpoint destination directory ./results/checkpoint-23500 already exists and is non-empty. Saving will proceed but saved results may be invalid.\n",
      "Checkpoint destination directory ./results/checkpoint-24000 already exists and is non-empty. Saving will proceed but saved results may be invalid.\n",
      "Checkpoint destination directory ./results/checkpoint-24500 already exists and is non-empty. Saving will proceed but saved results may be invalid.\n",
      "Checkpoint destination directory ./results/checkpoint-25000 already exists and is non-empty. Saving will proceed but saved results may be invalid.\n"
     ]
    },
    {
     "data": {
      "text/plain": [
       "TrainOutput(global_step=25020, training_loss=0.30645013392733916, metrics={'train_runtime': 1580.4546, 'train_samples_per_second': 126.647, 'train_steps_per_second': 15.831, 'total_flos': 9579720222057600.0, 'train_loss': 0.30645013392733916, 'epoch': 5.0})"
      ]
     },
     "execution_count": 141,
     "metadata": {},
     "output_type": "execute_result"
    }
   ],
   "source": [
    "trainer_4.train()"
   ]
  },
  {
   "cell_type": "code",
   "execution_count": null,
   "metadata": {
    "colab": {
     "base_uri": "https://localhost:8080/"
    },
    "executionInfo": {
     "elapsed": 1372,
     "status": "ok",
     "timestamp": 1711147906075,
     "user": {
      "displayName": "martin mora lopez",
      "userId": "11892096964695298240"
     },
     "user_tz": 360
    },
    "id": "qryzRbUGFE06",
    "outputId": "9fefc18b-a8d8-40e1-d07e-51c24806add4"
   },
   "outputs": [
    {
     "data": {
      "text/plain": [
       "('/content/drive/MyDrive/anyone_final_project/finetunning_5/tokenizer_config.json',\n",
       " '/content/drive/MyDrive/anyone_final_project/finetunning_5/special_tokens_map.json',\n",
       " '/content/drive/MyDrive/anyone_final_project/finetunning_5/vocab.txt',\n",
       " '/content/drive/MyDrive/anyone_final_project/finetunning_5/added_tokens.json')"
      ]
     },
     "execution_count": 142,
     "metadata": {},
     "output_type": "execute_result"
    }
   ],
   "source": [
    "# Especifica la ruta donde deseas guardar el modelo\n",
    "model_path = \"/content/drive/MyDrive/anyone_final_project/finetunning_5\"\n",
    "\n",
    "# Guarda el modelo\n",
    "model_4.save_pretrained(model_path)\n",
    "\n",
    "# Nota: También puedes guardar el Tokenizador si es necesario\n",
    "tokenizer.save_pretrained(model_path)"
   ]
  },
  {
   "cell_type": "code",
   "execution_count": null,
   "metadata": {
    "colab": {
     "base_uri": "https://localhost:8080/"
    },
    "executionInfo": {
     "elapsed": 1278,
     "status": "ok",
     "timestamp": 1711148653332,
     "user": {
      "displayName": "martin mora lopez",
      "userId": "11892096964695298240"
     },
     "user_tz": 360
    },
    "id": "FMeOp787FEyS",
    "outputId": "cf60c543-33e7-4047-eb76-9645f7c1a6d3"
   },
   "outputs": [
    {
     "name": "stdout",
     "output_type": "stream",
     "text": [
      "{'name': 'trumpet multimedia trumpet work calendar black', 'description': 'trumpet multimedia trumpet work calendar calendar trumpet work design', 'price': 23.95, 'type': 'HardGood', 'manufacturer': 'Trumpet Multimedia', 'combined_text': 'trumpet multimedia trumpet work calendar black trumpet multimedia trumpet work calendar calendar trumpet work design toy game drone tv movie character toy'}\n"
     ]
    }
   ],
   "source": [
    "#Prediccion 4\n",
    "\n",
    "text_4 = {\n",
    "    \"name\": \"Trumpet Multimedia - Trumpets That Work 2015 Calendar - Black\",\n",
    "    \"description\": \"TRUMPET MULTIMEDIA Trumpets That Work 2015 Calendar: 2015 calendar; Trumpets That Work design\",\n",
    "    \"price\": 23.95,\n",
    "    \"type\": \"HardGood\",\n",
    "    \"manufacturer\": \"Trumpet Multimedia\",\n",
    "}\n",
    "\n",
    "text_4['name'] = normalize_text(text_4['name'])\n",
    "text_4['description'] = normalize_text(text_4['description'])\n",
    "comp_pred_str = normalize_text(comp_pred_str)\n",
    "comp_pred_str_1 = normalize_text(comp_pred_str_1)\n",
    "comp_pred_str_2 = normalize_text(comp_pred_str_2)\n",
    "comp_pred_str_3 = normalize_text(comp_pred_str_3)\n",
    "\n",
    "text_4['combined_text'] = text_4['name'] + \" \" + text_4['description']+ \" \" + comp_pred_str + \" \" + comp_pred_str_1 + \" \" + comp_pred_str_2 + \" \" + comp_pred_str_3\n",
    "print(text_4)\n",
    "\n",
    "model_4_path = \"/content/drive/MyDrive/anyone_final_project/finetunning_5\"\n",
    "\n",
    "# Cargar el tokenizer\n",
    "tokenizer_4 = BertTokenizer.from_pretrained(model_4_path)\n",
    "\n",
    "# Cargar el modelo\n",
    "model_4 = BertForSequenceClassification.from_pretrained(model_4_path)\n",
    "\n",
    "\n",
    "def predict_4(text_4):\n",
    "    # Preparar los tokens de entrada\n",
    "    inputs = tokenizer_4(text_4, padding=True, truncation=True, max_length=512, return_tensors=\"pt\")\n",
    "\n",
    "    # Hacer predicción\n",
    "    model_4.eval()  # Asegúrate de que el modelo esté en modo evaluación\n",
    "    with torch.no_grad():  # Desactivar la generación de gradientes\n",
    "        outputs = model_4(**inputs)\n",
    "\n",
    "    # Obtener la predicción de la última capa\n",
    "    logits = outputs.logits\n",
    "    predicted_class_id = logits.argmax().item()\n",
    "    return predicted_class_id"
   ]
  },
  {
   "cell_type": "code",
   "execution_count": null,
   "metadata": {
    "colab": {
     "base_uri": "https://localhost:8080/"
    },
    "executionInfo": {
     "elapsed": 327,
     "status": "ok",
     "timestamp": 1711148678814,
     "user": {
      "displayName": "martin mora lopez",
      "userId": "11892096964695298240"
     },
     "user_tz": 360
    },
    "id": "PQJd4Ry5FEvv",
    "outputId": "f86c2d73-a784-4912-81e2-06d834d0c43f"
   },
   "outputs": [
    {
     "name": "stdout",
     "output_type": "stream",
     "text": [
      "93\n"
     ]
    }
   ],
   "source": [
    "pred_4 = predict_4(text_4['combined_text'])\n",
    "print(pred_4)"
   ]
  },
  {
   "cell_type": "code",
   "execution_count": null,
   "metadata": {
    "id": "zEThT0_1FEtZ"
   },
   "outputs": [],
   "source": [
    "with h5py.File('label_encoder_4.h5', 'r') as hf:\n",
    "    label_encoder_classes_4 = hf['label_encoder_4'][:]\n",
    "\n",
    "def compare_predictions_4(pred_4, label_encoder_classes_4):\n",
    "    if 0 <= pred_4 < len(label_encoder_classes_4):\n",
    "        return label_encoder_classes_4[pred_4]\n",
    "    else:\n",
    "        return 'unknown'"
   ]
  },
  {
   "cell_type": "code",
   "execution_count": null,
   "metadata": {
    "colab": {
     "base_uri": "https://localhost:8080/"
    },
    "executionInfo": {
     "elapsed": 725,
     "status": "ok",
     "timestamp": 1711148687418,
     "user": {
      "displayName": "martin mora lopez",
      "userId": "11892096964695298240"
     },
     "user_tz": 360
    },
    "id": "xvbu5kRoFErE",
    "outputId": "9c1dc27b-ff48-4c48-f247-cf1296811aa6"
   },
   "outputs": [
    {
     "name": "stdout",
     "output_type": "stream",
     "text": [
      "b' More Pop Culture Merchandise'\n"
     ]
    }
   ],
   "source": [
    "comp_pred_4 = compare_predictions_4(pred_4, label_encoder_classes_4)\n",
    "print(comp_pred_4)"
   ]
  },
  {
   "cell_type": "code",
   "execution_count": null,
   "metadata": {
    "colab": {
     "base_uri": "https://localhost:8080/"
    },
    "executionInfo": {
     "elapsed": 315,
     "status": "ok",
     "timestamp": 1711148696511,
     "user": {
      "displayName": "martin mora lopez",
      "userId": "11892096964695298240"
     },
     "user_tz": 360
    },
    "id": "AK_PrxwrFEoh",
    "outputId": "c5968fc1-3117-4146-84b6-5dd9b9f524e3"
   },
   "outputs": [
    {
     "name": "stdout",
     "output_type": "stream",
     "text": [
      " More Pop Culture Merchandise\n"
     ]
    }
   ],
   "source": [
    "comp_pred_str_4 = comp_pred_4.decode(\"utf-8\")\n",
    "print(comp_pred_str_4)\n",
    "\n",
    "#Aqui termina prediccion 4"
   ]
  }
 ],
 "metadata": {
  "accelerator": "GPU",
  "colab": {
   "gpuType": "A100",
   "machine_shape": "hm",
   "provenance": [
    {
     "file_id": "1KY90wgQEw-cYi-_IMNGRFIXcZQHED4CK",
     "timestamp": 1711245768465
    },
    {
     "file_id": "1pDPjr-DKfuOPnmjQrC_EksKenUM84FGC",
     "timestamp": 1711155506879
    },
    {
     "file_id": "1SpL49TMzCTolyX-L2atjw6iCqz7e2nHQ",
     "timestamp": 1711124193594
    },
    {
     "file_id": "1feTZM5KaAhAsGhBuCAZuUUIMq52vT2yx",
     "timestamp": 1711123779535
    },
    {
     "file_id": "1MTeYwZ121crb7MffLevpGaXUVym9bNoQ",
     "timestamp": 1711100119114
    }
   ]
  },
  "kernelspec": {
   "display_name": "Python 3 (ipykernel)",
   "language": "python",
   "name": "python3"
  },
  "language_info": {
   "codemirror_mode": {
    "name": "ipython",
    "version": 3
   },
   "file_extension": ".py",
   "mimetype": "text/x-python",
   "name": "python",
   "nbconvert_exporter": "python",
   "pygments_lexer": "ipython3",
   "version": "3.11.7"
  },
  "widgets": {
   "application/vnd.jupyter.widget-state+json": {
    "06c69fd05e6b4219a11d16020fb5793b": {
     "model_module": "@jupyter-widgets/controls",
     "model_module_version": "1.5.0",
     "model_name": "HTMLModel",
     "state": {
      "_dom_classes": [],
      "_model_module": "@jupyter-widgets/controls",
      "_model_module_version": "1.5.0",
      "_model_name": "HTMLModel",
      "_view_count": null,
      "_view_module": "@jupyter-widgets/controls",
      "_view_module_version": "1.5.0",
      "_view_name": "HTMLView",
      "description": "",
      "description_tooltip": null,
      "layout": "IPY_MODEL_08ffe43f797949f3b0bf526af2e1224a",
      "placeholder": "​",
      "style": "IPY_MODEL_9625d3e8f4034e09842f0e476424affd",
      "value": " 232k/232k [00:00&lt;00:00, 13.9MB/s]"
     }
    },
    "08ffe43f797949f3b0bf526af2e1224a": {
     "model_module": "@jupyter-widgets/base",
     "model_module_version": "1.2.0",
     "model_name": "LayoutModel",
     "state": {
      "_model_module": "@jupyter-widgets/base",
      "_model_module_version": "1.2.0",
      "_model_name": "LayoutModel",
      "_view_count": null,
      "_view_module": "@jupyter-widgets/base",
      "_view_module_version": "1.2.0",
      "_view_name": "LayoutView",
      "align_content": null,
      "align_items": null,
      "align_self": null,
      "border": null,
      "bottom": null,
      "display": null,
      "flex": null,
      "flex_flow": null,
      "grid_area": null,
      "grid_auto_columns": null,
      "grid_auto_flow": null,
      "grid_auto_rows": null,
      "grid_column": null,
      "grid_gap": null,
      "grid_row": null,
      "grid_template_areas": null,
      "grid_template_columns": null,
      "grid_template_rows": null,
      "height": null,
      "justify_content": null,
      "justify_items": null,
      "left": null,
      "margin": null,
      "max_height": null,
      "max_width": null,
      "min_height": null,
      "min_width": null,
      "object_fit": null,
      "object_position": null,
      "order": null,
      "overflow": null,
      "overflow_x": null,
      "overflow_y": null,
      "padding": null,
      "right": null,
      "top": null,
      "visibility": null,
      "width": null
     }
    },
    "0a8dc7b85690495ca5d606d0041f5df2": {
     "model_module": "@jupyter-widgets/controls",
     "model_module_version": "1.5.0",
     "model_name": "FloatProgressModel",
     "state": {
      "_dom_classes": [],
      "_model_module": "@jupyter-widgets/controls",
      "_model_module_version": "1.5.0",
      "_model_name": "FloatProgressModel",
      "_view_count": null,
      "_view_module": "@jupyter-widgets/controls",
      "_view_module_version": "1.5.0",
      "_view_name": "ProgressView",
      "bar_style": "success",
      "description": "",
      "description_tooltip": null,
      "layout": "IPY_MODEL_4e848d2663c74e1db983e16f8ca14a29",
      "max": 440449768,
      "min": 0,
      "orientation": "horizontal",
      "style": "IPY_MODEL_6788ea4f28ad4b2580679f26ec449750",
      "value": 440449768
     }
    },
    "0e9f8e8f8f8c443c9b42ec21f85951ce": {
     "model_module": "@jupyter-widgets/base",
     "model_module_version": "1.2.0",
     "model_name": "LayoutModel",
     "state": {
      "_model_module": "@jupyter-widgets/base",
      "_model_module_version": "1.2.0",
      "_model_name": "LayoutModel",
      "_view_count": null,
      "_view_module": "@jupyter-widgets/base",
      "_view_module_version": "1.2.0",
      "_view_name": "LayoutView",
      "align_content": null,
      "align_items": null,
      "align_self": null,
      "border": null,
      "bottom": null,
      "display": null,
      "flex": null,
      "flex_flow": null,
      "grid_area": null,
      "grid_auto_columns": null,
      "grid_auto_flow": null,
      "grid_auto_rows": null,
      "grid_column": null,
      "grid_gap": null,
      "grid_row": null,
      "grid_template_areas": null,
      "grid_template_columns": null,
      "grid_template_rows": null,
      "height": null,
      "justify_content": null,
      "justify_items": null,
      "left": null,
      "margin": null,
      "max_height": null,
      "max_width": null,
      "min_height": null,
      "min_width": null,
      "object_fit": null,
      "object_position": null,
      "order": null,
      "overflow": null,
      "overflow_x": null,
      "overflow_y": null,
      "padding": null,
      "right": null,
      "top": null,
      "visibility": null,
      "width": null
     }
    },
    "11a44798da12452da205bdbf8b49b5f7": {
     "model_module": "@jupyter-widgets/controls",
     "model_module_version": "1.5.0",
     "model_name": "HBoxModel",
     "state": {
      "_dom_classes": [],
      "_model_module": "@jupyter-widgets/controls",
      "_model_module_version": "1.5.0",
      "_model_name": "HBoxModel",
      "_view_count": null,
      "_view_module": "@jupyter-widgets/controls",
      "_view_module_version": "1.5.0",
      "_view_name": "HBoxView",
      "box_style": "",
      "children": [
       "IPY_MODEL_a5e6aa5ff3264e858c2a9650f0b62038",
       "IPY_MODEL_28122700c83e40cc8cdd49f0a4576afe",
       "IPY_MODEL_2c9b838e2d9f48d88ab18924ab688e39"
      ],
      "layout": "IPY_MODEL_c9d5753fee8543bd9cba6892f7ebdea8"
     }
    },
    "19e710cd65dd42f6b6e9cad415a95543": {
     "model_module": "@jupyter-widgets/controls",
     "model_module_version": "1.5.0",
     "model_name": "HBoxModel",
     "state": {
      "_dom_classes": [],
      "_model_module": "@jupyter-widgets/controls",
      "_model_module_version": "1.5.0",
      "_model_name": "HBoxModel",
      "_view_count": null,
      "_view_module": "@jupyter-widgets/controls",
      "_view_module_version": "1.5.0",
      "_view_name": "HBoxView",
      "box_style": "",
      "children": [
       "IPY_MODEL_b33fb027db2049f582d01999b6e781f6",
       "IPY_MODEL_0a8dc7b85690495ca5d606d0041f5df2",
       "IPY_MODEL_7148937877b846c4a41b3bc2008357b4"
      ],
      "layout": "IPY_MODEL_54326cdb44f54ae0807d93c9ee81199c"
     }
    },
    "256c82d6dba946429e497310eba68872": {
     "model_module": "@jupyter-widgets/base",
     "model_module_version": "1.2.0",
     "model_name": "LayoutModel",
     "state": {
      "_model_module": "@jupyter-widgets/base",
      "_model_module_version": "1.2.0",
      "_model_name": "LayoutModel",
      "_view_count": null,
      "_view_module": "@jupyter-widgets/base",
      "_view_module_version": "1.2.0",
      "_view_name": "LayoutView",
      "align_content": null,
      "align_items": null,
      "align_self": null,
      "border": null,
      "bottom": null,
      "display": null,
      "flex": null,
      "flex_flow": null,
      "grid_area": null,
      "grid_auto_columns": null,
      "grid_auto_flow": null,
      "grid_auto_rows": null,
      "grid_column": null,
      "grid_gap": null,
      "grid_row": null,
      "grid_template_areas": null,
      "grid_template_columns": null,
      "grid_template_rows": null,
      "height": null,
      "justify_content": null,
      "justify_items": null,
      "left": null,
      "margin": null,
      "max_height": null,
      "max_width": null,
      "min_height": null,
      "min_width": null,
      "object_fit": null,
      "object_position": null,
      "order": null,
      "overflow": null,
      "overflow_x": null,
      "overflow_y": null,
      "padding": null,
      "right": null,
      "top": null,
      "visibility": null,
      "width": null
     }
    },
    "2666a47bc9624d89a4a50e389c018001": {
     "model_module": "@jupyter-widgets/base",
     "model_module_version": "1.2.0",
     "model_name": "LayoutModel",
     "state": {
      "_model_module": "@jupyter-widgets/base",
      "_model_module_version": "1.2.0",
      "_model_name": "LayoutModel",
      "_view_count": null,
      "_view_module": "@jupyter-widgets/base",
      "_view_module_version": "1.2.0",
      "_view_name": "LayoutView",
      "align_content": null,
      "align_items": null,
      "align_self": null,
      "border": null,
      "bottom": null,
      "display": null,
      "flex": null,
      "flex_flow": null,
      "grid_area": null,
      "grid_auto_columns": null,
      "grid_auto_flow": null,
      "grid_auto_rows": null,
      "grid_column": null,
      "grid_gap": null,
      "grid_row": null,
      "grid_template_areas": null,
      "grid_template_columns": null,
      "grid_template_rows": null,
      "height": null,
      "justify_content": null,
      "justify_items": null,
      "left": null,
      "margin": null,
      "max_height": null,
      "max_width": null,
      "min_height": null,
      "min_width": null,
      "object_fit": null,
      "object_position": null,
      "order": null,
      "overflow": null,
      "overflow_x": null,
      "overflow_y": null,
      "padding": null,
      "right": null,
      "top": null,
      "visibility": null,
      "width": null
     }
    },
    "28122700c83e40cc8cdd49f0a4576afe": {
     "model_module": "@jupyter-widgets/controls",
     "model_module_version": "1.5.0",
     "model_name": "FloatProgressModel",
     "state": {
      "_dom_classes": [],
      "_model_module": "@jupyter-widgets/controls",
      "_model_module_version": "1.5.0",
      "_model_name": "FloatProgressModel",
      "_view_count": null,
      "_view_module": "@jupyter-widgets/controls",
      "_view_module_version": "1.5.0",
      "_view_name": "ProgressView",
      "bar_style": "success",
      "description": "",
      "description_tooltip": null,
      "layout": "IPY_MODEL_2b1759174eec433ebc5e002fd53cf862",
      "max": 466062,
      "min": 0,
      "orientation": "horizontal",
      "style": "IPY_MODEL_73ff3cfd5ab245a09cf9215769234a55",
      "value": 466062
     }
    },
    "2b1759174eec433ebc5e002fd53cf862": {
     "model_module": "@jupyter-widgets/base",
     "model_module_version": "1.2.0",
     "model_name": "LayoutModel",
     "state": {
      "_model_module": "@jupyter-widgets/base",
      "_model_module_version": "1.2.0",
      "_model_name": "LayoutModel",
      "_view_count": null,
      "_view_module": "@jupyter-widgets/base",
      "_view_module_version": "1.2.0",
      "_view_name": "LayoutView",
      "align_content": null,
      "align_items": null,
      "align_self": null,
      "border": null,
      "bottom": null,
      "display": null,
      "flex": null,
      "flex_flow": null,
      "grid_area": null,
      "grid_auto_columns": null,
      "grid_auto_flow": null,
      "grid_auto_rows": null,
      "grid_column": null,
      "grid_gap": null,
      "grid_row": null,
      "grid_template_areas": null,
      "grid_template_columns": null,
      "grid_template_rows": null,
      "height": null,
      "justify_content": null,
      "justify_items": null,
      "left": null,
      "margin": null,
      "max_height": null,
      "max_width": null,
      "min_height": null,
      "min_width": null,
      "object_fit": null,
      "object_position": null,
      "order": null,
      "overflow": null,
      "overflow_x": null,
      "overflow_y": null,
      "padding": null,
      "right": null,
      "top": null,
      "visibility": null,
      "width": null
     }
    },
    "2c9b838e2d9f48d88ab18924ab688e39": {
     "model_module": "@jupyter-widgets/controls",
     "model_module_version": "1.5.0",
     "model_name": "HTMLModel",
     "state": {
      "_dom_classes": [],
      "_model_module": "@jupyter-widgets/controls",
      "_model_module_version": "1.5.0",
      "_model_name": "HTMLModel",
      "_view_count": null,
      "_view_module": "@jupyter-widgets/controls",
      "_view_module_version": "1.5.0",
      "_view_name": "HTMLView",
      "description": "",
      "description_tooltip": null,
      "layout": "IPY_MODEL_a9192c824bad4e4781a6a7e68adfc1b4",
      "placeholder": "​",
      "style": "IPY_MODEL_81d6213433ff4faeaaa9622dd45250ac",
      "value": " 466k/466k [00:00&lt;00:00, 34.1MB/s]"
     }
    },
    "2e35b3521ef2456796fe6fb2c2563dd4": {
     "model_module": "@jupyter-widgets/controls",
     "model_module_version": "1.5.0",
     "model_name": "HTMLModel",
     "state": {
      "_dom_classes": [],
      "_model_module": "@jupyter-widgets/controls",
      "_model_module_version": "1.5.0",
      "_model_name": "HTMLModel",
      "_view_count": null,
      "_view_module": "@jupyter-widgets/controls",
      "_view_module_version": "1.5.0",
      "_view_name": "HTMLView",
      "description": "",
      "description_tooltip": null,
      "layout": "IPY_MODEL_462282c30abe4d13ba07fcc2b614e858",
      "placeholder": "​",
      "style": "IPY_MODEL_3ea8a68984e74c99a4667022575b0bcb",
      "value": "tokenizer_config.json: 100%"
     }
    },
    "3227256403f441ebbbd36f4e0d67298b": {
     "model_module": "@jupyter-widgets/base",
     "model_module_version": "1.2.0",
     "model_name": "LayoutModel",
     "state": {
      "_model_module": "@jupyter-widgets/base",
      "_model_module_version": "1.2.0",
      "_model_name": "LayoutModel",
      "_view_count": null,
      "_view_module": "@jupyter-widgets/base",
      "_view_module_version": "1.2.0",
      "_view_name": "LayoutView",
      "align_content": null,
      "align_items": null,
      "align_self": null,
      "border": null,
      "bottom": null,
      "display": null,
      "flex": null,
      "flex_flow": null,
      "grid_area": null,
      "grid_auto_columns": null,
      "grid_auto_flow": null,
      "grid_auto_rows": null,
      "grid_column": null,
      "grid_gap": null,
      "grid_row": null,
      "grid_template_areas": null,
      "grid_template_columns": null,
      "grid_template_rows": null,
      "height": null,
      "justify_content": null,
      "justify_items": null,
      "left": null,
      "margin": null,
      "max_height": null,
      "max_width": null,
      "min_height": null,
      "min_width": null,
      "object_fit": null,
      "object_position": null,
      "order": null,
      "overflow": null,
      "overflow_x": null,
      "overflow_y": null,
      "padding": null,
      "right": null,
      "top": null,
      "visibility": null,
      "width": null
     }
    },
    "38623c1beb744dbca6b7293a188ce2c2": {
     "model_module": "@jupyter-widgets/controls",
     "model_module_version": "1.5.0",
     "model_name": "DescriptionStyleModel",
     "state": {
      "_model_module": "@jupyter-widgets/controls",
      "_model_module_version": "1.5.0",
      "_model_name": "DescriptionStyleModel",
      "_view_count": null,
      "_view_module": "@jupyter-widgets/base",
      "_view_module_version": "1.2.0",
      "_view_name": "StyleView",
      "description_width": ""
     }
    },
    "3ea8a68984e74c99a4667022575b0bcb": {
     "model_module": "@jupyter-widgets/controls",
     "model_module_version": "1.5.0",
     "model_name": "DescriptionStyleModel",
     "state": {
      "_model_module": "@jupyter-widgets/controls",
      "_model_module_version": "1.5.0",
      "_model_name": "DescriptionStyleModel",
      "_view_count": null,
      "_view_module": "@jupyter-widgets/base",
      "_view_module_version": "1.2.0",
      "_view_name": "StyleView",
      "description_width": ""
     }
    },
    "40b06ec082c24feba9332763b23c3a3b": {
     "model_module": "@jupyter-widgets/controls",
     "model_module_version": "1.5.0",
     "model_name": "HTMLModel",
     "state": {
      "_dom_classes": [],
      "_model_module": "@jupyter-widgets/controls",
      "_model_module_version": "1.5.0",
      "_model_name": "HTMLModel",
      "_view_count": null,
      "_view_module": "@jupyter-widgets/controls",
      "_view_module_version": "1.5.0",
      "_view_name": "HTMLView",
      "description": "",
      "description_tooltip": null,
      "layout": "IPY_MODEL_3227256403f441ebbbd36f4e0d67298b",
      "placeholder": "​",
      "style": "IPY_MODEL_97b8d3640af949b2bdc54ac0d3541020",
      "value": "vocab.txt: 100%"
     }
    },
    "44f00a5c78ee4171bdfa0492d05fd127": {
     "model_module": "@jupyter-widgets/base",
     "model_module_version": "1.2.0",
     "model_name": "LayoutModel",
     "state": {
      "_model_module": "@jupyter-widgets/base",
      "_model_module_version": "1.2.0",
      "_model_name": "LayoutModel",
      "_view_count": null,
      "_view_module": "@jupyter-widgets/base",
      "_view_module_version": "1.2.0",
      "_view_name": "LayoutView",
      "align_content": null,
      "align_items": null,
      "align_self": null,
      "border": null,
      "bottom": null,
      "display": null,
      "flex": null,
      "flex_flow": null,
      "grid_area": null,
      "grid_auto_columns": null,
      "grid_auto_flow": null,
      "grid_auto_rows": null,
      "grid_column": null,
      "grid_gap": null,
      "grid_row": null,
      "grid_template_areas": null,
      "grid_template_columns": null,
      "grid_template_rows": null,
      "height": null,
      "justify_content": null,
      "justify_items": null,
      "left": null,
      "margin": null,
      "max_height": null,
      "max_width": null,
      "min_height": null,
      "min_width": null,
      "object_fit": null,
      "object_position": null,
      "order": null,
      "overflow": null,
      "overflow_x": null,
      "overflow_y": null,
      "padding": null,
      "right": null,
      "top": null,
      "visibility": null,
      "width": null
     }
    },
    "462282c30abe4d13ba07fcc2b614e858": {
     "model_module": "@jupyter-widgets/base",
     "model_module_version": "1.2.0",
     "model_name": "LayoutModel",
     "state": {
      "_model_module": "@jupyter-widgets/base",
      "_model_module_version": "1.2.0",
      "_model_name": "LayoutModel",
      "_view_count": null,
      "_view_module": "@jupyter-widgets/base",
      "_view_module_version": "1.2.0",
      "_view_name": "LayoutView",
      "align_content": null,
      "align_items": null,
      "align_self": null,
      "border": null,
      "bottom": null,
      "display": null,
      "flex": null,
      "flex_flow": null,
      "grid_area": null,
      "grid_auto_columns": null,
      "grid_auto_flow": null,
      "grid_auto_rows": null,
      "grid_column": null,
      "grid_gap": null,
      "grid_row": null,
      "grid_template_areas": null,
      "grid_template_columns": null,
      "grid_template_rows": null,
      "height": null,
      "justify_content": null,
      "justify_items": null,
      "left": null,
      "margin": null,
      "max_height": null,
      "max_width": null,
      "min_height": null,
      "min_width": null,
      "object_fit": null,
      "object_position": null,
      "order": null,
      "overflow": null,
      "overflow_x": null,
      "overflow_y": null,
      "padding": null,
      "right": null,
      "top": null,
      "visibility": null,
      "width": null
     }
    },
    "4e848d2663c74e1db983e16f8ca14a29": {
     "model_module": "@jupyter-widgets/base",
     "model_module_version": "1.2.0",
     "model_name": "LayoutModel",
     "state": {
      "_model_module": "@jupyter-widgets/base",
      "_model_module_version": "1.2.0",
      "_model_name": "LayoutModel",
      "_view_count": null,
      "_view_module": "@jupyter-widgets/base",
      "_view_module_version": "1.2.0",
      "_view_name": "LayoutView",
      "align_content": null,
      "align_items": null,
      "align_self": null,
      "border": null,
      "bottom": null,
      "display": null,
      "flex": null,
      "flex_flow": null,
      "grid_area": null,
      "grid_auto_columns": null,
      "grid_auto_flow": null,
      "grid_auto_rows": null,
      "grid_column": null,
      "grid_gap": null,
      "grid_row": null,
      "grid_template_areas": null,
      "grid_template_columns": null,
      "grid_template_rows": null,
      "height": null,
      "justify_content": null,
      "justify_items": null,
      "left": null,
      "margin": null,
      "max_height": null,
      "max_width": null,
      "min_height": null,
      "min_width": null,
      "object_fit": null,
      "object_position": null,
      "order": null,
      "overflow": null,
      "overflow_x": null,
      "overflow_y": null,
      "padding": null,
      "right": null,
      "top": null,
      "visibility": null,
      "width": null
     }
    },
    "51697330d6d9456c8ab0d827150aac8c": {
     "model_module": "@jupyter-widgets/controls",
     "model_module_version": "1.5.0",
     "model_name": "DescriptionStyleModel",
     "state": {
      "_model_module": "@jupyter-widgets/controls",
      "_model_module_version": "1.5.0",
      "_model_name": "DescriptionStyleModel",
      "_view_count": null,
      "_view_module": "@jupyter-widgets/base",
      "_view_module_version": "1.2.0",
      "_view_name": "StyleView",
      "description_width": ""
     }
    },
    "5264108c2c894e84b1a17e3f24e128a2": {
     "model_module": "@jupyter-widgets/controls",
     "model_module_version": "1.5.0",
     "model_name": "ProgressStyleModel",
     "state": {
      "_model_module": "@jupyter-widgets/controls",
      "_model_module_version": "1.5.0",
      "_model_name": "ProgressStyleModel",
      "_view_count": null,
      "_view_module": "@jupyter-widgets/base",
      "_view_module_version": "1.2.0",
      "_view_name": "StyleView",
      "bar_color": null,
      "description_width": ""
     }
    },
    "54326cdb44f54ae0807d93c9ee81199c": {
     "model_module": "@jupyter-widgets/base",
     "model_module_version": "1.2.0",
     "model_name": "LayoutModel",
     "state": {
      "_model_module": "@jupyter-widgets/base",
      "_model_module_version": "1.2.0",
      "_model_name": "LayoutModel",
      "_view_count": null,
      "_view_module": "@jupyter-widgets/base",
      "_view_module_version": "1.2.0",
      "_view_name": "LayoutView",
      "align_content": null,
      "align_items": null,
      "align_self": null,
      "border": null,
      "bottom": null,
      "display": null,
      "flex": null,
      "flex_flow": null,
      "grid_area": null,
      "grid_auto_columns": null,
      "grid_auto_flow": null,
      "grid_auto_rows": null,
      "grid_column": null,
      "grid_gap": null,
      "grid_row": null,
      "grid_template_areas": null,
      "grid_template_columns": null,
      "grid_template_rows": null,
      "height": null,
      "justify_content": null,
      "justify_items": null,
      "left": null,
      "margin": null,
      "max_height": null,
      "max_width": null,
      "min_height": null,
      "min_width": null,
      "object_fit": null,
      "object_position": null,
      "order": null,
      "overflow": null,
      "overflow_x": null,
      "overflow_y": null,
      "padding": null,
      "right": null,
      "top": null,
      "visibility": null,
      "width": null
     }
    },
    "630c3ad086f0450990871c2354adfe59": {
     "model_module": "@jupyter-widgets/controls",
     "model_module_version": "1.5.0",
     "model_name": "HTMLModel",
     "state": {
      "_dom_classes": [],
      "_model_module": "@jupyter-widgets/controls",
      "_model_module_version": "1.5.0",
      "_model_name": "HTMLModel",
      "_view_count": null,
      "_view_module": "@jupyter-widgets/controls",
      "_view_module_version": "1.5.0",
      "_view_name": "HTMLView",
      "description": "",
      "description_tooltip": null,
      "layout": "IPY_MODEL_fa6eb28c0004448ca9d57ddfe77592e8",
      "placeholder": "​",
      "style": "IPY_MODEL_c2afb96ddf7a46b687b5663120d7d2d8",
      "value": " 48.0/48.0 [00:00&lt;00:00, 4.13kB/s]"
     }
    },
    "6788ea4f28ad4b2580679f26ec449750": {
     "model_module": "@jupyter-widgets/controls",
     "model_module_version": "1.5.0",
     "model_name": "ProgressStyleModel",
     "state": {
      "_model_module": "@jupyter-widgets/controls",
      "_model_module_version": "1.5.0",
      "_model_name": "ProgressStyleModel",
      "_view_count": null,
      "_view_module": "@jupyter-widgets/base",
      "_view_module_version": "1.2.0",
      "_view_name": "StyleView",
      "bar_color": null,
      "description_width": ""
     }
    },
    "70f7d810a2d1459e96de7cf70d3a5bbf": {
     "model_module": "@jupyter-widgets/controls",
     "model_module_version": "1.5.0",
     "model_name": "HTMLModel",
     "state": {
      "_dom_classes": [],
      "_model_module": "@jupyter-widgets/controls",
      "_model_module_version": "1.5.0",
      "_model_name": "HTMLModel",
      "_view_count": null,
      "_view_module": "@jupyter-widgets/controls",
      "_view_module_version": "1.5.0",
      "_view_name": "HTMLView",
      "description": "",
      "description_tooltip": null,
      "layout": "IPY_MODEL_256c82d6dba946429e497310eba68872",
      "placeholder": "​",
      "style": "IPY_MODEL_51697330d6d9456c8ab0d827150aac8c",
      "value": "config.json: 100%"
     }
    },
    "7148937877b846c4a41b3bc2008357b4": {
     "model_module": "@jupyter-widgets/controls",
     "model_module_version": "1.5.0",
     "model_name": "HTMLModel",
     "state": {
      "_dom_classes": [],
      "_model_module": "@jupyter-widgets/controls",
      "_model_module_version": "1.5.0",
      "_model_name": "HTMLModel",
      "_view_count": null,
      "_view_module": "@jupyter-widgets/controls",
      "_view_module_version": "1.5.0",
      "_view_name": "HTMLView",
      "description": "",
      "description_tooltip": null,
      "layout": "IPY_MODEL_44f00a5c78ee4171bdfa0492d05fd127",
      "placeholder": "​",
      "style": "IPY_MODEL_ab4a681379364c80b8d6b9d901b382c3",
      "value": " 440M/440M [00:01&lt;00:00, 359MB/s]"
     }
    },
    "73ff3cfd5ab245a09cf9215769234a55": {
     "model_module": "@jupyter-widgets/controls",
     "model_module_version": "1.5.0",
     "model_name": "ProgressStyleModel",
     "state": {
      "_model_module": "@jupyter-widgets/controls",
      "_model_module_version": "1.5.0",
      "_model_name": "ProgressStyleModel",
      "_view_count": null,
      "_view_module": "@jupyter-widgets/base",
      "_view_module_version": "1.2.0",
      "_view_name": "StyleView",
      "bar_color": null,
      "description_width": ""
     }
    },
    "78acdd4bd63d4094a805d498cba90e7c": {
     "model_module": "@jupyter-widgets/base",
     "model_module_version": "1.2.0",
     "model_name": "LayoutModel",
     "state": {
      "_model_module": "@jupyter-widgets/base",
      "_model_module_version": "1.2.0",
      "_model_name": "LayoutModel",
      "_view_count": null,
      "_view_module": "@jupyter-widgets/base",
      "_view_module_version": "1.2.0",
      "_view_name": "LayoutView",
      "align_content": null,
      "align_items": null,
      "align_self": null,
      "border": null,
      "bottom": null,
      "display": null,
      "flex": null,
      "flex_flow": null,
      "grid_area": null,
      "grid_auto_columns": null,
      "grid_auto_flow": null,
      "grid_auto_rows": null,
      "grid_column": null,
      "grid_gap": null,
      "grid_row": null,
      "grid_template_areas": null,
      "grid_template_columns": null,
      "grid_template_rows": null,
      "height": null,
      "justify_content": null,
      "justify_items": null,
      "left": null,
      "margin": null,
      "max_height": null,
      "max_width": null,
      "min_height": null,
      "min_width": null,
      "object_fit": null,
      "object_position": null,
      "order": null,
      "overflow": null,
      "overflow_x": null,
      "overflow_y": null,
      "padding": null,
      "right": null,
      "top": null,
      "visibility": null,
      "width": null
     }
    },
    "81840a7dd7bd4a14bce6a0a23747711b": {
     "model_module": "@jupyter-widgets/controls",
     "model_module_version": "1.5.0",
     "model_name": "FloatProgressModel",
     "state": {
      "_dom_classes": [],
      "_model_module": "@jupyter-widgets/controls",
      "_model_module_version": "1.5.0",
      "_model_name": "FloatProgressModel",
      "_view_count": null,
      "_view_module": "@jupyter-widgets/controls",
      "_view_module_version": "1.5.0",
      "_view_name": "ProgressView",
      "bar_style": "success",
      "description": "",
      "description_tooltip": null,
      "layout": "IPY_MODEL_df2df5bb2d8c4481921ba093fd799cac",
      "max": 570,
      "min": 0,
      "orientation": "horizontal",
      "style": "IPY_MODEL_9b31888981d5443187ba5e68f61e2eee",
      "value": 570
     }
    },
    "81d6213433ff4faeaaa9622dd45250ac": {
     "model_module": "@jupyter-widgets/controls",
     "model_module_version": "1.5.0",
     "model_name": "DescriptionStyleModel",
     "state": {
      "_model_module": "@jupyter-widgets/controls",
      "_model_module_version": "1.5.0",
      "_model_name": "DescriptionStyleModel",
      "_view_count": null,
      "_view_module": "@jupyter-widgets/base",
      "_view_module_version": "1.2.0",
      "_view_name": "StyleView",
      "description_width": ""
     }
    },
    "88734b83019743bcb0825339c7a88b23": {
     "model_module": "@jupyter-widgets/base",
     "model_module_version": "1.2.0",
     "model_name": "LayoutModel",
     "state": {
      "_model_module": "@jupyter-widgets/base",
      "_model_module_version": "1.2.0",
      "_model_name": "LayoutModel",
      "_view_count": null,
      "_view_module": "@jupyter-widgets/base",
      "_view_module_version": "1.2.0",
      "_view_name": "LayoutView",
      "align_content": null,
      "align_items": null,
      "align_self": null,
      "border": null,
      "bottom": null,
      "display": null,
      "flex": null,
      "flex_flow": null,
      "grid_area": null,
      "grid_auto_columns": null,
      "grid_auto_flow": null,
      "grid_auto_rows": null,
      "grid_column": null,
      "grid_gap": null,
      "grid_row": null,
      "grid_template_areas": null,
      "grid_template_columns": null,
      "grid_template_rows": null,
      "height": null,
      "justify_content": null,
      "justify_items": null,
      "left": null,
      "margin": null,
      "max_height": null,
      "max_width": null,
      "min_height": null,
      "min_width": null,
      "object_fit": null,
      "object_position": null,
      "order": null,
      "overflow": null,
      "overflow_x": null,
      "overflow_y": null,
      "padding": null,
      "right": null,
      "top": null,
      "visibility": null,
      "width": null
     }
    },
    "9625d3e8f4034e09842f0e476424affd": {
     "model_module": "@jupyter-widgets/controls",
     "model_module_version": "1.5.0",
     "model_name": "DescriptionStyleModel",
     "state": {
      "_model_module": "@jupyter-widgets/controls",
      "_model_module_version": "1.5.0",
      "_model_name": "DescriptionStyleModel",
      "_view_count": null,
      "_view_module": "@jupyter-widgets/base",
      "_view_module_version": "1.2.0",
      "_view_name": "StyleView",
      "description_width": ""
     }
    },
    "97b8d3640af949b2bdc54ac0d3541020": {
     "model_module": "@jupyter-widgets/controls",
     "model_module_version": "1.5.0",
     "model_name": "DescriptionStyleModel",
     "state": {
      "_model_module": "@jupyter-widgets/controls",
      "_model_module_version": "1.5.0",
      "_model_name": "DescriptionStyleModel",
      "_view_count": null,
      "_view_module": "@jupyter-widgets/base",
      "_view_module_version": "1.2.0",
      "_view_name": "StyleView",
      "description_width": ""
     }
    },
    "9b31888981d5443187ba5e68f61e2eee": {
     "model_module": "@jupyter-widgets/controls",
     "model_module_version": "1.5.0",
     "model_name": "ProgressStyleModel",
     "state": {
      "_model_module": "@jupyter-widgets/controls",
      "_model_module_version": "1.5.0",
      "_model_name": "ProgressStyleModel",
      "_view_count": null,
      "_view_module": "@jupyter-widgets/base",
      "_view_module_version": "1.2.0",
      "_view_name": "StyleView",
      "bar_color": null,
      "description_width": ""
     }
    },
    "a5e6aa5ff3264e858c2a9650f0b62038": {
     "model_module": "@jupyter-widgets/controls",
     "model_module_version": "1.5.0",
     "model_name": "HTMLModel",
     "state": {
      "_dom_classes": [],
      "_model_module": "@jupyter-widgets/controls",
      "_model_module_version": "1.5.0",
      "_model_name": "HTMLModel",
      "_view_count": null,
      "_view_module": "@jupyter-widgets/controls",
      "_view_module_version": "1.5.0",
      "_view_name": "HTMLView",
      "description": "",
      "description_tooltip": null,
      "layout": "IPY_MODEL_b37e461910b14693bd9f11d5c9cd7b12",
      "placeholder": "​",
      "style": "IPY_MODEL_c29078f6ec5e4cd4a287c049e9bccf6f",
      "value": "tokenizer.json: 100%"
     }
    },
    "a9192c824bad4e4781a6a7e68adfc1b4": {
     "model_module": "@jupyter-widgets/base",
     "model_module_version": "1.2.0",
     "model_name": "LayoutModel",
     "state": {
      "_model_module": "@jupyter-widgets/base",
      "_model_module_version": "1.2.0",
      "_model_name": "LayoutModel",
      "_view_count": null,
      "_view_module": "@jupyter-widgets/base",
      "_view_module_version": "1.2.0",
      "_view_name": "LayoutView",
      "align_content": null,
      "align_items": null,
      "align_self": null,
      "border": null,
      "bottom": null,
      "display": null,
      "flex": null,
      "flex_flow": null,
      "grid_area": null,
      "grid_auto_columns": null,
      "grid_auto_flow": null,
      "grid_auto_rows": null,
      "grid_column": null,
      "grid_gap": null,
      "grid_row": null,
      "grid_template_areas": null,
      "grid_template_columns": null,
      "grid_template_rows": null,
      "height": null,
      "justify_content": null,
      "justify_items": null,
      "left": null,
      "margin": null,
      "max_height": null,
      "max_width": null,
      "min_height": null,
      "min_width": null,
      "object_fit": null,
      "object_position": null,
      "order": null,
      "overflow": null,
      "overflow_x": null,
      "overflow_y": null,
      "padding": null,
      "right": null,
      "top": null,
      "visibility": null,
      "width": null
     }
    },
    "ab4a681379364c80b8d6b9d901b382c3": {
     "model_module": "@jupyter-widgets/controls",
     "model_module_version": "1.5.0",
     "model_name": "DescriptionStyleModel",
     "state": {
      "_model_module": "@jupyter-widgets/controls",
      "_model_module_version": "1.5.0",
      "_model_name": "DescriptionStyleModel",
      "_view_count": null,
      "_view_module": "@jupyter-widgets/base",
      "_view_module_version": "1.2.0",
      "_view_name": "StyleView",
      "description_width": ""
     }
    },
    "b33fb027db2049f582d01999b6e781f6": {
     "model_module": "@jupyter-widgets/controls",
     "model_module_version": "1.5.0",
     "model_name": "HTMLModel",
     "state": {
      "_dom_classes": [],
      "_model_module": "@jupyter-widgets/controls",
      "_model_module_version": "1.5.0",
      "_model_name": "HTMLModel",
      "_view_count": null,
      "_view_module": "@jupyter-widgets/controls",
      "_view_module_version": "1.5.0",
      "_view_name": "HTMLView",
      "description": "",
      "description_tooltip": null,
      "layout": "IPY_MODEL_78acdd4bd63d4094a805d498cba90e7c",
      "placeholder": "​",
      "style": "IPY_MODEL_38623c1beb744dbca6b7293a188ce2c2",
      "value": "model.safetensors: 100%"
     }
    },
    "b37c23a49ca24774b520f1e926ad5fdd": {
     "model_module": "@jupyter-widgets/controls",
     "model_module_version": "1.5.0",
     "model_name": "FloatProgressModel",
     "state": {
      "_dom_classes": [],
      "_model_module": "@jupyter-widgets/controls",
      "_model_module_version": "1.5.0",
      "_model_name": "FloatProgressModel",
      "_view_count": null,
      "_view_module": "@jupyter-widgets/controls",
      "_view_module_version": "1.5.0",
      "_view_name": "ProgressView",
      "bar_style": "success",
      "description": "",
      "description_tooltip": null,
      "layout": "IPY_MODEL_d841380aadf946e9a9fe38298c13b15a",
      "max": 231508,
      "min": 0,
      "orientation": "horizontal",
      "style": "IPY_MODEL_d1912f4124fc41e2950dbbd9b6ad2c70",
      "value": 231508
     }
    },
    "b37e461910b14693bd9f11d5c9cd7b12": {
     "model_module": "@jupyter-widgets/base",
     "model_module_version": "1.2.0",
     "model_name": "LayoutModel",
     "state": {
      "_model_module": "@jupyter-widgets/base",
      "_model_module_version": "1.2.0",
      "_model_name": "LayoutModel",
      "_view_count": null,
      "_view_module": "@jupyter-widgets/base",
      "_view_module_version": "1.2.0",
      "_view_name": "LayoutView",
      "align_content": null,
      "align_items": null,
      "align_self": null,
      "border": null,
      "bottom": null,
      "display": null,
      "flex": null,
      "flex_flow": null,
      "grid_area": null,
      "grid_auto_columns": null,
      "grid_auto_flow": null,
      "grid_auto_rows": null,
      "grid_column": null,
      "grid_gap": null,
      "grid_row": null,
      "grid_template_areas": null,
      "grid_template_columns": null,
      "grid_template_rows": null,
      "height": null,
      "justify_content": null,
      "justify_items": null,
      "left": null,
      "margin": null,
      "max_height": null,
      "max_width": null,
      "min_height": null,
      "min_width": null,
      "object_fit": null,
      "object_position": null,
      "order": null,
      "overflow": null,
      "overflow_x": null,
      "overflow_y": null,
      "padding": null,
      "right": null,
      "top": null,
      "visibility": null,
      "width": null
     }
    },
    "bcf451f4418f4057a8a257fa63f9f19f": {
     "model_module": "@jupyter-widgets/base",
     "model_module_version": "1.2.0",
     "model_name": "LayoutModel",
     "state": {
      "_model_module": "@jupyter-widgets/base",
      "_model_module_version": "1.2.0",
      "_model_name": "LayoutModel",
      "_view_count": null,
      "_view_module": "@jupyter-widgets/base",
      "_view_module_version": "1.2.0",
      "_view_name": "LayoutView",
      "align_content": null,
      "align_items": null,
      "align_self": null,
      "border": null,
      "bottom": null,
      "display": null,
      "flex": null,
      "flex_flow": null,
      "grid_area": null,
      "grid_auto_columns": null,
      "grid_auto_flow": null,
      "grid_auto_rows": null,
      "grid_column": null,
      "grid_gap": null,
      "grid_row": null,
      "grid_template_areas": null,
      "grid_template_columns": null,
      "grid_template_rows": null,
      "height": null,
      "justify_content": null,
      "justify_items": null,
      "left": null,
      "margin": null,
      "max_height": null,
      "max_width": null,
      "min_height": null,
      "min_width": null,
      "object_fit": null,
      "object_position": null,
      "order": null,
      "overflow": null,
      "overflow_x": null,
      "overflow_y": null,
      "padding": null,
      "right": null,
      "top": null,
      "visibility": null,
      "width": null
     }
    },
    "becf2cd329f54f69a39e0e934e0dee52": {
     "model_module": "@jupyter-widgets/controls",
     "model_module_version": "1.5.0",
     "model_name": "HBoxModel",
     "state": {
      "_dom_classes": [],
      "_model_module": "@jupyter-widgets/controls",
      "_model_module_version": "1.5.0",
      "_model_name": "HBoxModel",
      "_view_count": null,
      "_view_module": "@jupyter-widgets/controls",
      "_view_module_version": "1.5.0",
      "_view_name": "HBoxView",
      "box_style": "",
      "children": [
       "IPY_MODEL_40b06ec082c24feba9332763b23c3a3b",
       "IPY_MODEL_b37c23a49ca24774b520f1e926ad5fdd",
       "IPY_MODEL_06c69fd05e6b4219a11d16020fb5793b"
      ],
      "layout": "IPY_MODEL_0e9f8e8f8f8c443c9b42ec21f85951ce"
     }
    },
    "c29078f6ec5e4cd4a287c049e9bccf6f": {
     "model_module": "@jupyter-widgets/controls",
     "model_module_version": "1.5.0",
     "model_name": "DescriptionStyleModel",
     "state": {
      "_model_module": "@jupyter-widgets/controls",
      "_model_module_version": "1.5.0",
      "_model_name": "DescriptionStyleModel",
      "_view_count": null,
      "_view_module": "@jupyter-widgets/base",
      "_view_module_version": "1.2.0",
      "_view_name": "StyleView",
      "description_width": ""
     }
    },
    "c2afb96ddf7a46b687b5663120d7d2d8": {
     "model_module": "@jupyter-widgets/controls",
     "model_module_version": "1.5.0",
     "model_name": "DescriptionStyleModel",
     "state": {
      "_model_module": "@jupyter-widgets/controls",
      "_model_module_version": "1.5.0",
      "_model_name": "DescriptionStyleModel",
      "_view_count": null,
      "_view_module": "@jupyter-widgets/base",
      "_view_module_version": "1.2.0",
      "_view_name": "StyleView",
      "description_width": ""
     }
    },
    "c9d5753fee8543bd9cba6892f7ebdea8": {
     "model_module": "@jupyter-widgets/base",
     "model_module_version": "1.2.0",
     "model_name": "LayoutModel",
     "state": {
      "_model_module": "@jupyter-widgets/base",
      "_model_module_version": "1.2.0",
      "_model_name": "LayoutModel",
      "_view_count": null,
      "_view_module": "@jupyter-widgets/base",
      "_view_module_version": "1.2.0",
      "_view_name": "LayoutView",
      "align_content": null,
      "align_items": null,
      "align_self": null,
      "border": null,
      "bottom": null,
      "display": null,
      "flex": null,
      "flex_flow": null,
      "grid_area": null,
      "grid_auto_columns": null,
      "grid_auto_flow": null,
      "grid_auto_rows": null,
      "grid_column": null,
      "grid_gap": null,
      "grid_row": null,
      "grid_template_areas": null,
      "grid_template_columns": null,
      "grid_template_rows": null,
      "height": null,
      "justify_content": null,
      "justify_items": null,
      "left": null,
      "margin": null,
      "max_height": null,
      "max_width": null,
      "min_height": null,
      "min_width": null,
      "object_fit": null,
      "object_position": null,
      "order": null,
      "overflow": null,
      "overflow_x": null,
      "overflow_y": null,
      "padding": null,
      "right": null,
      "top": null,
      "visibility": null,
      "width": null
     }
    },
    "ca16fc679af04321ac5a62a5dbd951c7": {
     "model_module": "@jupyter-widgets/controls",
     "model_module_version": "1.5.0",
     "model_name": "HBoxModel",
     "state": {
      "_dom_classes": [],
      "_model_module": "@jupyter-widgets/controls",
      "_model_module_version": "1.5.0",
      "_model_name": "HBoxModel",
      "_view_count": null,
      "_view_module": "@jupyter-widgets/controls",
      "_view_module_version": "1.5.0",
      "_view_name": "HBoxView",
      "box_style": "",
      "children": [
       "IPY_MODEL_70f7d810a2d1459e96de7cf70d3a5bbf",
       "IPY_MODEL_81840a7dd7bd4a14bce6a0a23747711b",
       "IPY_MODEL_df44cf854f3a4e72bbae4392ac91680a"
      ],
      "layout": "IPY_MODEL_2666a47bc9624d89a4a50e389c018001"
     }
    },
    "d1912f4124fc41e2950dbbd9b6ad2c70": {
     "model_module": "@jupyter-widgets/controls",
     "model_module_version": "1.5.0",
     "model_name": "ProgressStyleModel",
     "state": {
      "_model_module": "@jupyter-widgets/controls",
      "_model_module_version": "1.5.0",
      "_model_name": "ProgressStyleModel",
      "_view_count": null,
      "_view_module": "@jupyter-widgets/base",
      "_view_module_version": "1.2.0",
      "_view_name": "StyleView",
      "bar_color": null,
      "description_width": ""
     }
    },
    "d841380aadf946e9a9fe38298c13b15a": {
     "model_module": "@jupyter-widgets/base",
     "model_module_version": "1.2.0",
     "model_name": "LayoutModel",
     "state": {
      "_model_module": "@jupyter-widgets/base",
      "_model_module_version": "1.2.0",
      "_model_name": "LayoutModel",
      "_view_count": null,
      "_view_module": "@jupyter-widgets/base",
      "_view_module_version": "1.2.0",
      "_view_name": "LayoutView",
      "align_content": null,
      "align_items": null,
      "align_self": null,
      "border": null,
      "bottom": null,
      "display": null,
      "flex": null,
      "flex_flow": null,
      "grid_area": null,
      "grid_auto_columns": null,
      "grid_auto_flow": null,
      "grid_auto_rows": null,
      "grid_column": null,
      "grid_gap": null,
      "grid_row": null,
      "grid_template_areas": null,
      "grid_template_columns": null,
      "grid_template_rows": null,
      "height": null,
      "justify_content": null,
      "justify_items": null,
      "left": null,
      "margin": null,
      "max_height": null,
      "max_width": null,
      "min_height": null,
      "min_width": null,
      "object_fit": null,
      "object_position": null,
      "order": null,
      "overflow": null,
      "overflow_x": null,
      "overflow_y": null,
      "padding": null,
      "right": null,
      "top": null,
      "visibility": null,
      "width": null
     }
    },
    "df2df5bb2d8c4481921ba093fd799cac": {
     "model_module": "@jupyter-widgets/base",
     "model_module_version": "1.2.0",
     "model_name": "LayoutModel",
     "state": {
      "_model_module": "@jupyter-widgets/base",
      "_model_module_version": "1.2.0",
      "_model_name": "LayoutModel",
      "_view_count": null,
      "_view_module": "@jupyter-widgets/base",
      "_view_module_version": "1.2.0",
      "_view_name": "LayoutView",
      "align_content": null,
      "align_items": null,
      "align_self": null,
      "border": null,
      "bottom": null,
      "display": null,
      "flex": null,
      "flex_flow": null,
      "grid_area": null,
      "grid_auto_columns": null,
      "grid_auto_flow": null,
      "grid_auto_rows": null,
      "grid_column": null,
      "grid_gap": null,
      "grid_row": null,
      "grid_template_areas": null,
      "grid_template_columns": null,
      "grid_template_rows": null,
      "height": null,
      "justify_content": null,
      "justify_items": null,
      "left": null,
      "margin": null,
      "max_height": null,
      "max_width": null,
      "min_height": null,
      "min_width": null,
      "object_fit": null,
      "object_position": null,
      "order": null,
      "overflow": null,
      "overflow_x": null,
      "overflow_y": null,
      "padding": null,
      "right": null,
      "top": null,
      "visibility": null,
      "width": null
     }
    },
    "df44cf854f3a4e72bbae4392ac91680a": {
     "model_module": "@jupyter-widgets/controls",
     "model_module_version": "1.5.0",
     "model_name": "HTMLModel",
     "state": {
      "_dom_classes": [],
      "_model_module": "@jupyter-widgets/controls",
      "_model_module_version": "1.5.0",
      "_model_name": "HTMLModel",
      "_view_count": null,
      "_view_module": "@jupyter-widgets/controls",
      "_view_module_version": "1.5.0",
      "_view_name": "HTMLView",
      "description": "",
      "description_tooltip": null,
      "layout": "IPY_MODEL_e55056d3cabc4affa674336320d62e6c",
      "placeholder": "​",
      "style": "IPY_MODEL_f620efe782c34c80844a244ab03bc28d",
      "value": " 570/570 [00:00&lt;00:00, 49.1kB/s]"
     }
    },
    "e55056d3cabc4affa674336320d62e6c": {
     "model_module": "@jupyter-widgets/base",
     "model_module_version": "1.2.0",
     "model_name": "LayoutModel",
     "state": {
      "_model_module": "@jupyter-widgets/base",
      "_model_module_version": "1.2.0",
      "_model_name": "LayoutModel",
      "_view_count": null,
      "_view_module": "@jupyter-widgets/base",
      "_view_module_version": "1.2.0",
      "_view_name": "LayoutView",
      "align_content": null,
      "align_items": null,
      "align_self": null,
      "border": null,
      "bottom": null,
      "display": null,
      "flex": null,
      "flex_flow": null,
      "grid_area": null,
      "grid_auto_columns": null,
      "grid_auto_flow": null,
      "grid_auto_rows": null,
      "grid_column": null,
      "grid_gap": null,
      "grid_row": null,
      "grid_template_areas": null,
      "grid_template_columns": null,
      "grid_template_rows": null,
      "height": null,
      "justify_content": null,
      "justify_items": null,
      "left": null,
      "margin": null,
      "max_height": null,
      "max_width": null,
      "min_height": null,
      "min_width": null,
      "object_fit": null,
      "object_position": null,
      "order": null,
      "overflow": null,
      "overflow_x": null,
      "overflow_y": null,
      "padding": null,
      "right": null,
      "top": null,
      "visibility": null,
      "width": null
     }
    },
    "e80ff28fa61c4bf7b66e9f933f883459": {
     "model_module": "@jupyter-widgets/controls",
     "model_module_version": "1.5.0",
     "model_name": "HBoxModel",
     "state": {
      "_dom_classes": [],
      "_model_module": "@jupyter-widgets/controls",
      "_model_module_version": "1.5.0",
      "_model_name": "HBoxModel",
      "_view_count": null,
      "_view_module": "@jupyter-widgets/controls",
      "_view_module_version": "1.5.0",
      "_view_name": "HBoxView",
      "box_style": "",
      "children": [
       "IPY_MODEL_2e35b3521ef2456796fe6fb2c2563dd4",
       "IPY_MODEL_e9b86d98944a4158ac5e325b9bce29d8",
       "IPY_MODEL_630c3ad086f0450990871c2354adfe59"
      ],
      "layout": "IPY_MODEL_88734b83019743bcb0825339c7a88b23"
     }
    },
    "e9b86d98944a4158ac5e325b9bce29d8": {
     "model_module": "@jupyter-widgets/controls",
     "model_module_version": "1.5.0",
     "model_name": "FloatProgressModel",
     "state": {
      "_dom_classes": [],
      "_model_module": "@jupyter-widgets/controls",
      "_model_module_version": "1.5.0",
      "_model_name": "FloatProgressModel",
      "_view_count": null,
      "_view_module": "@jupyter-widgets/controls",
      "_view_module_version": "1.5.0",
      "_view_name": "ProgressView",
      "bar_style": "success",
      "description": "",
      "description_tooltip": null,
      "layout": "IPY_MODEL_bcf451f4418f4057a8a257fa63f9f19f",
      "max": 48,
      "min": 0,
      "orientation": "horizontal",
      "style": "IPY_MODEL_5264108c2c894e84b1a17e3f24e128a2",
      "value": 48
     }
    },
    "f620efe782c34c80844a244ab03bc28d": {
     "model_module": "@jupyter-widgets/controls",
     "model_module_version": "1.5.0",
     "model_name": "DescriptionStyleModel",
     "state": {
      "_model_module": "@jupyter-widgets/controls",
      "_model_module_version": "1.5.0",
      "_model_name": "DescriptionStyleModel",
      "_view_count": null,
      "_view_module": "@jupyter-widgets/base",
      "_view_module_version": "1.2.0",
      "_view_name": "StyleView",
      "description_width": ""
     }
    },
    "fa6eb28c0004448ca9d57ddfe77592e8": {
     "model_module": "@jupyter-widgets/base",
     "model_module_version": "1.2.0",
     "model_name": "LayoutModel",
     "state": {
      "_model_module": "@jupyter-widgets/base",
      "_model_module_version": "1.2.0",
      "_model_name": "LayoutModel",
      "_view_count": null,
      "_view_module": "@jupyter-widgets/base",
      "_view_module_version": "1.2.0",
      "_view_name": "LayoutView",
      "align_content": null,
      "align_items": null,
      "align_self": null,
      "border": null,
      "bottom": null,
      "display": null,
      "flex": null,
      "flex_flow": null,
      "grid_area": null,
      "grid_auto_columns": null,
      "grid_auto_flow": null,
      "grid_auto_rows": null,
      "grid_column": null,
      "grid_gap": null,
      "grid_row": null,
      "grid_template_areas": null,
      "grid_template_columns": null,
      "grid_template_rows": null,
      "height": null,
      "justify_content": null,
      "justify_items": null,
      "left": null,
      "margin": null,
      "max_height": null,
      "max_width": null,
      "min_height": null,
      "min_width": null,
      "object_fit": null,
      "object_position": null,
      "order": null,
      "overflow": null,
      "overflow_x": null,
      "overflow_y": null,
      "padding": null,
      "right": null,
      "top": null,
      "visibility": null,
      "width": null
     }
    }
   }
  }
 },
 "nbformat": 4,
 "nbformat_minor": 4
}
