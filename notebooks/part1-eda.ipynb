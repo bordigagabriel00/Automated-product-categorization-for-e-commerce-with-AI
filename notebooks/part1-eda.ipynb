{
 "cells": [
  {
   "cell_type": "markdown",
   "source": [
    "<h2><center> <span style = \"font-family: Babas; font-size: 1.5em;\"> Automated product categorization for e-commerce </span> </center></h2>\n",
    "<h4><center> <span style = \"font-family: Babas; font-size: 1em;\"> Part 1. Exploratory Data Aanalysis (EDA) </span> </center></h4>\n",
    "<h4><center> <span style = \"font-family: Babas; font-size: 1em;\"> Technologies and Tools: NLP, Computer Vision, Supervised Learning, Deep Learning, HTTP APIs, TensorFlow, Pytorch, Transformers, Spacy/NLTK, Docker. </span> </center></h4>\n",
    "<h4><center> <span style = \"font-family: Babas; font-size: 1em;\"> Team 5 </span> </center></h4> \n",
    "\n"
   ],
   "metadata": {
    "collapsed": false
   },
   "id": "6077123a67cb1688"
  },
  {
   "cell_type": "markdown",
   "source": [
    "---\n",
    "\n",
    "### Overview\n",
    "\n",
    "The main objective of this project is to build a system/service that will accept a typical \"new product\"  to classify the product into a set of predefined categories.  \n",
    "\n",
    "In this section we are going to carry out an  [**exploratory data analysis**](https://en.wikipedia.org/wiki/Exploratory_data_analysis), comparing the distributions of the number of characters, number of words, and average word-length of descriptions of products from different categories\n",
    "\n",
    "---\n"
   ],
   "metadata": {
    "collapsed": false
   },
   "id": "5eeddbf1b9161f6f"
  }
 ],
 "metadata": {
  "kernelspec": {
   "display_name": "Python 3",
   "language": "python",
   "name": "python3"
  },
  "language_info": {
   "codemirror_mode": {
    "name": "ipython",
    "version": 2
   },
   "file_extension": ".py",
   "mimetype": "text/x-python",
   "name": "python",
   "nbconvert_exporter": "python",
   "pygments_lexer": "ipython2",
   "version": "2.7.6"
  }
 },
 "nbformat": 4,
 "nbformat_minor": 5
}
