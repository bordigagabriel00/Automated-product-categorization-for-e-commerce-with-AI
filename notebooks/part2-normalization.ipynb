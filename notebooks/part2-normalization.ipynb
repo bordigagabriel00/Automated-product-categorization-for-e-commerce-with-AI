{
 "cells": [
  {
   "cell_type": "markdown",
   "source": [
    "<h2><center> <span style = \"font-family: Babas; font-size: 1.5em;\"> Automated product categorization for e-commerce </span> </center></h2>\n",
    "<h4><center> <span style = \"font-family: Babas; font-size: 1em;\"> Part 2. Text Normalization </span> </center></h4>\n",
    "<h4><center> <span style = \"font-family: Babas; font-size: 1em;\"> Team 5 </span> </center></h4> \n"
   ],
   "metadata": {
    "collapsed": false
   },
   "id": "5e2d8b490f19bffa"
  },
  {
   "cell_type": "markdown",
   "source": [
    "---\n",
    "\n",
    "### Overview\n",
    "\n",
    "In this section we are going to carry out [**text normalization**](https://en.wikipedia.org/wiki/Text_normalization) techniques, namely *convertion to lowercase*, *removal of whitespaces*, *removal of punctuations*, *removal of unicode characters*, *substitution of acronyms*, *substitution of contractions*, *removal of stop words*, *stemming and lemmatization*, *discardment of non-alphabetic words*, *retainment of relevant parts of speech*, *removal of additional stop words*\n",
    "\n",
    "---"
   ],
   "metadata": {
    "collapsed": false
   },
   "id": "d43ffb5f9a14d004"
  },
  {
   "cell_type": "markdown",
   "source": [
    "### Contents\n",
    "\n",
    "- **Text Normalization**\n",
    "    - Convertion to Lowercase\n",
    "    - Removal of Whitespaces\n",
    "    - Removal of Punctuations\n",
    "    - Removal of Unicode Characters\n",
    "    - Substitution of Acronyms\n",
    "    - Substitution of Contractions\n",
    "    - Removal of Stop Words\n",
    "    - Spelling Correction\n",
    "    - Stemming and Lemmatization\n",
    "    - Discardment of Non-alphabetic Words\n",
    "    - Retainment of Relevant Parts of Speech\n",
    "    - Removal of Additional Stop Words\n",
    "- **References**"
   ],
   "metadata": {
    "collapsed": false
   },
   "id": "84f73c45efd440b8"
  }
 ],
 "metadata": {
  "kernelspec": {
   "display_name": "Python 3",
   "language": "python",
   "name": "python3"
  },
  "language_info": {
   "codemirror_mode": {
    "name": "ipython",
    "version": 2
   },
   "file_extension": ".py",
   "mimetype": "text/x-python",
   "name": "python",
   "nbconvert_exporter": "python",
   "pygments_lexer": "ipython2",
   "version": "2.7.6"
  }
 },
 "nbformat": 4,
 "nbformat_minor": 5
}
