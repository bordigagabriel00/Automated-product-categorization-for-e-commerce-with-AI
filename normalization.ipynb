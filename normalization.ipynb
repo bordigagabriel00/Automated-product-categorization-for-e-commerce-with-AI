{
  "nbformat": 4,
  "nbformat_minor": 0,
  "metadata": {
    "colab": {
      "provenance": []
    },
    "kernelspec": {
      "name": "python3",
      "display_name": "Python 3"
    },
    "language_info": {
      "name": "python"
    }
  },
  "cells": [
    {
      "cell_type": "code",
      "execution_count": 4,
      "metadata": {
        "id": "ZfH_pW-OqTcP"
      },
      "outputs": [],
      "source": [
        "import requests\n",
        "import pandas as pd\n",
        "import json\n",
        "from io import StringIO\n",
        "import nltk\n",
        "from nltk.corpus import stopwords\n",
        "from nltk.tokenize import word_tokenize\n",
        "from nltk.stem import WordNetLemmatizer"
      ]
    },
    {
      "cell_type": "code",
      "source": [
        "nltk.download('punkt')\n",
        "nltk.download('stopwords')\n",
        "nltk.download('wordnet')"
      ],
      "metadata": {
        "colab": {
          "base_uri": "https://localhost:8080/"
        },
        "id": "7XKGZ-Ttqd5s",
        "outputId": "d2132d06-6e7e-445e-d9bf-7dec1924eab6"
      },
      "execution_count": 3,
      "outputs": [
        {
          "output_type": "stream",
          "name": "stderr",
          "text": [
            "[nltk_data] Downloading package punkt to /root/nltk_data...\n",
            "[nltk_data]   Package punkt is already up-to-date!\n",
            "[nltk_data] Downloading package stopwords to /root/nltk_data...\n",
            "[nltk_data]   Package stopwords is already up-to-date!\n",
            "[nltk_data] Downloading package wordnet to /root/nltk_data...\n",
            "[nltk_data]   Package wordnet is already up-to-date!\n"
          ]
        },
        {
          "output_type": "execute_result",
          "data": {
            "text/plain": [
              "True"
            ]
          },
          "metadata": {},
          "execution_count": 3
        }
      ]
    },
    {
      "cell_type": "code",
      "source": [
        "# Cargar el dataframe.\n",
        "url = 'https://raw.githubusercontent.com/anyoneai/e-commerce-open-data-set/master/products.json'\n",
        "response = requests.get(url)\n",
        "\n",
        "if response.status_code == 200:\n",
        "    data = response.json()\n",
        "    json_str = json.dumps(data)\n",
        "    json_data = StringIO(json_str)\n",
        "    df = pd.read_json(json_data)\n",
        "    print('DataFrame creado con éxito:')\n",
        "else:\n",
        "    print(f'Error al hacer la solicitud: Código de estado {response.status_code}')"
      ],
      "metadata": {
        "colab": {
          "base_uri": "https://localhost:8080/"
        },
        "id": "I26PRFUQqrwp",
        "outputId": "87eeb561-47aa-4ce9-b79f-71ea1a916c14"
      },
      "execution_count": 5,
      "outputs": [
        {
          "output_type": "stream",
          "name": "stdout",
          "text": [
            "DataFrame creado con éxito:\n"
          ]
        }
      ]
    },
    {
      "cell_type": "code",
      "source": [
        "# Filtrar el dataset por las categorias con mayor frecuencia.\n",
        "all_categories = pd.Series([category for sublist in df['category'] for category in sublist])\n",
        "category_counts = all_categories.value_counts()\n",
        "categories_over_100 = category_counts[category_counts > 100].index.tolist()\n",
        "\n",
        "def has_high_freq_category(category_list):\n",
        "    return any(category in categories_over_100 for category in category_list)\n",
        "\n",
        "filtered_df = df[df['category'].apply(has_high_freq_category)]"
      ],
      "metadata": {
        "id": "nK0WwvdIqrdq"
      },
      "execution_count": 9,
      "outputs": []
    },
    {
      "cell_type": "code",
      "source": [
        "print(filtered_df.columns)"
      ],
      "metadata": {
        "colab": {
          "base_uri": "https://localhost:8080/"
        },
        "id": "_VAjC7Muq1vY",
        "outputId": "b55b4554-aa12-4360-d843-f7117214598e"
      },
      "execution_count": 8,
      "outputs": [
        {
          "output_type": "stream",
          "name": "stdout",
          "text": [
            "Index(['sku', 'name', 'type', 'price', 'upc', 'category', 'shipping',\n",
            "       'description', 'manufacturer', 'model', 'url', 'image'],\n",
            "      dtype='object')\n"
          ]
        }
      ]
    },
    {
      "cell_type": "code",
      "source": [
        "'name', 'description', 'model', 'url', 'manufacturer'"
      ],
      "metadata": {
        "id": "3oUkDBDdq788"
      },
      "execution_count": null,
      "outputs": []
    },
    {
      "cell_type": "code",
      "source": [
        "def normalize_columns(filtered_df, columns):\n",
        "    lemmatizer = WordNetLemmatizer()\n",
        "    stop_words = set(stopwords.words('english'))\n",
        "\n",
        "    def normalize_text(text):\n",
        "        text = str(text)\n",
        "        tokens = word_tokenize(text)\n",
        "        tokens = [word.lower() for word in tokens if word.isalpha()]\n",
        "        tokens = [word for word in tokens if word not in stop_words]\n",
        "        tokens = [lemmatizer.lemmatize(word) for word in tokens]\n",
        "        return ' '.join(tokens)\n",
        "\n",
        "    for column in columns:\n",
        "        filtered_df.loc[:, column] = filtered_df[column].apply(normalize_text)\n",
        "\n",
        "    return filtered_df\n"
      ],
      "metadata": {
        "id": "SAtY_Ntlqf7h"
      },
      "execution_count": 13,
      "outputs": []
    },
    {
      "cell_type": "code",
      "source": [
        "normalized_df = normalize_columns(filtered_df, ['name', 'description', 'model', 'manufacturer'])\n",
        "print(normalized_df.head())"
      ],
      "metadata": {
        "colab": {
          "base_uri": "https://localhost:8080/"
        },
        "id": "5tN0zhzJrBHa",
        "outputId": "3fb613c2-7c39-4278-a983-28db060af11f"
      },
      "execution_count": 15,
      "outputs": [
        {
          "output_type": "stream",
          "name": "stderr",
          "text": [
            "<ipython-input-13-19eb67c91178>:25: SettingWithCopyWarning: \n",
            "A value is trying to be set on a copy of a slice from a DataFrame.\n",
            "Try using .loc[row_indexer,col_indexer] = value instead\n",
            "\n",
            "See the caveats in the documentation: https://pandas.pydata.org/pandas-docs/stable/user_guide/indexing.html#returning-a-view-versus-a-copy\n",
            "  filtered_df.loc[:, column] = filtered_df[column].apply(normalize_text)\n"
          ]
        },
        {
          "output_type": "stream",
          "name": "stdout",
          "text": [
            "      sku                           name      type  price          upc  \\\n",
            "0   43900           duracell aaa battery  HardGood   5.49  41333424019   \n",
            "1   48530  duracell aa coppertop battery  HardGood   5.49  41333415017   \n",
            "2  127687            duracell aa battery  HardGood   7.49  41333825014   \n",
            "3  150115       energizer max battery aa  HardGood   4.99  39800011329   \n",
            "4  185230             duracell c battery  HardGood   8.99  41333440019   \n",
            "\n",
            "                                            category shipping  \\\n",
            "0  [{'id': 'pcmcat312300050015', 'name': 'Connect...     5.49   \n",
            "1  [{'id': 'pcmcat312300050015', 'name': 'Connect...     5.49   \n",
            "2  [{'id': 'pcmcat312300050015', 'name': 'Connect...     5.49   \n",
            "3  [{'id': 'pcmcat312300050015', 'name': 'Connect...     5.49   \n",
            "4  [{'id': 'pcmcat312300050015', 'name': 'Connect...     5.49   \n",
            "\n",
            "                                         description manufacturer model  \\\n",
            "0  compatible select electronic device aaa size d...     duracell         \n",
            "1  energy duralock power preserve technology toy ...     duracell         \n",
            "2  compatible select electronic device aa size du...     duracell         \n",
            "3        aa alkaline battery battery tester included    energizer         \n",
            "4  compatible select electronic device c size dur...     duracell         \n",
            "\n",
            "                                                 url  \\\n",
            "0  http://www.bestbuy.com/site/duracell-aaa-batte...   \n",
            "1  http://www.bestbuy.com/site/duracell-aa-1-5v-c...   \n",
            "2  http://www.bestbuy.com/site/duracell-aa-batter...   \n",
            "3  http://www.bestbuy.com/site/energizer-max-batt...   \n",
            "4  http://www.bestbuy.com/site/duracell-c-batteri...   \n",
            "\n",
            "                                               image  \n",
            "0  http://img.bbystatic.com/BestBuy_US/images/pro...  \n",
            "1  http://img.bbystatic.com/BestBuy_US/images/pro...  \n",
            "2  http://img.bbystatic.com/BestBuy_US/images/pro...  \n",
            "3  http://img.bbystatic.com/BestBuy_US/images/pro...  \n",
            "4  http://img.bbystatic.com/BestBuy_US/images/pro...  \n"
          ]
        }
      ]
    }
  ]
}