{
  "nbformat": 4,
  "nbformat_minor": 0,
  "metadata": {
    "colab": {
      "provenance": []
    },
    "kernelspec": {
      "name": "python3",
      "display_name": "Python 3"
    },
    "language_info": {
      "name": "python"
    }
  },
  "cells": [
    {
      "cell_type": "code",
      "execution_count": 21,
      "metadata": {
        "colab": {
          "base_uri": "https://localhost:8080/"
        },
        "id": "bjKToYfc6adY",
        "outputId": "e010d05c-aab8-4947-c72f-255032e61ce8"
      },
      "outputs": [
        {
          "output_type": "stream",
          "name": "stderr",
          "text": [
            "[nltk_data] Downloading package punkt to /root/nltk_data...\n",
            "[nltk_data]   Package punkt is already up-to-date!\n",
            "[nltk_data] Downloading package stopwords to /root/nltk_data...\n",
            "[nltk_data]   Package stopwords is already up-to-date!\n",
            "[nltk_data] Downloading package averaged_perceptron_tagger to\n",
            "[nltk_data]     /root/nltk_data...\n",
            "[nltk_data]   Package averaged_perceptron_tagger is already up-to-\n",
            "[nltk_data]       date!\n",
            "[nltk_data] Downloading package wordnet to /root/nltk_data...\n",
            "[nltk_data]   Package wordnet is already up-to-date!\n"
          ]
        },
        {
          "output_type": "execute_result",
          "data": {
            "text/plain": [
              "True"
            ]
          },
          "metadata": {},
          "execution_count": 21
        }
      ],
      "source": [
        "import pandas as pd\n",
        "import nltk\n",
        "from nltk.corpus import stopwords\n",
        "from nltk.tokenize import word_tokenize\n",
        "from nltk.stem import PorterStemmer\n",
        "from nltk.stem import WordNetLemmatizer\n",
        "from nltk import pos_tag\n",
        "from nltk.corpus import wordnet\n",
        "from sklearn.model_selection import train_test_split\n",
        "from sklearn.preprocessing import StandardScaler, OneHotEncoder\n",
        "import numpy as np\n",
        "from sklearn.preprocessing import LabelEncoder\n",
        "\n",
        "nltk.download('punkt')\n",
        "nltk.download('stopwords')\n",
        "nltk.download('averaged_perceptron_tagger')\n",
        "nltk.download('wordnet')"
      ]
    },
    {
      "cell_type": "code",
      "source": [
        "file_path = '/content/drive/MyDrive/prueba_encoder/alpha2_dataset(2).csv'\n",
        "df = pd.read_csv(file_path)\n",
        "df = df.fillna(pd.NA)\n",
        "\n",
        "print(df.head())\n",
        "df.info()"
      ],
      "metadata": {
        "colab": {
          "base_uri": "https://localhost:8080/"
        },
        "id": "lASrrK4Z6msI",
        "outputId": "a79cb80c-5c32-4ecc-82b2-1689a695c3ed"
      },
      "execution_count": 22,
      "outputs": [
        {
          "output_type": "stream",
          "name": "stdout",
          "text": [
            "                                              name      type  price  \\\n",
            "0                Duracell - AAA Batteries (4-Pack)  HardGood   5.49   \n",
            "1  Duracell - AA 1.5V CopperTop Batteries (4-Pack)  HardGood   5.49   \n",
            "2                 Duracell - AA Batteries (8-Pack)  HardGood   7.49   \n",
            "3            Energizer - MAX Batteries AA (4-Pack)  HardGood   4.99   \n",
            "4                  Duracell - C Batteries (4-Pack)  HardGood   8.99   \n",
            "\n",
            "                                         description manufacturer  \\\n",
            "0  Compatible with select electronic devices; AAA...     Duracell   \n",
            "1  Long-lasting energy; DURALOCK Power Preserve t...     Duracell   \n",
            "2  Compatible with select electronic devices; AA ...     Duracell   \n",
            "3  4-pack AA alkaline batteries; battery tester i...    Energizer   \n",
            "4  Compatible with select electronic devices; C s...     Duracell   \n",
            "\n",
            "                                           url              parent_category  \\\n",
            "0                duracell aaa batteries 4 pack  Connected Home & Housewares   \n",
            "1  duracell aa 1 5v coppertop batteries 4 pack  Connected Home & Housewares   \n",
            "2                 duracell aa batteries 8 pack  Connected Home & Housewares   \n",
            "3            energizer max batteries aa 4 pack  Connected Home & Housewares   \n",
            "4                  duracell c batteries 4 pack  Connected Home & Housewares   \n",
            "\n",
            "  sub_category_1        sub_category_2       sub_category_3 sub_category_4  \n",
            "0     Housewares   Household Batteries   Alkaline Batteries           <NA>  \n",
            "1     Housewares   Household Batteries   Alkaline Batteries           <NA>  \n",
            "2     Housewares   Household Batteries   Alkaline Batteries           <NA>  \n",
            "3     Housewares   Household Batteries   Alkaline Batteries           <NA>  \n",
            "4     Housewares   Household Batteries   Alkaline Batteries           <NA>  \n",
            "<class 'pandas.core.frame.DataFrame'>\n",
            "RangeIndex: 50041 entries, 0 to 50040\n",
            "Data columns (total 11 columns):\n",
            " #   Column           Non-Null Count  Dtype  \n",
            "---  ------           --------------  -----  \n",
            " 0   name             50040 non-null  object \n",
            " 1   type             50041 non-null  object \n",
            " 2   price            50041 non-null  float64\n",
            " 3   description      50041 non-null  object \n",
            " 4   manufacturer     49975 non-null  object \n",
            " 5   url              50040 non-null  object \n",
            " 6   parent_category  50041 non-null  object \n",
            " 7   sub_category_1   49294 non-null  object \n",
            " 8   sub_category_2   43948 non-null  object \n",
            " 9   sub_category_3   27955 non-null  object \n",
            " 10  sub_category_4   9788 non-null   object \n",
            "dtypes: float64(1), object(10)\n",
            "memory usage: 4.2+ MB\n"
          ]
        }
      ]
    },
    {
      "cell_type": "code",
      "source": [
        "# stemmer, lemmatizer and stopwords\n",
        "import re\n",
        "from nltk.tokenize import word_tokenize\n",
        "from nltk.corpus import stopwords\n",
        "from nltk import pos_tag\n",
        "from nltk.stem import WordNetLemmatizer\n",
        "from typing import Optional\n",
        "\n",
        "# Initialize NLTK resources\n",
        "stop_words = set(stopwords.words('english'))\n",
        "lemmatizer = WordNetLemmatizer()\n",
        "\n",
        "def get_wordnet_pos(tag):\n",
        "    if tag.startswith('J'):\n",
        "        return 'a'  # Adjective\n",
        "    elif tag.startswith('V'):\n",
        "        return 'v'  # Verb\n",
        "    elif tag.startswith('N'):\n",
        "        return 'n'  # Noun\n",
        "    elif tag.startswith('R'):\n",
        "        return 'r'  # Adverb\n",
        "    else:\n",
        "        return 'n'  # Default to noun if not recognized\n",
        "\n",
        "def remove_extra_new_lines(text):\n",
        "\n",
        "    if pd.isnull(text):  # check if text is nan\n",
        "        return ''  # replace with an empty string\n",
        "\n",
        "    clean_text = [i for i in str(text).splitlines() if i.strip()]\n",
        "    clean_text = ' '.join(clean_text)\n",
        "    return clean_text\n",
        "\n",
        "def remove_extra_whitespace(text: str) -> str:\n",
        "\n",
        "    spaceless_text = re.sub(r'\\s+', ' ', text)\n",
        "    return spaceless_text\n",
        "\n",
        "def remove_special_chars(text: str, remove_digits: Optional[bool] = False) -> str:\n",
        "\n",
        "    if remove_digits:\n",
        "        pattern = r'[^a-zA-Z\\s]'\n",
        "    else:\n",
        "        pattern = r'[^a-zA-Z0-9\\s]'\n",
        "\n",
        "    cleaned_text = re.sub(pattern, '', text)\n",
        "    return cleaned_text\n",
        "\n",
        "def normalize_text(text):\n",
        "\n",
        "    text = remove_extra_new_lines(text)\n",
        "\n",
        "    text = remove_extra_whitespace(text)\n",
        "\n",
        "    text = remove_special_chars(text, remove_digits=False)\n",
        "\n",
        "    tokens = word_tokenize(text)\n",
        "    tokens = [token.lower() for token in tokens if token.isalpha() and token.lower() not in stop_words]\n",
        "    tagged_tokens = pos_tag(tokens)\n",
        "    lemmas = [lemmatizer.lemmatize(token, get_wordnet_pos(tag)) for token, tag in tagged_tokens]\n",
        "\n",
        "    return ' '.join(lemmas)"
      ],
      "metadata": {
        "id": "OUzBSTQi6p8v"
      },
      "execution_count": 23,
      "outputs": []
    },
    {
      "cell_type": "code",
      "source": [
        "normalization = ['name', 'description']\n",
        "for column in normalization:\n",
        "    df[column + '_normalized'] = df[column].apply(normalize_text)\n",
        "\n",
        "print(df.shape)"
      ],
      "metadata": {
        "colab": {
          "base_uri": "https://localhost:8080/"
        },
        "id": "8martjTt6sdd",
        "outputId": "04595e57-b78b-4702-9291-3d7251bcc274"
      },
      "execution_count": 24,
      "outputs": [
        {
          "output_type": "stream",
          "name": "stdout",
          "text": [
            "(50041, 13)\n"
          ]
        }
      ]
    },
    {
      "cell_type": "code",
      "source": [
        "df['sub_category_1'].fillna('0', inplace=True)\n",
        "df['sub_category_2'].fillna('0', inplace=True)\n",
        "df['sub_category_3'].fillna('0', inplace=True)\n",
        "df['sub_category_4'].fillna('0', inplace=True)\n"
      ],
      "metadata": {
        "id": "HYTfY_RArpEX"
      },
      "execution_count": 25,
      "outputs": []
    },
    {
      "cell_type": "code",
      "source": [
        "print(df.head())\n",
        "df.shape\n",
        "X = df.drop(columns=['parent_category'])\n",
        "y = df['parent_category']\n",
        "\n",
        "label_encoder = LabelEncoder()\n",
        "y_encoded = label_encoder.fit_transform(y)\n",
        "\n",
        "X_train, X_test, y_train, y_test = train_test_split(X, y_encoded, test_size=0.2, random_state=42)"
      ],
      "metadata": {
        "colab": {
          "base_uri": "https://localhost:8080/"
        },
        "id": "uwLSa6uB6upR",
        "outputId": "3b01d80e-984e-4e8f-ffb0-73b48cd31694"
      },
      "execution_count": 26,
      "outputs": [
        {
          "output_type": "stream",
          "name": "stdout",
          "text": [
            "                                              name      type  price  \\\n",
            "0                Duracell - AAA Batteries (4-Pack)  HardGood   5.49   \n",
            "1  Duracell - AA 1.5V CopperTop Batteries (4-Pack)  HardGood   5.49   \n",
            "2                 Duracell - AA Batteries (8-Pack)  HardGood   7.49   \n",
            "3            Energizer - MAX Batteries AA (4-Pack)  HardGood   4.99   \n",
            "4                  Duracell - C Batteries (4-Pack)  HardGood   8.99   \n",
            "\n",
            "                                         description manufacturer  \\\n",
            "0  Compatible with select electronic devices; AAA...     Duracell   \n",
            "1  Long-lasting energy; DURALOCK Power Preserve t...     Duracell   \n",
            "2  Compatible with select electronic devices; AA ...     Duracell   \n",
            "3  4-pack AA alkaline batteries; battery tester i...    Energizer   \n",
            "4  Compatible with select electronic devices; C s...     Duracell   \n",
            "\n",
            "                                           url              parent_category  \\\n",
            "0                duracell aaa batteries 4 pack  Connected Home & Housewares   \n",
            "1  duracell aa 1 5v coppertop batteries 4 pack  Connected Home & Housewares   \n",
            "2                 duracell aa batteries 8 pack  Connected Home & Housewares   \n",
            "3            energizer max batteries aa 4 pack  Connected Home & Housewares   \n",
            "4                  duracell c batteries 4 pack  Connected Home & Housewares   \n",
            "\n",
            "  sub_category_1        sub_category_2       sub_category_3 sub_category_4  \\\n",
            "0     Housewares   Household Batteries   Alkaline Batteries              0   \n",
            "1     Housewares   Household Batteries   Alkaline Batteries              0   \n",
            "2     Housewares   Household Batteries   Alkaline Batteries              0   \n",
            "3     Housewares   Household Batteries   Alkaline Batteries              0   \n",
            "4     Housewares   Household Batteries   Alkaline Batteries              0   \n",
            "\n",
            "                 name_normalized  \\\n",
            "0           duracell aaa battery   \n",
            "1  duracell aa coppertop battery   \n",
            "2            duracell aa battery   \n",
            "3       energizer max battery aa   \n",
            "4             duracell c battery   \n",
            "\n",
            "                              description_normalized  \n",
            "0  compatible select electronic device aaa size d...  \n",
            "1  longlasting energy duralock power preserve tec...  \n",
            "2  compatible select electronic device aa size du...  \n",
            "3         aa alkaline battery battery tester include  \n",
            "4  compatible select electronic device c size dur...  \n"
          ]
        }
      ]
    },
    {
      "cell_type": "code",
      "source": [
        "df.shape\n",
        "X_1 = df.drop(columns=['sub_category_1'])\n",
        "y_1 = df['sub_category_1']\n",
        "\n",
        "label_encoder = LabelEncoder()\n",
        "y_1_encoded = label_encoder.fit_transform(y)\n",
        "\n",
        "X_train_1, X_test_1, y_train_1, y_test_1 = train_test_split(X_1, y_1_encoded, test_size=0.2, random_state=42)"
      ],
      "metadata": {
        "id": "woBvshjI-gHS"
      },
      "execution_count": 27,
      "outputs": []
    },
    {
      "cell_type": "code",
      "source": [
        "df.shape\n",
        "X_2 = df.drop(columns=['sub_category_2'])\n",
        "y_2 = df['sub_category_2']\n",
        "\n",
        "label_encoder = LabelEncoder()\n",
        "y_2_encoded = label_encoder.fit_transform(y)\n",
        "\n",
        "X_train_2, X_test_2, y_train_2, y_test_2 = train_test_split(X_2, y_2_encoded, test_size=0.2, random_state=42)"
      ],
      "metadata": {
        "id": "wYMN3-Aj-f-n"
      },
      "execution_count": 28,
      "outputs": []
    },
    {
      "cell_type": "code",
      "source": [
        "df.shape\n",
        "X_3 = df.drop(columns=['sub_category_3'])\n",
        "y_3 = df['sub_category_3']\n",
        "\n",
        "label_encoder = LabelEncoder()\n",
        "y_3_encoded = label_encoder.fit_transform(y)\n",
        "\n",
        "X_train_3, X_test_3, y_train_3, y_test_3 = train_test_split(X_3, y_3_encoded, test_size=0.2, random_state=42)"
      ],
      "metadata": {
        "id": "sLrnJPS1-f3n"
      },
      "execution_count": 29,
      "outputs": []
    },
    {
      "cell_type": "code",
      "source": [
        "df.shape\n",
        "X_4 = df.drop(columns=['sub_category_4'])\n",
        "y_4 = df['sub_category_4']\n",
        "\n",
        "label_encoder = LabelEncoder()\n",
        "y_4_encoded = label_encoder.fit_transform(y)\n",
        "\n",
        "X_train_4, X_test_4, y_train_4, y_test_4 = train_test_split(X_4, y_4_encoded, test_size=0.2, random_state=42)"
      ],
      "metadata": {
        "id": "MmO58b37-foH"
      },
      "execution_count": 30,
      "outputs": []
    },
    {
      "cell_type": "code",
      "source": [
        "print(df.head())\n",
        "df.shape"
      ],
      "metadata": {
        "colab": {
          "base_uri": "https://localhost:8080/"
        },
        "id": "XxJvoJcBsGfp",
        "outputId": "8064db2d-ac1c-4896-9349-64285425f5d5"
      },
      "execution_count": null,
      "outputs": [
        {
          "output_type": "stream",
          "name": "stdout",
          "text": [
            "                                              name      type  price  \\\n",
            "0                Duracell - AAA Batteries (4-Pack)  HardGood   5.49   \n",
            "1  Duracell - AA 1.5V CopperTop Batteries (4-Pack)  HardGood   5.49   \n",
            "2                 Duracell - AA Batteries (8-Pack)  HardGood   7.49   \n",
            "3            Energizer - MAX Batteries AA (4-Pack)  HardGood   4.99   \n",
            "4                  Duracell - C Batteries (4-Pack)  HardGood   8.99   \n",
            "\n",
            "                                         description manufacturer  \\\n",
            "0  Compatible with select electronic devices; AAA...     Duracell   \n",
            "1  Long-lasting energy; DURALOCK Power Preserve t...     Duracell   \n",
            "2  Compatible with select electronic devices; AA ...     Duracell   \n",
            "3  4-pack AA alkaline batteries; battery tester i...    Energizer   \n",
            "4  Compatible with select electronic devices; C s...     Duracell   \n",
            "\n",
            "                                           url              parent_category  \\\n",
            "0                duracell aaa batteries 4 pack  Connected Home & Housewares   \n",
            "1  duracell aa 1 5v coppertop batteries 4 pack  Connected Home & Housewares   \n",
            "2                 duracell aa batteries 8 pack  Connected Home & Housewares   \n",
            "3            energizer max batteries aa 4 pack  Connected Home & Housewares   \n",
            "4                  duracell c batteries 4 pack  Connected Home & Housewares   \n",
            "\n",
            "  sub_category_1        sub_category_2       sub_category_3 sub_category_4  \\\n",
            "0     Housewares   Household Batteries   Alkaline Batteries              0   \n",
            "1     Housewares   Household Batteries   Alkaline Batteries              0   \n",
            "2     Housewares   Household Batteries   Alkaline Batteries              0   \n",
            "3     Housewares   Household Batteries   Alkaline Batteries              0   \n",
            "4     Housewares   Household Batteries   Alkaline Batteries              0   \n",
            "\n",
            "                 name_normalized  \\\n",
            "0           duracell aaa battery   \n",
            "1  duracell aa coppertop battery   \n",
            "2            duracell aa battery   \n",
            "3       energizer max battery aa   \n",
            "4             duracell c battery   \n",
            "\n",
            "                              description_normalized  \n",
            "0  compatible select electronic device aaa size d...  \n",
            "1  longlasting energy duralock power preserve tec...  \n",
            "2  compatible select electronic device aa size du...  \n",
            "3         aa alkaline battery battery tester include  \n",
            "4  compatible select electronic device c size dur...  \n"
          ]
        },
        {
          "output_type": "execute_result",
          "data": {
            "text/plain": [
              "(50041, 13)"
            ]
          },
          "metadata": {},
          "execution_count": 12
        }
      ]
    },
    {
      "cell_type": "code",
      "source": [
        "print(X_train.shape)\n",
        "print( X_test.shape)\n",
        "print(y_train.shape)\n",
        "print(y_test.shape)\n",
        "print(X_train['name_normalized'])"
      ],
      "metadata": {
        "colab": {
          "base_uri": "https://localhost:8080/"
        },
        "id": "N_ArCp4U6xB_",
        "outputId": "d5cd1931-8036-4eea-de8f-8f3daa08bcca"
      },
      "execution_count": 20,
      "outputs": [
        {
          "output_type": "stream",
          "name": "stdout",
          "text": [
            "(40032, 12)\n",
            "(10009, 12)\n",
            "(40032,)\n",
            "(10009,)\n",
            "9233                            star fox preowned nintendo\n",
            "25631    pioneer networkready ultra hd passthrough av h...\n",
            "19030                     evolve ultimate edition xbox one\n",
            "12044    joby pro series ultraplate quickrelease plate ...\n",
            "18967    aluratek bump w home audio speaker system ipod...\n",
            "                               ...                        \n",
            "11284    samsung class diag lead curved smart ultra hd ...\n",
            "44732    hifonics brutus class mono mosfet subwoofer am...\n",
            "38158    mobile edge premium laptop backpack apple macb...\n",
            "860                                 presonus presonus gray\n",
            "15795      insignia portable bluetooth stereo speaker blue\n",
            "Name: name_normalized, Length: 40032, dtype: object\n"
          ]
        }
      ]
    },
    {
      "cell_type": "code",
      "source": [
        "y_train"
      ],
      "metadata": {
        "colab": {
          "base_uri": "https://localhost:8080/"
        },
        "id": "HfXktfLf6y1M",
        "outputId": "4b9e8a29-b99b-4ab7-f153-2346eeee9663"
      },
      "execution_count": null,
      "outputs": [
        {
          "output_type": "execute_result",
          "data": {
            "text/plain": [
              "array([299, 299, 299, ..., 299, 299, 299])"
            ]
          },
          "metadata": {},
          "execution_count": 14
        }
      ]
    },
    {
      "cell_type": "markdown",
      "source": [
        "One Hot Encoder y Scaler\n"
      ],
      "metadata": {
        "id": "Wdo3ct0S6zga"
      }
    },
    {
      "cell_type": "markdown",
      "source": [
        "Stage 1"
      ],
      "metadata": {
        "id": "MiMYODyT5cLA"
      }
    },
    {
      "cell_type": "code",
      "source": [
        "from sklearn.preprocessing import OneHotEncoder, StandardScaler\n",
        "\n",
        "# Define columns\n",
        "categorical_columns = ['type', 'manufacturer']\n",
        "numerical_columns = ['price']\n",
        "text_columns = ['name_normalized', 'description_normalized']\n",
        "\n",
        "# Fill missing values\n",
        "X_train[categorical_columns] = X_train[categorical_columns].fillna('missing')\n",
        "X_test[categorical_columns] = X_test[categorical_columns].fillna('missing')\n",
        "\n",
        "# One-hot encode categorical features\n",
        "encoder = OneHotEncoder(handle_unknown='ignore')\n",
        "X_train_encoded = encoder.fit_transform(X_train[categorical_columns])\n",
        "X_test_encoded = encoder.transform(X_test[categorical_columns])\n",
        "\n",
        "# Print information about X_train_encoded and X_test_encoded\n",
        "print(\"Shape of X_train_encoded:\", X_train_encoded.shape)\n",
        "print(\"Data type of X_train_encoded:\", type(X_train_encoded))\n",
        "print(\"Data type of elements in X_train_encoded:\", X_train_encoded.dtype)\n",
        "print(\"Shape of X_test_encoded:\", X_test_encoded.shape)\n",
        "print(\"Data type of X_test_encoded:\", type(X_test_encoded))\n",
        "print(\"Data type of elements in X_test_encoded:\", X_test_encoded.dtype)\n",
        "\n",
        "# Scale numerical features\n",
        "scaler = StandardScaler()\n",
        "X_train_scaled = scaler.fit_transform(X_train[numerical_columns])\n",
        "X_test_scaled = scaler.transform(X_test[numerical_columns])\n",
        "\n",
        "# Print information about X_train_scaled and X_test_scaled\n",
        "print(\"Shape of X_train_scaled:\", X_train_scaled.shape)\n",
        "print(\"Data type of elements in X_train_scaled:\", X_train_scaled.dtype)\n",
        "print(\"Shape of X_test_scaled:\", X_test_scaled.shape)\n",
        "print(\"Data type of elements in X_test_scaled:\", X_test_scaled.dtype)"
      ],
      "metadata": {
        "id": "kHamdvAY64SL",
        "colab": {
          "base_uri": "https://localhost:8080/"
        },
        "outputId": "c312cd27-8ae2-4f37-bdde-f90f6b6e38ac"
      },
      "execution_count": null,
      "outputs": [
        {
          "output_type": "stream",
          "name": "stdout",
          "text": [
            "Shape of X_train_encoded: (40032, 2195)\n",
            "Data type of X_train_encoded: <class 'scipy.sparse._csr.csr_matrix'>\n",
            "Data type of elements in X_train_encoded: float64\n",
            "Shape of X_test_encoded: (10009, 2195)\n",
            "Data type of X_test_encoded: <class 'scipy.sparse._csr.csr_matrix'>\n",
            "Data type of elements in X_test_encoded: float64\n",
            "Shape of X_train_scaled: (40032, 1)\n",
            "Data type of elements in X_train_scaled: float64\n",
            "Shape of X_test_scaled: (10009, 1)\n",
            "Data type of elements in X_test_scaled: float64\n"
          ]
        }
      ]
    },
    {
      "cell_type": "markdown",
      "source": [
        "Stage 2"
      ],
      "metadata": {
        "id": "t14kj_745e3A"
      }
    },
    {
      "cell_type": "code",
      "source": [
        "# Define columns\n",
        "categorical_columns_1 = ['type', 'manufacturer', 'parent_category']\n",
        "# numerical_columns = ['price']\n",
        "# text_columns = ['name_normalized', 'description_normalized']\n",
        "\n",
        "# Fill missing values\n",
        "X_train_1[categorical_columns_1] = X_train_1[categorical_columns_1].fillna('missing')\n",
        "X_test_1[categorical_columns_1] = X_test_1[categorical_columns_1].fillna('missing')\n",
        "\n",
        "# One-hot encode categorical features\n",
        "encoder_1 = OneHotEncoder(handle_unknown='ignore')\n",
        "X_train_encoded_1 = encoder_1.fit_transform(X_train_1[categorical_columns_1])\n",
        "X_test_encoded_1 = encoder_1.transform(X_test_1[categorical_columns_1])\n",
        "\n",
        "# Print information about X_train_encoded and X_test_encoded\n",
        "print(\"Shape of X_train_encoded_1:\", X_train_encoded_1.shape)\n",
        "print(\"Data type of X_train_encoded_1:\", type(X_train_encoded_1))\n",
        "print(\"Data type of elements in X_train_encoded_1:\", X_train_encoded_1.dtype)\n",
        "print(\"Shape of X_test_encoded_1:\", X_test_encoded_1.shape)\n",
        "print(\"Data type of X_test_encoded_1:\", type(X_test_encoded_1))\n",
        "print(\"Data type of elements in X_test_encoded_1:\", X_test_encoded_1.dtype)\n",
        "\n",
        "# Scale numerical features\n",
        "scaler_1 = StandardScaler()\n",
        "X_train_scaled_1 = scaler_1.fit_transform(X_train_1[numerical_columns])\n",
        "X_test_scaled_1 = scaler_1.transform(X_test_1[numerical_columns])\n",
        "\n",
        "# Print information about X_train_scaled and X_test_scaled\n",
        "print(\"Shape of X_train_scaled_1:\", X_train_scaled_1.shape)\n",
        "print(\"Data type of elements in X_train_scaled_1:\", X_train_scaled_1.dtype)\n",
        "print(\"Shape of X_test_scaled_1:\", X_test_scaled_1.shape)\n",
        "print(\"Data type of elements in X_test_scaled_1:\", X_test_scaled_1.dtype)"
      ],
      "metadata": {
        "colab": {
          "base_uri": "https://localhost:8080/"
        },
        "id": "4rrKOHZ_4_AK",
        "outputId": "bd1b3f38-75f9-494e-dbf6-9bd87d1f6832"
      },
      "execution_count": 33,
      "outputs": [
        {
          "output_type": "stream",
          "name": "stdout",
          "text": [
            "Shape of X_train_encoded_1: (40032, 2253)\n",
            "Data type of X_train_encoded_1: <class 'scipy.sparse._csr.csr_matrix'>\n",
            "Data type of elements in X_train_encoded_1: float64\n",
            "Shape of X_test_encoded_1: (10009, 2253)\n",
            "Data type of X_test_encoded_1: <class 'scipy.sparse._csr.csr_matrix'>\n",
            "Data type of elements in X_test_encoded_1: float64\n",
            "Shape of X_train_scaled_1: (40032, 1)\n",
            "Data type of elements in X_train_scaled_1: float64\n",
            "Shape of X_test_scaled_1: (10009, 1)\n",
            "Data type of elements in X_test_scaled_1: float64\n"
          ]
        }
      ]
    },
    {
      "cell_type": "markdown",
      "source": [
        "Stage 3"
      ],
      "metadata": {
        "id": "c4uI4css5hqx"
      }
    },
    {
      "cell_type": "code",
      "source": [
        "# Define columns\n",
        "categorical_columns_2 = ['type', 'manufacturer', 'parent_category', 'sub_category_1']\n",
        "# numerical_columns = ['price']\n",
        "# text_columns = ['name_normalized', 'description_normalized']\n",
        "\n",
        "# Fill missing values\n",
        "X_train_2[categorical_columns_2] = X_train_2[categorical_columns_2].fillna('missing')\n",
        "X_test_2[categorical_columns_2] = X_test_2[categorical_columns_2].fillna('missing')\n",
        "\n",
        "# One-hot encode categorical features\n",
        "encoder_2 = OneHotEncoder(handle_unknown='ignore')\n",
        "X_train_encoded_2 = encoder_2.fit_transform(X_train_2[categorical_columns_2])\n",
        "X_test_encoded_2 = encoder_2.transform(X_test_2[categorical_columns_2])\n",
        "\n",
        "# Print information about X_train_encoded and X_test_encoded\n",
        "print(\"Shape of X_train_encoded_2:\", X_train_encoded_2.shape)\n",
        "print(\"Data type of X_train_encoded_2:\", type(X_train_encoded_2))\n",
        "print(\"Data type of elements in X_train_encoded_2:\", X_train_encoded_2.dtype)\n",
        "print(\"Shape of X_test_encoded_2:\", X_test_encoded_2.shape)\n",
        "print(\"Data type of X_test_encoded_2:\", type(X_test_encoded_2))\n",
        "print(\"Data type of elements in X_test_encoded_2:\", X_test_encoded_2.dtype)\n",
        "\n",
        "# Scale numerical features\n",
        "scaler_2 = StandardScaler()\n",
        "X_train_scaled_2 = scaler_2.fit_transform(X_train_2[numerical_columns])\n",
        "X_test_scaled_2 = scaler_2.transform(X_test_2[numerical_columns])\n",
        "\n",
        "# Print information about X_train_scaled and X_test_scaled\n",
        "print(\"Shape of X_train_scaled_2:\", X_train_scaled_2.shape)\n",
        "print(\"Data type of elements in X_train_scaled_2:\", X_train_scaled_2.dtype)\n",
        "print(\"Shape of X_test_scaled_2:\", X_test_scaled_2.shape)\n",
        "print(\"Data type of elements in X_test_scaled_2:\", X_test_scaled_2.dtype)"
      ],
      "metadata": {
        "colab": {
          "base_uri": "https://localhost:8080/"
        },
        "id": "JSlE-ZXJ4-5Q",
        "outputId": "cb5f926f-438b-42f9-ab8b-6c1f9f7ba5bd"
      },
      "execution_count": 34,
      "outputs": [
        {
          "output_type": "stream",
          "name": "stdout",
          "text": [
            "Shape of X_train_encoded_2: (40032, 2398)\n",
            "Data type of X_train_encoded_2: <class 'scipy.sparse._csr.csr_matrix'>\n",
            "Data type of elements in X_train_encoded_2: float64\n",
            "Shape of X_test_encoded_2: (10009, 2398)\n",
            "Data type of X_test_encoded_2: <class 'scipy.sparse._csr.csr_matrix'>\n",
            "Data type of elements in X_test_encoded_2: float64\n",
            "Shape of X_train_scaled_2: (40032, 1)\n",
            "Data type of elements in X_train_scaled_2: float64\n",
            "Shape of X_test_scaled_2: (10009, 1)\n",
            "Data type of elements in X_test_scaled_2: float64\n"
          ]
        }
      ]
    },
    {
      "cell_type": "markdown",
      "source": [
        "Stage 4"
      ],
      "metadata": {
        "id": "UjEeJaua5jYm"
      }
    },
    {
      "cell_type": "code",
      "source": [
        "# Define columns\n",
        "categorical_columns_3 = ['type', 'manufacturer', 'parent_category', 'sub_category_1', 'sub_category_2']\n",
        "# numerical_columns = ['price']\n",
        "# text_columns = ['name_normalized', 'description_normalized']\n",
        "\n",
        "# Fill missing values\n",
        "X_train_3[categorical_columns_3] = X_train_3[categorical_columns_3].fillna('missing')\n",
        "X_test_3[categorical_columns_3] = X_test_3[categorical_columns_3].fillna('missing')\n",
        "\n",
        "# One-hot encode categorical features\n",
        "encoder_3 = OneHotEncoder(handle_unknown='ignore')\n",
        "X_train_encoded_3 = encoder_3.fit_transform(X_train_3[categorical_columns_3])\n",
        "X_test_encoded_3 = encoder_3.transform(X_test_3[categorical_columns_3])\n",
        "\n",
        "# Print information about X_train_encoded and X_test_encoded\n",
        "print(\"Shape of X_train_encoded_3:\", X_train_encoded_3.shape)\n",
        "print(\"Data type of X_train_encoded_3:\", type(X_train_encoded_3))\n",
        "print(\"Data type of elements in X_train_encoded_3:\", X_train_encoded_3.dtype)\n",
        "print(\"Shape of X_test_encoded_3:\", X_test_encoded_3.shape)\n",
        "print(\"Data type of X_test_encoded_3:\", type(X_test_encoded_3))\n",
        "print(\"Data type of elements in X_test_encoded_3:\", X_test_encoded_3.dtype)\n",
        "\n",
        "# Scale numerical features\n",
        "scaler_3 = StandardScaler()\n",
        "X_train_scaled_3 = scaler_3.fit_transform(X_train_3[numerical_columns])\n",
        "X_test_scaled_3 = scaler_3.transform(X_test_3[numerical_columns])\n",
        "\n",
        "# Print information about X_train_scaled and X_test_scaled\n",
        "print(\"Shape of X_train_scaled_3:\", X_train_scaled_3.shape)\n",
        "print(\"Data type of elements in X_train_scaled_3:\", X_train_scaled_3.dtype)\n",
        "print(\"Shape of X_test_scaled_3:\", X_test_scaled_3.shape)\n",
        "print(\"Data type of elements in X_test_scaled_3:\", X_test_scaled_3.dtype)"
      ],
      "metadata": {
        "colab": {
          "base_uri": "https://localhost:8080/"
        },
        "id": "7UWrFjTJ4-y7",
        "outputId": "14c5078c-21d3-4614-8393-a3daa5372ea7"
      },
      "execution_count": 35,
      "outputs": [
        {
          "output_type": "stream",
          "name": "stdout",
          "text": [
            "Shape of X_train_encoded_3: (40032, 2943)\n",
            "Data type of X_train_encoded_3: <class 'scipy.sparse._csr.csr_matrix'>\n",
            "Data type of elements in X_train_encoded_3: float64\n",
            "Shape of X_test_encoded_3: (10009, 2943)\n",
            "Data type of X_test_encoded_3: <class 'scipy.sparse._csr.csr_matrix'>\n",
            "Data type of elements in X_test_encoded_3: float64\n",
            "Shape of X_train_scaled_3: (40032, 1)\n",
            "Data type of elements in X_train_scaled_3: float64\n",
            "Shape of X_test_scaled_3: (10009, 1)\n",
            "Data type of elements in X_test_scaled_3: float64\n"
          ]
        }
      ]
    },
    {
      "cell_type": "markdown",
      "source": [
        "Stage 5"
      ],
      "metadata": {
        "id": "zX9LC3rA5k-T"
      }
    },
    {
      "cell_type": "code",
      "source": [
        "# Define columns\n",
        "categorical_columns_4 = ['type', 'manufacturer', 'parent_category', 'sub_category_1', 'sub_category_2', 'sub_category_3']\n",
        "# numerical_columns = ['price']\n",
        "# text_columns = ['name_normalized', 'description_normalized']\n",
        "\n",
        "# Fill missing values\n",
        "X_train_4[categorical_columns_4] = X_train_4[categorical_columns_4].fillna('missing')\n",
        "X_test_4[categorical_columns_4] = X_test_4[categorical_columns_4].fillna('missing')\n",
        "\n",
        "# One-hot encode categorical features\n",
        "encoder_4 = OneHotEncoder(handle_unknown='ignore')\n",
        "X_train_encoded_4 = encoder_4.fit_transform(X_train_4[categorical_columns_4])\n",
        "X_test_encoded_4 = encoder_4.transform(X_test_4[categorical_columns_4])\n",
        "\n",
        "# Print information about X_train_encoded and X_test_encoded\n",
        "print(\"Shape of X_train_encoded_4:\", X_train_encoded_4.shape)\n",
        "print(\"Data type of X_train_encoded_4:\", type(X_train_encoded_4))\n",
        "print(\"Data type of elements in X_train_encoded_4:\", X_train_encoded_4.dtype)\n",
        "print(\"Shape of X_test_encoded_4:\", X_test_encoded_4.shape)\n",
        "print(\"Data type of X_test_encoded_4:\", type(X_test_encoded_4))\n",
        "print(\"Data type of elements in X_test_encoded_4:\", X_test_encoded_4.dtype)\n",
        "\n",
        "# Scale numerical features\n",
        "scaler_4 = StandardScaler()\n",
        "X_train_scaled_4 = scaler_4.fit_transform(X_train_4[numerical_columns])\n",
        "X_test_scaled_4 = scaler_4.transform(X_test_4[numerical_columns])\n",
        "\n",
        "# Print information about X_train_scaled and X_test_scaled\n",
        "print(\"Shape of X_train_scaled_4:\", X_train_scaled_4.shape)\n",
        "print(\"Data type of elements in X_train_scaled_4:\", X_train_scaled_4.dtype)\n",
        "print(\"Shape of X_test_scaled_4:\", X_test_scaled_4.shape)\n",
        "print(\"Data type of elements in X_test_scaled_4:\", X_test_scaled_4.dtype)"
      ],
      "metadata": {
        "colab": {
          "base_uri": "https://localhost:8080/"
        },
        "id": "0E-BaTiE4-rh",
        "outputId": "0fc98aa5-895c-4d65-e0c7-d19d5a80f750"
      },
      "execution_count": 37,
      "outputs": [
        {
          "output_type": "stream",
          "name": "stdout",
          "text": [
            "Shape of X_train_encoded_4: (40032, 3632)\n",
            "Data type of X_train_encoded_4: <class 'scipy.sparse._csr.csr_matrix'>\n",
            "Data type of elements in X_train_encoded_4: float64\n",
            "Shape of X_test_encoded_4: (10009, 3632)\n",
            "Data type of X_test_encoded_4: <class 'scipy.sparse._csr.csr_matrix'>\n",
            "Data type of elements in X_test_encoded_4: float64\n",
            "Shape of X_train_scaled_4: (40032, 1)\n",
            "Data type of elements in X_train_scaled_4: float64\n",
            "Shape of X_test_scaled_4: (10009, 1)\n",
            "Data type of elements in X_test_scaled_4: float64\n"
          ]
        }
      ]
    },
    {
      "cell_type": "code",
      "source": [
        "from scipy.sparse import hstack\n",
        "# stage 1\n",
        "X_train_processed = hstack([X_train_encoded, X_train_scaled]).astype(np.float32)\n",
        "X_test_processed = hstack([X_test_encoded, X_test_scaled]).astype(np.float32)\n",
        "\n",
        "# stage 2\n",
        "X_train_processed_1 = hstack([X_train_encoded_1, X_train_scaled_1]).astype(np.float32)\n",
        "X_test_processed_1 = hstack([X_test_encoded_1, X_test_scaled_1]).astype(np.float32)\n",
        "\n",
        "# stage 3\n",
        "X_train_processed_2 = hstack([X_train_encoded_2, X_train_scaled_2]).astype(np.float32)\n",
        "X_test_processed_2 = hstack([X_test_encoded_2, X_test_scaled_2]).astype(np.float32)\n",
        "\n",
        "# stage 4\n",
        "X_train_processed_3 = hstack([X_train_encoded_3, X_train_scaled_3]).astype(np.float32)\n",
        "X_test_processed_3 = hstack([X_test_encoded_3, X_test_scaled_3]).astype(np.float32)\n",
        "\n",
        "# stage 5\n",
        "X_train_processed_4 = hstack([X_train_encoded_4, X_train_scaled_4]).astype(np.float32)\n",
        "X_test_processed_4 = hstack([X_test_encoded_4, X_test_scaled_4]).astype(np.float32)"
      ],
      "metadata": {
        "id": "CgYBDhCwHKQA"
      },
      "execution_count": 40,
      "outputs": []
    },
    {
      "cell_type": "code",
      "source": [
        "# Dim 1\n",
        "print(\"Data type of X_train_processed:\", X_train_processed.dtype)\n",
        "print(\"Data type of X_test_processed:\", X_test_processed.dtype)\n",
        "print(\"X_train_processed shape:\", X_train_processed.shape)\n",
        "print(\"X_test_processed shape:\", X_test_processed.shape)"
      ],
      "metadata": {
        "colab": {
          "base_uri": "https://localhost:8080/"
        },
        "id": "FvYoUCeHHjx_",
        "outputId": "61b6f3c1-d6bf-4b4a-fcd5-cc6f7e54ab90"
      },
      "execution_count": 41,
      "outputs": [
        {
          "output_type": "stream",
          "name": "stdout",
          "text": [
            "Data type of X_train_processed: float32\n",
            "Data type of X_test_processed: float32\n",
            "X_train_processed shape: (40032, 2196)\n",
            "X_test_processed shape: (10009, 2196)\n"
          ]
        }
      ]
    },
    {
      "cell_type": "code",
      "source": [
        "# Dim 2\n",
        "print(\"Data type of X_train_processed_1:\", X_train_processed_1.dtype)\n",
        "print(\"Data type of X_test_processed_1:\", X_test_processed_1.dtype)\n",
        "print(\"X_train_processed_1 shape:\", X_train_processed_1.shape)\n",
        "print(\"X_test_processed_1 shape:\", X_test_processed_1.shape)"
      ],
      "metadata": {
        "colab": {
          "base_uri": "https://localhost:8080/"
        },
        "id": "4VhfSkN9I1vK",
        "outputId": "180da8c5-683c-4361-98ce-f51e50cd01ab"
      },
      "execution_count": 42,
      "outputs": [
        {
          "output_type": "stream",
          "name": "stdout",
          "text": [
            "Data type of X_train_processed_1: float32\n",
            "Data type of X_test_processed_1: float32\n",
            "X_train_processed_1 shape: (40032, 2254)\n",
            "X_test_processed_1 shape: (10009, 2254)\n"
          ]
        }
      ]
    },
    {
      "cell_type": "code",
      "source": [
        "# Dim 3\n",
        "print(\"Data type of X_train_processed_2:\", X_train_processed_2.dtype)\n",
        "print(\"Data type of X_test_processed_2:\", X_test_processed_2.dtype)\n",
        "print(\"X_train_processed_2 shape:\", X_train_processed_2.shape)\n",
        "print(\"X_test_processed_2 shape:\", X_test_processed_2.shape)"
      ],
      "metadata": {
        "colab": {
          "base_uri": "https://localhost:8080/"
        },
        "id": "1Az3OeCXI1rI",
        "outputId": "3b70f69e-056d-4351-9485-bd9313c99b87"
      },
      "execution_count": 43,
      "outputs": [
        {
          "output_type": "stream",
          "name": "stdout",
          "text": [
            "Data type of X_train_processed_2: float32\n",
            "Data type of X_test_processed_2: float32\n",
            "X_train_processed_2 shape: (40032, 2399)\n",
            "X_test_processed_2 shape: (10009, 2399)\n"
          ]
        }
      ]
    },
    {
      "cell_type": "code",
      "source": [
        "# Dim 4\n",
        "print(\"Data type of X_train_processed_3:\", X_train_processed_3.dtype)\n",
        "print(\"Data type of X_test_processed_3:\",X_test_processed_3.dtype)\n",
        "print(\"X_train_processed_3 shape:\", X_train_processed_3.shape)\n",
        "print(\"X_test_processed_3 shape:\", X_test_processed_3.shape)"
      ],
      "metadata": {
        "colab": {
          "base_uri": "https://localhost:8080/"
        },
        "id": "EBSG8gbeI1ng",
        "outputId": "902e994e-05fa-4a26-997f-66ff75d4eef8"
      },
      "execution_count": 45,
      "outputs": [
        {
          "output_type": "stream",
          "name": "stdout",
          "text": [
            "Data type of X_train_processed_3: float32\n",
            "Data type of X_test_processed_3: float32\n",
            "X_train_processed_3 shape: (40032, 2944)\n",
            "X_test_processed_3 shape: (10009, 2944)\n"
          ]
        }
      ]
    },
    {
      "cell_type": "code",
      "source": [
        "# Dim 5\n",
        "print(\"Data type of X_train_processed_4:\", X_train_processed_4.dtype)\n",
        "print(\"Data type of X_test_processed_4:\", X_test_processed_4.dtype)\n",
        "print(\"X_train_processed_4 shape:\", X_train_processed_4.shape)\n",
        "print(\"X_test_processed_4 shape:\", X_test_processed_4.shape)"
      ],
      "metadata": {
        "colab": {
          "base_uri": "https://localhost:8080/"
        },
        "id": "vIkzAILmI5Iv",
        "outputId": "945746cf-2be2-42d4-f3d9-49007732e383"
      },
      "execution_count": 46,
      "outputs": [
        {
          "output_type": "stream",
          "name": "stdout",
          "text": [
            "Data type of X_train_processed_4: float32\n",
            "Data type of X_test_processed_4: float32\n",
            "X_train_processed_4 shape: (40032, 3633)\n",
            "X_test_processed_4 shape: (10009, 3633)\n"
          ]
        }
      ]
    },
    {
      "cell_type": "code",
      "source": [],
      "metadata": {
        "id": "EVfWlKtNKCOR"
      },
      "execution_count": null,
      "outputs": []
    }
  ]
}