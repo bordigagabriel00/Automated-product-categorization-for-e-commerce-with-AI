{
 "cells": [
  {
   "cell_type": "code",
   "execution_count": 21,
   "metadata": {},
   "outputs": [
    {
     "name": "stdout",
     "output_type": "stream",
     "text": [
      "                                              name      type  price  \\\n",
      "0                Duracell - AAA Batteries (4-Pack)  HardGood   5.49   \n",
      "1  Duracell - AA 1.5V CopperTop Batteries (4-Pack)  HardGood   5.49   \n",
      "2                 Duracell - AA Batteries (8-Pack)  HardGood   7.49   \n",
      "3            Energizer - MAX Batteries AA (4-Pack)  HardGood   4.99   \n",
      "4                  Duracell - C Batteries (4-Pack)  HardGood   8.99   \n",
      "\n",
      "                                         description manufacturer  \\\n",
      "0  Compatible with select electronic devices; AAA...     Duracell   \n",
      "1  Long-lasting energy; DURALOCK Power Preserve t...     Duracell   \n",
      "2  Compatible with select electronic devices; AA ...     Duracell   \n",
      "3  4-pack AA alkaline batteries; battery tester i...    Energizer   \n",
      "4  Compatible with select electronic devices; C s...     Duracell   \n",
      "\n",
      "                                           url              parent_category  \\\n",
      "0                duracell aaa batteries 4 pack  Connected Home & Housewares   \n",
      "1  duracell aa 1 5v coppertop batteries 4 pack  Connected Home & Housewares   \n",
      "2                 duracell aa batteries 8 pack  Connected Home & Housewares   \n",
      "3            energizer max batteries aa 4 pack  Connected Home & Housewares   \n",
      "4                  duracell c batteries 4 pack  Connected Home & Housewares   \n",
      "\n",
      "  sub_category_1        sub_category_2       sub_category_3 sub_category_4  \n",
      "0     Housewares   Household Batteries   Alkaline Batteries            NaN  \n",
      "1     Housewares   Household Batteries   Alkaline Batteries            NaN  \n",
      "2     Housewares   Household Batteries   Alkaline Batteries            NaN  \n",
      "3     Housewares   Household Batteries   Alkaline Batteries            NaN  \n",
      "4     Housewares   Household Batteries   Alkaline Batteries            NaN  \n",
      "<class 'pandas.core.frame.DataFrame'>\n",
      "RangeIndex: 50041 entries, 0 to 50040\n",
      "Data columns (total 11 columns):\n",
      " #   Column           Non-Null Count  Dtype  \n",
      "---  ------           --------------  -----  \n",
      " 0   name             50040 non-null  object \n",
      " 1   type             50041 non-null  object \n",
      " 2   price            50041 non-null  float64\n",
      " 3   description      50041 non-null  object \n",
      " 4   manufacturer     49975 non-null  object \n",
      " 5   url              50040 non-null  object \n",
      " 6   parent_category  50041 non-null  object \n",
      " 7   sub_category_1   49294 non-null  object \n",
      " 8   sub_category_2   43948 non-null  object \n",
      " 9   sub_category_3   27955 non-null  object \n",
      " 10  sub_category_4   9788 non-null   object \n",
      "dtypes: float64(1), object(10)\n",
      "memory usage: 4.2+ MB\n"
     ]
    }
   ],
   "source": [
    "import pandas as pd\n",
    "import numpy as np\n",
    "import matplotlib.pyplot as plt\n",
    "import seaborn as sns\n",
    "import os\n",
    "\n",
    "# Load the data\n",
    "df = pd.read_csv('alpha2_dataset.csv')\n",
    "\n",
    "# Print the first 5 rows of the dataframe   \n",
    "print(df.head())\n",
    "\n",
    "# Print the number of rows and columns in the dataframe\n",
    "df.info()\n"
   ]
  },
  {
   "cell_type": "code",
   "execution_count": 34,
   "metadata": {},
   "outputs": [
    {
     "name": "stdout",
     "output_type": "stream",
     "text": [
      "parent_category\n",
      "Voice Recognition Software             9\n",
      "Bunk Beds & Mattresses                 8\n",
      "Carfi Instore Only                     7\n",
      "MP Pending                             7\n",
      "Outlet Store                           7\n",
      "Salamander Designs                     6\n",
      "Other Product Categories               6\n",
      "Furniture                              4\n",
      "XBox_Buy2Get1_20130616                 4\n",
      "Ink for Hewlett-Packard                3\n",
      "Gift Ideas                             3\n",
      "Geek Squad Services                    3\n",
      "Beverage & Wine Coolers                3\n",
      "Accessories                            2\n",
      "Freestanding Gas Ranges                2\n",
      "Analog Audio Cables                    2\n",
      "Home                                   2\n",
      "Single Electric Wall Ovens             2\n",
      "Sports                                 2\n",
      "Flight                                 1\n",
      "Headphones                             1\n",
      "Casino                                 1\n",
      "Wine Chillers                          1\n",
      "Education                              1\n",
      "Board & Puzzle                         1\n",
      "P&S Camera Chargers                    1\n",
      "Guitar Accessories                     1\n",
      "AV Surge Protection                    1\n",
      "Ink                                    1\n",
      "Camcorder & Camera Batteries           1\n",
      "Double Electric Wall Ovens             1\n",
      "Karaoke Software                       1\n",
      "Wireless Systems & Cameras             1\n",
      "Video Switchers                        1\n",
      "Remote Controls                        1\n",
      "Poker Tables                           1\n",
      "Aluminum Tripods                       1\n",
      "Gadgets                                1\n",
      "Exclusives                             1\n",
      "Electric Bike & Scooter Accessories    1\n",
      "Name: count, dtype: int64\n"
     ]
    }
   ],
   "source": [
    "#Explore the parent_category column\n",
    "\n",
    "# Display the categories that appear 10 times or less\n",
    "global_counts = df['parent_category'].value_counts()\n",
    "rare_categories = global_counts[global_counts <= 10]\n",
    "print(rare_categories)\n",
    "\n",
    "# Assign the rare categories to a new list\n",
    "rare_categories_list = rare_categories.index.tolist()"
   ]
  },
  {
   "cell_type": "code",
   "execution_count": 39,
   "metadata": {},
   "outputs": [
    {
     "name": "stdout",
     "output_type": "stream",
     "text": [
      "parent_category\n",
      "Appliances                       8747\n",
      "Cell Phones                      6878\n",
      "Computers & Tablets              6077\n",
      "Video Games                      5837\n",
      "Connected Home & Housewares      4518\n",
      "Audio                            3603\n",
      "Cameras & Camcorders             3250\n",
      "Musical Instruments              3009\n",
      "Car Electronics & GPS            2655\n",
      "TV & Home Theater                2139\n",
      "Health                           1265\n",
      "Toys                              615\n",
      "Best Buy Gift Cards               454\n",
      "Wearable Technology               283\n",
      "Name Brands                       214\n",
      "Magnolia Home Theater             148\n",
      "other                             103\n",
      "Geek Squad                         96\n",
      "MP Exclusives                      50\n",
      "Movies & Music                     46\n",
      "H/VG_X360/Games/B2G1_20130602      19\n",
      "Custom Parts                       18\n",
      "In-Store Only                      17\n",
      "Name: count, dtype: int64\n",
      "Number of catgories for parent_category: 23\n"
     ]
    }
   ],
   "source": [
    "# Replace the rare categories with the string 'other' in the original dataframe\n",
    "df['parent_category'] = df['parent_category'].replace(rare_categories_list, 'other')\n",
    "\n",
    "# Display value counts for the parent_category column\n",
    "print(df['parent_category'].value_counts())\n",
    "print(\"Number of catgories for parent_category:\",df['parent_category'].nunique())\n"
   ]
  },
  {
   "cell_type": "code",
   "execution_count": 44,
   "metadata": {},
   "outputs": [
    {
     "name": "stdout",
     "output_type": "stream",
     "text": [
      "                                                   name      type  price  \\\n",
      "7     Directed Electronics - Viper Audio Glass Break...  HardGood  39.99   \n",
      "766   3M - Filtrete Filter Set for BISSELL Pet Hair ...  HardGood  22.99   \n",
      "841         Axion - Axion 7\" Widescreen Portable LCD TV  HardGood  99.99   \n",
      "1738  Scosche - Speaker Harness for Most 1986-1997 F...  HardGood  19.99   \n",
      "2082                  Megamind: The Blue Defender - PSP      Game  14.50   \n",
      "\n",
      "                                            description          manufacturer  \\\n",
      "7     From our expanded online assortment; compatibl...  Directed Electronics   \n",
      "766   Compatible with BISSELL pet hair eraser canist...                    3M   \n",
      "841   Immerse yourself in entertainment &#8212; when...                 Axion   \n",
      "1738  Compatible with most 1986-1997 Ford vehicles; ...               Scosche   \n",
      "2082  Be bad, blue and brilliant on a mega mission t...                   THQ   \n",
      "\n",
      "                                                    url parent_category  \\\n",
      "7     directed electronics viper audio glass break s...           other   \n",
      "766   3m filtrete filter set for bissell pet hair er...           other   \n",
      "841            axion axion 7 widescreen portable lcd tv           other   \n",
      "1738  scosche speaker harness for most 1986 1997 for...           other   \n",
      "2082                     megamind the blue defender psp           other   \n",
      "\n",
      "     sub_category_1 sub_category_2 sub_category_3 sub_category_4  \n",
      "7               NaN            NaN            NaN            NaN  \n",
      "766             NaN            NaN            NaN            NaN  \n",
      "841             NaN            NaN            NaN            NaN  \n",
      "1738            NaN            NaN            NaN            NaN  \n",
      "2082            NaN            NaN            NaN            NaN  \n"
     ]
    }
   ],
   "source": [
    "# New dataframe filtering parent_category column=other\n",
    "\n",
    "df_filter = df[df['parent_category'] == 'other']\n",
    "\n",
    "# Display the first 5 rows of the new dataframe\n",
    "print(df_filter.head())\n",
    "\n"
   ]
  },
  {
   "cell_type": "code",
   "execution_count": 56,
   "metadata": {},
   "outputs": [
    {
     "name": "stdout",
     "output_type": "stream",
     "text": [
      "sub_category_1\n",
      "Unique Gifts                    2\n",
      "Household Essentials            1\n",
      "Him                             1\n",
      "Home Security & Surveillance    1\n",
      "Name: count, dtype: int64\n",
      "[' Unique Gifts' ' Household Essentials' ' Him'\n",
      " ' Home Security & Surveillance']\n"
     ]
    }
   ],
   "source": [
    "# Value counts sub1_category column\n",
    "print(df_filter['sub_category_1'].value_counts())\n",
    "\n",
    "# List of unique values in sub_category_1 column, without NaN\n",
    "\n",
    "unique_values_sub1 = df_filter['sub_category_1'].dropna().unique()\n",
    "print(unique_values_sub1)\n",
    "\n",
    "# unique_values_sub1 replace for other in sub_category_1 column, original dataframe\n",
    "df['sub_category_1'] = df['sub_category_1'].replace(unique_values_sub1, 'other')\n",
    "\n",
    "\n"
   ]
  },
  {
   "cell_type": "code",
   "execution_count": 57,
   "metadata": {},
   "outputs": [
    {
     "name": "stdout",
     "output_type": "stream",
     "text": [
      "sub_category_2\n",
      "Light Bulbs                  1\n",
      "Home Surveillance Cameras    1\n",
      "Name: count, dtype: int64\n",
      "[' Light Bulbs' ' Home Surveillance Cameras']\n"
     ]
    }
   ],
   "source": [
    "# Value counts sub2_category column\n",
    "print(df_filter['sub_category_2'].value_counts())\n",
    "\n",
    "# List of unique values in sub_category_2 column, without NaN\n",
    "\n",
    "unique_values_sub2 = df_filter['sub_category_2'].dropna().unique()\n",
    "print(unique_values_sub2)\n",
    "\n",
    "# unique_values_sub2 replace for other in sub_category_2 column, original dataframe\n",
    "df['sub_category_2'] = df['sub_category_2'].replace(unique_values_sub2, 'other')"
   ]
  },
  {
   "cell_type": "code",
   "execution_count": 58,
   "metadata": {},
   "outputs": [
    {
     "name": "stdout",
     "output_type": "stream",
     "text": [
      "sub_category_3\n",
      "Incandescent Light Bulbs      1\n",
      "Wireless Systems & Cameras    1\n",
      "Name: count, dtype: int64\n",
      "[' Incandescent Light Bulbs' ' Wireless Systems & Cameras']\n"
     ]
    }
   ],
   "source": [
    "# Value counts sub3_category column\n",
    "print(df_filter['sub_category_3'].value_counts())\n",
    "\n",
    "# List of unique values in sub_category_3 column, without NaN\n",
    "\n",
    "unique_values_sub3 = df_filter['sub_category_3'].dropna().unique()\n",
    "print(unique_values_sub3)\n",
    "\n",
    "# unique_values_sub3 replace for other in sub_category_3 column, original dataframe\n",
    "df['sub_category_3'] = df['sub_category_3'].replace(unique_values_sub3, 'other')"
   ]
  },
  {
   "cell_type": "code",
   "execution_count": 59,
   "metadata": {},
   "outputs": [
    {
     "name": "stdout",
     "output_type": "stream",
     "text": [
      "Series([], Name: count, dtype: int64)\n",
      "[]\n"
     ]
    }
   ],
   "source": [
    "# Value counts sub4_category column\n",
    "print(df_filter['sub_category_4'].value_counts())\n",
    "\n",
    "# List of unique values in sub_category_4 column, without NaN\n",
    "\n",
    "unique_values_sub4 = df_filter['sub_category_4'].dropna().unique()\n",
    "print(unique_values_sub4)\n",
    "\n",
    "# unique_values_sub4 replace for other in sub_category_4 column, original dataframe\n",
    "df['sub_category_4'] = df['sub_category_4'].replace(unique_values_sub4, 'other')"
   ]
  },
  {
   "cell_type": "code",
   "execution_count": 60,
   "metadata": {},
   "outputs": [
    {
     "name": "stdout",
     "output_type": "stream",
     "text": [
      "<class 'pandas.core.frame.DataFrame'>\n",
      "RangeIndex: 50041 entries, 0 to 50040\n",
      "Data columns (total 11 columns):\n",
      " #   Column           Non-Null Count  Dtype  \n",
      "---  ------           --------------  -----  \n",
      " 0   name             50040 non-null  object \n",
      " 1   type             50041 non-null  object \n",
      " 2   price            50041 non-null  float64\n",
      " 3   description      50041 non-null  object \n",
      " 4   manufacturer     49975 non-null  object \n",
      " 5   url              50040 non-null  object \n",
      " 6   parent_category  50041 non-null  object \n",
      " 7   sub_category_1   49294 non-null  object \n",
      " 8   sub_category_2   43948 non-null  object \n",
      " 9   sub_category_3   27955 non-null  object \n",
      " 10  sub_category_4   9788 non-null   object \n",
      "dtypes: float64(1), object(10)\n",
      "memory usage: 4.2+ MB\n"
     ]
    }
   ],
   "source": [
    "#check the original dataframe\n",
    "df.info()"
   ]
  },
  {
   "cell_type": "code",
   "execution_count": 71,
   "metadata": {},
   "outputs": [
    {
     "name": "stdout",
     "output_type": "stream",
     "text": [
      "parent_category\n",
      "Appliances                       8747\n",
      "Cell Phones                      6878\n",
      "Computers & Tablets              6077\n",
      "Video Games                      5837\n",
      "Connected Home & Housewares      4518\n",
      "Audio                            3603\n",
      "Cameras & Camcorders             3250\n",
      "Musical Instruments              3009\n",
      "Car Electronics & GPS            2655\n",
      "TV & Home Theater                2139\n",
      "Health                           1265\n",
      "Toys                              615\n",
      "Best Buy Gift Cards               454\n",
      "Wearable Technology               283\n",
      "Name Brands                       214\n",
      "Magnolia Home Theater             148\n",
      "other                             103\n",
      "Geek Squad                         96\n",
      "MP Exclusives                      50\n",
      "Movies & Music                     46\n",
      "H/VG_X360/Games/B2G1_20130602      19\n",
      "Custom Parts                       18\n",
      "In-Store Only                      17\n",
      "Name: count, dtype: int64\n"
     ]
    }
   ],
   "source": [
    "# Dispaly values for parent_category column\n",
    "print(df['parent_category'].value_counts())\n"
   ]
  },
  {
   "cell_type": "code",
   "execution_count": 80,
   "metadata": {},
   "outputs": [
    {
     "name": "stdout",
     "output_type": "stream",
     "text": [
      "sub_category_1\n",
      "Cell Phone Accessories                6149\n",
      "Pre-Owned Games                       3556\n",
      "Small Kitchen Appliances              3138\n",
      "Computer Accessories & Peripherals    2413\n",
      "Digital Camera Accessories            1865\n",
      "                                      ... \n",
      "Wacom                                    1\n",
      "Sony                                     1\n",
      "Wearable Technology Services             1\n",
      "AT&T                                     1\n",
      "Mobile Broadband                         1\n",
      "Name: count, Length: 145, dtype: int64\n"
     ]
    }
   ],
   "source": [
    "# Display values for sub_category_1 column\n",
    "print(df['sub_category_1'].value_counts())"
   ]
  },
  {
   "cell_type": "code",
   "execution_count": 73,
   "metadata": {},
   "outputs": [
    {
     "name": "stdout",
     "output_type": "stream",
     "text": [
      "sub_category_2\n",
      "iPhone Accessories              2079\n",
      "Cell Phone Cases & Clips        1847\n",
      "Cooktops & Ovens                1345\n",
      "Car Audio Installation Parts    1333\n",
      "Printer Ink & Toner             1091\n",
      "                                ... \n",
      "PSP Accessories                    1\n",
      "Costumes & Pretend Play            1\n",
      "Screen Protector Foils             1\n",
      "Mounts & Stands                    1\n",
      "PS Vita Consoles                   1\n",
      "Name: count, Length: 557, dtype: int64\n"
     ]
    }
   ],
   "source": [
    "# Dispaly values for sub_category_2 column\n",
    "print(df['sub_category_2'].value_counts())"
   ]
  },
  {
   "cell_type": "code",
   "execution_count": 81,
   "metadata": {},
   "outputs": [
    {
     "name": "stdout",
     "output_type": "stream",
     "text": [
      "sub_category_3\n",
      "iPhone Cases & Clips        1892\n",
      "Deck Installation Parts     1092\n",
      "Covers & Keyboard Folios     821\n",
      "Bakeware & Cutlery           724\n",
      "Ranges                       606\n",
      "                            ... \n",
      "GoPro Camera BacPacs           1\n",
      "GPS Antennas & Cables          1\n",
      "Outdoor TVs                    1\n",
      "Apple iMac                     1\n",
      "iPod-Ready Decks               1\n",
      "Name: count, Length: 718, dtype: int64\n"
     ]
    }
   ],
   "source": [
    "# Dispaly values for sub_category_3 column\n",
    "print(df['sub_category_3'].value_counts())"
   ]
  },
  {
   "cell_type": "code",
   "execution_count": 82,
   "metadata": {},
   "outputs": [
    {
     "name": "stdout",
     "output_type": "stream",
     "text": [
      "sub_category_4\n",
      "Dash Installation Kits                 739\n",
      "Cookware                               486\n",
      "All TV Stands                          409\n",
      "Electric Ranges                        303\n",
      "Gas Ranges                             284\n",
      "                                      ... \n",
      "Specialty Keyboards                      1\n",
      "Wearable Pet Cameras                     1\n",
      "Wireless Pet Fences                      1\n",
      "Microsoft Surface Pro 4 Accessories      1\n",
      "Shower Radios                            1\n",
      "Name: count, Length: 299, dtype: int64\n"
     ]
    }
   ],
   "source": [
    "# Dispaly values for sub_category_4 column\n",
    "print(df['sub_category_4'].value_counts())"
   ]
  },
  {
   "cell_type": "code",
   "execution_count": 83,
   "metadata": {},
   "outputs": [],
   "source": [
    "# Save the cleaned dataframe to a new csv file\n",
    "df.to_csv('alpha2_dataset_cleaned.csv', index=False)\n"
   ]
  }
 ],
 "metadata": {
  "kernelspec": {
   "display_name": "sprint6env",
   "language": "python",
   "name": "python3"
  },
  "language_info": {
   "codemirror_mode": {
    "name": "ipython",
    "version": 3
   },
   "file_extension": ".py",
   "mimetype": "text/x-python",
   "name": "python",
   "nbconvert_exporter": "python",
   "pygments_lexer": "ipython3",
   "version": "3.11.8"
  }
 },
 "nbformat": 4,
 "nbformat_minor": 2
}
